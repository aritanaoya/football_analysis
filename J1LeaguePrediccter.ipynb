{
  "nbformat": 4,
  "nbformat_minor": 0,
  "metadata": {
    "colab": {
      "name": "J1LeaguePrediccter.ipynb",
      "provenance": [],
      "authorship_tag": "ABX9TyNMA4e3AW9nE21F3tLfet4j",
      "include_colab_link": true
    },
    "kernelspec": {
      "name": "python3",
      "display_name": "Python 3"
    },
    "language_info": {
      "name": "python"
    }
  },
  "cells": [
    {
      "cell_type": "markdown",
      "metadata": {
        "id": "view-in-github",
        "colab_type": "text"
      },
      "source": [
        "<a href=\"https://colab.research.google.com/github/aritanaoya/football_analysis/blob/main/J1LeaguePrediccter.ipynb\" target=\"_parent\"><img src=\"https://colab.research.google.com/assets/colab-badge.svg\" alt=\"Open In Colab\"/></a>"
      ]
    },
    {
      "cell_type": "markdown",
      "metadata": {
        "id": "3xZrn0jpdvqN"
      },
      "source": [
        "# import Module"
      ]
    },
    {
      "cell_type": "code",
      "metadata": {
        "id": "XbtKgA4RoCBx"
      },
      "source": [
        "import pandas as pd\n",
        "import numpy as np\n",
        "import matplotlib.pyplot as plt\n",
        "import datetime\n",
        "from tqdm.notebook import tqdm\n",
        "from sklearn.metrics import roc_auc_score\n",
        "from sklearn.preprocessing import LabelEncoder\n",
        "import lightgbm as lgb\n",
        "import requests\n",
        "from bs4 import BeautifulSoup\n",
        "import time\n",
        "from tqdm.notebook import tqdm\n",
        "import re\n",
        "from urllib.request import urlopen\n",
        "from contextlib import closing\n",
        "from operator import attrgetter\n",
        "from pprint import pprint\n",
        "from subprocess import DEVNULL\n",
        "from subprocess import Popen\n",
        "import time\n",
        "!pip install pycaret"
      ],
      "execution_count": null,
      "outputs": []
    },
    {
      "cell_type": "markdown",
      "metadata": {
        "id": "6nRPEPOGdzaM"
      },
      "source": [
        "# Team Dic"
      ]
    },
    {
      "cell_type": "code",
      "metadata": {
        "id": "KSJMks2Vdu8E",
        "outputId": "8c3330c8-4d03-4639-ffd1-ad1b05d3d8af",
        "colab": {
          "base_uri": "https://localhost:8080/",
          "height": 35
        }
      },
      "source": [
        "TeamDic = {'札幌':'276', '仙台':'238'}\n",
        "TeamIDDic = {'276':'札幌', '238':'仙台'}\n",
        "TeamDic['札幌']"
      ],
      "execution_count": 15,
      "outputs": [
        {
          "output_type": "execute_result",
          "data": {
            "application/vnd.google.colaboratory.intrinsic+json": {
              "type": "string"
            },
            "text/plain": [
              "'276'"
            ]
          },
          "metadata": {
            "tags": []
          },
          "execution_count": 15
        }
      ]
    },
    {
      "cell_type": "markdown",
      "metadata": {
        "id": "kh2mjSZ2DLy1"
      },
      "source": [
        "\"comparison1_team\"option value=\"0\"チーム選択\"276\"札幌\"31219\"八戸\"30673\"岩手\"238\"仙台\"30310\"秋田\"294\"山形\"30674\"福島\"120\"鹿島\"176\"水戸\"30305\"栃木\"30103\"群馬\"122\"浦和\"199\"大宮\"121\"千葉\"132\"柏\"270\"FC東京\"123\"東京Ｖ\"30532\"町田\"86\"川崎Ｆ\"124\"横浜FM\"296\"横浜FC\"30675\"YS横浜\"130\"湘南\"30676\"相模原\"150\"甲府\"30528\"松本\"30535\"長野\"193\"新潟\"30308\"富山\"30526\"金沢\"126\"清水\"131\"磐田\"30677\"藤枝\"31296\"沼津\"127\"名古屋\"30302\"岐阜\"134\"京都\"128\"Ｇ大阪\"133\"Ｃ大阪\"136\"神戸\"30000\"鳥取\"30314\"岡山\"129\"広島\"30851\"山口\"30536\"讃岐\"30116\"徳島\"30148\"愛媛\"30974\"今治\"135\"福岡\"30313\"北九州\"269\"鳥栖\"30531\"長崎\"30303\"熊本\"207\"大分\"31508\"宮崎\"31042\"鹿児島\"30317\"琉球"
      ]
    },
    {
      "cell_type": "code",
      "metadata": {
        "id": "OzhrGlntocaK"
      },
      "source": [
        "# 札幌 276\n",
        "# 仙台 238 \n",
        "def scrape(homeTeamID, awayTeamID, year):\n",
        "    data = pd.DataFrame()\n",
        "    \n",
        "    url = 'https://www.football-lab.jp/comparison/team/' + year + '/' + homeTeamID + '/' + year + '/' + awayTeamID\n",
        "    #チャンスビルディングポイント\n",
        "    df = pd.read_html(url)[12]\n",
        "    df = df.drop([0, 2, 4,6,8,10,12,14,16]).drop(df.columns[[0,1,5,6]], axis=1)\n",
        "    \n",
        "    # #チームスタイル\n",
        "    #指数\n",
        "    # df2 = pd.read_html(url)[13]\n",
        "    # df2 = df2.drop([0,2,4,6,8,10,12,14]).drop(df2.columns[[0,1,5,6]], axis=1)\n",
        "    #チャンス構築率\n",
        "    df3 = pd.read_html(url)[16]\n",
        "    df3 = df3.drop([0,2,4,6,8,10,11,13,15,17,19]).drop(df3.columns[[0,1,5,6]], axis=1)\n",
        "    #ゴール期待値\n",
        "    df4 = pd.read_html(url)[17]\n",
        "    df4 = df4.drop([0,2,4,6]).drop(df4.columns[[0,1,5,6]], axis=1)\n",
        "    #トラッキングデータ\n",
        "    df5 = pd.read_html(url)[20]\n",
        "    df5 = df5.drop([0,2,4,6]).drop(df5.columns[[0,1,5,6]], axis=1)\n",
        "    #他のスタッツ\n",
        "    df6 = pd.read_html(url)[35]\n",
        "    df6 = df6.drop([0,2,4,6,8,10,12,14,16,18,20,22,24,26,28,30,32,34]).drop(df6.columns[[0,1,5,6]], axis=1)\n",
        "\n",
        "    df = pd.concat([df,df3,df4,df5,df6])\n",
        "    df = df.reset_index(drop=True)\n",
        "    df = df.rename(columns={'試合平均': 'homeTeamData','Unnamed: 3': 'Data','試合平均.1': 'awayTeamData'})\n",
        "    df = df[['Data', 'homeTeamData', 'awayTeamData']]\n",
        "\n",
        "    html = requests.get(url)\n",
        "    html.encoding = \"UTF-8\"\n",
        "    soup = BeautifulSoup(html.text, \"html.parser\")\n",
        "\n",
        "    texts = soup.find('div', attrs={'class': 'gameTbl'}).text\n",
        "    texts = re.findall(r'\\w+', texts)\n",
        "    \n",
        "    return df.T"
      ],
      "execution_count": 6,
      "outputs": []
    },
    {
      "cell_type": "code",
      "metadata": {
        "colab": {
          "base_uri": "https://localhost:8080/",
          "height": 264
        },
        "id": "1kQ4mDLc0Lv0",
        "outputId": "1b415781-273c-4f39-cb95-e741933935dc"
      },
      "source": [
        "scrape('276', '238', '2021')"
      ],
      "execution_count": 7,
      "outputs": [
        {
          "output_type": "execute_result",
          "data": {
            "text/html": [
              "<div>\n",
              "<style scoped>\n",
              "    .dataframe tbody tr th:only-of-type {\n",
              "        vertical-align: middle;\n",
              "    }\n",
              "\n",
              "    .dataframe tbody tr th {\n",
              "        vertical-align: top;\n",
              "    }\n",
              "\n",
              "    .dataframe thead th {\n",
              "        text-align: right;\n",
              "    }\n",
              "</style>\n",
              "<table border=\"1\" class=\"dataframe\">\n",
              "  <thead>\n",
              "    <tr style=\"text-align: right;\">\n",
              "      <th></th>\n",
              "      <th>0</th>\n",
              "      <th>1</th>\n",
              "      <th>2</th>\n",
              "      <th>3</th>\n",
              "      <th>4</th>\n",
              "      <th>5</th>\n",
              "      <th>6</th>\n",
              "      <th>7</th>\n",
              "      <th>8</th>\n",
              "      <th>9</th>\n",
              "      <th>10</th>\n",
              "      <th>11</th>\n",
              "      <th>12</th>\n",
              "      <th>13</th>\n",
              "      <th>14</th>\n",
              "      <th>15</th>\n",
              "      <th>16</th>\n",
              "      <th>17</th>\n",
              "      <th>18</th>\n",
              "      <th>19</th>\n",
              "      <th>20</th>\n",
              "      <th>21</th>\n",
              "      <th>22</th>\n",
              "      <th>23</th>\n",
              "      <th>24</th>\n",
              "      <th>25</th>\n",
              "      <th>26</th>\n",
              "      <th>27</th>\n",
              "      <th>28</th>\n",
              "      <th>29</th>\n",
              "      <th>30</th>\n",
              "      <th>31</th>\n",
              "      <th>32</th>\n",
              "      <th>33</th>\n",
              "      <th>34</th>\n",
              "      <th>35</th>\n",
              "      <th>36</th>\n",
              "      <th>37</th>\n",
              "      <th>38</th>\n",
              "      <th>39</th>\n",
              "      <th>40</th>\n",
              "      <th>41</th>\n",
              "      <th>42</th>\n",
              "      <th>43</th>\n",
              "      <th>44</th>\n",
              "    </tr>\n",
              "  </thead>\n",
              "  <tbody>\n",
              "    <tr>\n",
              "      <th>Data</th>\n",
              "      <td>攻撃</td>\n",
              "      <td>パス</td>\n",
              "      <td>クロス</td>\n",
              "      <td>ドリブル</td>\n",
              "      <td>シュート</td>\n",
              "      <td>ゴール</td>\n",
              "      <td>奪取</td>\n",
              "      <td>守備</td>\n",
              "      <td>セーブ</td>\n",
              "      <td>攻撃回数</td>\n",
              "      <td>シュート</td>\n",
              "      <td>チャンス構築率</td>\n",
              "      <td>ゴール</td>\n",
              "      <td>成功率</td>\n",
              "      <td>被攻撃回数</td>\n",
              "      <td>被シュート</td>\n",
              "      <td>被チャンス構築率</td>\n",
              "      <td>被ゴール</td>\n",
              "      <td>被成功率</td>\n",
              "      <td>ゴール期待値</td>\n",
              "      <td>ゴール</td>\n",
              "      <td>被ゴール期待値</td>\n",
              "      <td>被ゴール</td>\n",
              "      <td>総移動距離</td>\n",
              "      <td>相手との移動距離差</td>\n",
              "      <td>スプリント数</td>\n",
              "      <td>相手とのスプリント数差</td>\n",
              "      <td>ゴール</td>\n",
              "      <td>シュート</td>\n",
              "      <td>枠内シュート</td>\n",
              "      <td>パス</td>\n",
              "      <td>クロス</td>\n",
              "      <td>直接ＦＫ</td>\n",
              "      <td>間接ＦＫ</td>\n",
              "      <td>ＣＫ</td>\n",
              "      <td>スローイン</td>\n",
              "      <td>ドリブル</td>\n",
              "      <td>タックル</td>\n",
              "      <td>クリア</td>\n",
              "      <td>インターセプト</td>\n",
              "      <td>オフサイド</td>\n",
              "      <td>警告</td>\n",
              "      <td>退場</td>\n",
              "      <td>３０ｍライン進入</td>\n",
              "      <td>ペナルティエリア進入</td>\n",
              "    </tr>\n",
              "    <tr>\n",
              "      <th>homeTeamData</th>\n",
              "      <td>17.83</td>\n",
              "      <td>14.01</td>\n",
              "      <td>1.77</td>\n",
              "      <td>2.05</td>\n",
              "      <td>7.58</td>\n",
              "      <td>3.39</td>\n",
              "      <td>106.54</td>\n",
              "      <td>11.87</td>\n",
              "      <td>0.41</td>\n",
              "      <td>119.6</td>\n",
              "      <td>14.6</td>\n",
              "      <td>12.2%</td>\n",
              "      <td>1.2</td>\n",
              "      <td>8.5%</td>\n",
              "      <td>120.4</td>\n",
              "      <td>11.0</td>\n",
              "      <td>9.1%</td>\n",
              "      <td>1.3</td>\n",
              "      <td>12.2%</td>\n",
              "      <td>1.544</td>\n",
              "      <td>1.2</td>\n",
              "      <td>1.435</td>\n",
              "      <td>1.3</td>\n",
              "      <td>113.451km</td>\n",
              "      <td>-2.284km</td>\n",
              "      <td>170.7</td>\n",
              "      <td>-14.5</td>\n",
              "      <td>1.2</td>\n",
              "      <td>14.6</td>\n",
              "      <td>4.2</td>\n",
              "      <td>533.7</td>\n",
              "      <td>15.4</td>\n",
              "      <td>9.4</td>\n",
              "      <td>0.7</td>\n",
              "      <td>6.0</td>\n",
              "      <td>21.3</td>\n",
              "      <td>15.3</td>\n",
              "      <td>19.4</td>\n",
              "      <td>16.7</td>\n",
              "      <td>1.4</td>\n",
              "      <td>2.0</td>\n",
              "      <td>1.0</td>\n",
              "      <td>0.1</td>\n",
              "      <td>42.8</td>\n",
              "      <td>14.9</td>\n",
              "    </tr>\n",
              "    <tr>\n",
              "      <th>awayTeamData</th>\n",
              "      <td>11.29</td>\n",
              "      <td>8.71</td>\n",
              "      <td>1.59</td>\n",
              "      <td>0.99</td>\n",
              "      <td>6.23</td>\n",
              "      <td>2.42</td>\n",
              "      <td>91.51</td>\n",
              "      <td>16.57</td>\n",
              "      <td>0.64</td>\n",
              "      <td>119.2</td>\n",
              "      <td>10.8</td>\n",
              "      <td>9.0%</td>\n",
              "      <td>0.9</td>\n",
              "      <td>8.0%</td>\n",
              "      <td>120.0</td>\n",
              "      <td>14.3</td>\n",
              "      <td>11.9%</td>\n",
              "      <td>1.6</td>\n",
              "      <td>11.3%</td>\n",
              "      <td>1.014</td>\n",
              "      <td>0.9</td>\n",
              "      <td>1.589</td>\n",
              "      <td>1.6</td>\n",
              "      <td>116.212km</td>\n",
              "      <td>0.619km</td>\n",
              "      <td>169.9</td>\n",
              "      <td>-10.9</td>\n",
              "      <td>0.9</td>\n",
              "      <td>10.8</td>\n",
              "      <td>3.7</td>\n",
              "      <td>392.3</td>\n",
              "      <td>12.8</td>\n",
              "      <td>9.3</td>\n",
              "      <td>1.5</td>\n",
              "      <td>3.9</td>\n",
              "      <td>23.1</td>\n",
              "      <td>10.9</td>\n",
              "      <td>18.5</td>\n",
              "      <td>25.6</td>\n",
              "      <td>2</td>\n",
              "      <td>0.9</td>\n",
              "      <td>1.2</td>\n",
              "      <td>0</td>\n",
              "      <td>30.5</td>\n",
              "      <td>9.1</td>\n",
              "    </tr>\n",
              "  </tbody>\n",
              "</table>\n",
              "</div>"
            ],
            "text/plain": [
              "                 0      1     2     3   ...   41   42        43          44\n",
              "Data             攻撃     パス   クロス  ドリブル  ...   警告   退場  ３０ｍライン進入  ペナルティエリア進入\n",
              "homeTeamData  17.83  14.01  1.77  2.05  ...  1.0  0.1      42.8        14.9\n",
              "awayTeamData  11.29   8.71  1.59  0.99  ...  1.2    0      30.5         9.1\n",
              "\n",
              "[3 rows x 45 columns]"
            ]
          },
          "metadata": {
            "tags": []
          },
          "execution_count": 7
        }
      ]
    },
    {
      "cell_type": "code",
      "metadata": {
        "id": "b41JlZfh2NTb"
      },
      "source": [
        "# 札幌 276\n",
        "# 仙台 238 \n",
        "def scrape(homeTeamID, awayTeamID, year):\n",
        "    data = pd.DataFrame()\n",
        "    \n",
        "    url = 'https://www.football-lab.jp/comparison/team/' + year + '/' + homeTeamID + '/' + year + '/' + awayTeamID\n",
        "    #チーム毎の平均スタッツを取得\n",
        "    #チャンスビルディングポイント\n",
        "    df = pd.read_html(url)[12]\n",
        "    df = df.drop([0, 2, 4,6,8,10,12,14,16]).drop(df.columns[[0,1,5,6]], axis=1)\n",
        "    \n",
        "    # #チームスタイル\n",
        "    #指数\n",
        "    # df2 = pd.read_html(url)[13]\n",
        "    # df2 = df2.drop([0,2,4,6,8,10,12,14]).drop(df2.columns[[0,1,5,6]], axis=1)\n",
        "    #チャンス構築率\n",
        "    df3 = pd.read_html(url)[16]\n",
        "    df3 = df3.drop([0,2,4,6,8,10,11,13,15,17,19]).drop(df3.columns[[0,1,5,6]], axis=1)\n",
        "    #ゴール期待値\n",
        "    df4 = pd.read_html(url)[17]\n",
        "    df4 = df4.drop([0,2,4,6]).drop(df4.columns[[0,1,5,6]], axis=1)\n",
        "    #トラッキングデータ\n",
        "    df5 = pd.read_html(url)[20]\n",
        "    df5 = df5.drop([0,2,4,6]).drop(df5.columns[[0,1,5,6]], axis=1)\n",
        "    #他のスタッツ\n",
        "    df6 = pd.read_html(url)[35]\n",
        "    df6 = df6.drop([0,2,4,6,8,10,12,14,16,18,20,22,24,26,28,30,32,34]).drop(df6.columns[[0,1,5,6]], axis=1)\n",
        "\n",
        "    df = pd.concat([df,df3,df4,df5,df6])\n",
        "    df = df.reset_index(drop=True)\n",
        "    df = df.rename(columns={'試合平均': 'home','Unnamed: 3': 'Data','試合平均.1': 'away'})\n",
        "    df = df[['Data', 'home', 'away']]\n",
        "    df = df.set_index('Data')\n",
        "    df = df.T\n",
        "\n",
        "    #試合結果を取得\n",
        "    html = requests.get(url)\n",
        "    html.encoding = \"UTF-8\"\n",
        "    soup = BeautifulSoup(html.text, \"html.parser\")\n",
        "\n",
        "    texts = soup.find('div', attrs={'class': 'gameTbl'}).text\n",
        "    texts = re.findall(r'\\w+', texts)\n",
        "\n",
        "    # #最新試合情報取得の場合\n",
        "    # if (texts[0] == year):\n",
        "    #     matchDate = texts[0] + '-' + texts[1] + '-' + texts[2] + '-' + texts[3] + ':' + texts[4]\n",
        "\n",
        "    #     if (homeTeamID !=TeamDic[texts[7]]):\n",
        "    #         homeGoal = texts[6]\n",
        "    #         homeTeam = texts[8]\n",
        "    #         awayGoal = texts[5]\n",
        "    #         awayTeam = texts[7]\n",
        "    #     else:\n",
        "    #         homeGoal = texts[5]\n",
        "    #         homeTeam = texts[7]\n",
        "    #         awayGoal = texts[6]\n",
        "    #         awayTeam = texts[8]\n",
        "    #2試合前の情報取得の場合\n",
        "    if (texts[10] == year):\n",
        "        matchDate = texts[10] + '-' + texts[11] + '-' + texts[12] + '-' + texts[13] + ':' + texts[14]\n",
        "\n",
        "        if (homeTeamID !=TeamDic[texts[17]]):\n",
        "            homeGoal = texts[16]\n",
        "            homeTeam = texts[18]\n",
        "            awayGoal = texts[15]\n",
        "            awayTeam = texts[17]\n",
        "        else:\n",
        "            homeGoal = texts[15]\n",
        "            homeTeam = texts[17]\n",
        "            awayGoal = texts[16]\n",
        "            awayTeam = texts[18]\n",
        "    #3試合前の情報\n",
        "    elif (texts[20] == year):\n",
        "        matchDate = texts[20] + '-' + texts[21] + '-' + texts[22] + '-' + texts[23] + ':' + texts[24]\n",
        "\n",
        "        if (homeTeamID !=TeamDic[texts[27]]):\n",
        "            homeGoal = texts[26]\n",
        "            homeTeam = texts[28]\n",
        "            awayGoal = texts[25]\n",
        "            awayTeam = texts[27]\n",
        "        else:\n",
        "            homeGoal = texts[25]\n",
        "            homeTeam = texts[27]\n",
        "            awayGoal = texts[26]\n",
        "            awayTeam = texts[28]\n",
        "\n",
        "    df.insert(0, 'スコア', [homeGoal,awayGoal])\n",
        "    df.insert(0, 'チーム名',[homeTeam,awayTeam])\n",
        "    df.insert(0, '試合日', matchDate)\n",
        "\n",
        "    return df"
      ],
      "execution_count": 100,
      "outputs": []
    },
    {
      "cell_type": "code",
      "metadata": {
        "id": "9HKmDyNZdnXO"
      },
      "source": [
        "df = scrape('276', '238', '2021')"
      ],
      "execution_count": 102,
      "outputs": []
    },
    {
      "cell_type": "code",
      "metadata": {
        "id": "YAF8fAKJdpn3",
        "outputId": "4edb7f72-9c50-458b-db93-32d5c30f939c",
        "colab": {
          "base_uri": "https://localhost:8080/",
          "height": 301
        }
      },
      "source": [
        "df"
      ],
      "execution_count": 103,
      "outputs": [
        {
          "output_type": "execute_result",
          "data": {
            "text/html": [
              "<div>\n",
              "<style scoped>\n",
              "    .dataframe tbody tr th:only-of-type {\n",
              "        vertical-align: middle;\n",
              "    }\n",
              "\n",
              "    .dataframe tbody tr th {\n",
              "        vertical-align: top;\n",
              "    }\n",
              "\n",
              "    .dataframe thead th {\n",
              "        text-align: right;\n",
              "    }\n",
              "</style>\n",
              "<table border=\"1\" class=\"dataframe\">\n",
              "  <thead>\n",
              "    <tr style=\"text-align: right;\">\n",
              "      <th>Data</th>\n",
              "      <th>試合日</th>\n",
              "      <th>チーム名</th>\n",
              "      <th>スコア</th>\n",
              "      <th>攻撃</th>\n",
              "      <th>パス</th>\n",
              "      <th>クロス</th>\n",
              "      <th>ドリブル</th>\n",
              "      <th>シュート</th>\n",
              "      <th>ゴール</th>\n",
              "      <th>奪取</th>\n",
              "      <th>守備</th>\n",
              "      <th>セーブ</th>\n",
              "      <th>攻撃回数</th>\n",
              "      <th>シュート</th>\n",
              "      <th>チャンス構築率</th>\n",
              "      <th>ゴール</th>\n",
              "      <th>成功率</th>\n",
              "      <th>被攻撃回数</th>\n",
              "      <th>被シュート</th>\n",
              "      <th>被チャンス構築率</th>\n",
              "      <th>被ゴール</th>\n",
              "      <th>被成功率</th>\n",
              "      <th>ゴール期待値</th>\n",
              "      <th>ゴール</th>\n",
              "      <th>被ゴール期待値</th>\n",
              "      <th>被ゴール</th>\n",
              "      <th>総移動距離</th>\n",
              "      <th>相手との移動距離差</th>\n",
              "      <th>スプリント数</th>\n",
              "      <th>相手とのスプリント数差</th>\n",
              "      <th>ゴール</th>\n",
              "      <th>シュート</th>\n",
              "      <th>枠内シュート</th>\n",
              "      <th>パス</th>\n",
              "      <th>クロス</th>\n",
              "      <th>直接ＦＫ</th>\n",
              "      <th>間接ＦＫ</th>\n",
              "      <th>ＣＫ</th>\n",
              "      <th>スローイン</th>\n",
              "      <th>ドリブル</th>\n",
              "      <th>タックル</th>\n",
              "      <th>クリア</th>\n",
              "      <th>インターセプト</th>\n",
              "      <th>オフサイド</th>\n",
              "      <th>警告</th>\n",
              "      <th>退場</th>\n",
              "      <th>３０ｍライン進入</th>\n",
              "      <th>ペナルティエリア進入</th>\n",
              "    </tr>\n",
              "  </thead>\n",
              "  <tbody>\n",
              "    <tr>\n",
              "      <th>home</th>\n",
              "      <td>2021-4-24-13:00</td>\n",
              "      <td>札幌</td>\n",
              "      <td>2</td>\n",
              "      <td>17.83</td>\n",
              "      <td>14.01</td>\n",
              "      <td>1.77</td>\n",
              "      <td>2.05</td>\n",
              "      <td>7.58</td>\n",
              "      <td>3.39</td>\n",
              "      <td>106.54</td>\n",
              "      <td>11.87</td>\n",
              "      <td>0.41</td>\n",
              "      <td>119.6</td>\n",
              "      <td>14.6</td>\n",
              "      <td>12.2%</td>\n",
              "      <td>1.2</td>\n",
              "      <td>8.5%</td>\n",
              "      <td>120.4</td>\n",
              "      <td>11.0</td>\n",
              "      <td>9.1%</td>\n",
              "      <td>1.3</td>\n",
              "      <td>12.2%</td>\n",
              "      <td>1.544</td>\n",
              "      <td>1.2</td>\n",
              "      <td>1.429</td>\n",
              "      <td>1.3</td>\n",
              "      <td>113.451km</td>\n",
              "      <td>-2.284km</td>\n",
              "      <td>170.7</td>\n",
              "      <td>-14.5</td>\n",
              "      <td>1.2</td>\n",
              "      <td>14.6</td>\n",
              "      <td>4.2</td>\n",
              "      <td>533.7</td>\n",
              "      <td>15.4</td>\n",
              "      <td>9.4</td>\n",
              "      <td>0.7</td>\n",
              "      <td>6.0</td>\n",
              "      <td>21.3</td>\n",
              "      <td>15.3</td>\n",
              "      <td>19.4</td>\n",
              "      <td>16.7</td>\n",
              "      <td>1.4</td>\n",
              "      <td>2.0</td>\n",
              "      <td>1.0</td>\n",
              "      <td>0.1</td>\n",
              "      <td>42.8</td>\n",
              "      <td>14.9</td>\n",
              "    </tr>\n",
              "    <tr>\n",
              "      <th>away</th>\n",
              "      <td>2021-4-24-13:00</td>\n",
              "      <td>仙台</td>\n",
              "      <td>1</td>\n",
              "      <td>11.54</td>\n",
              "      <td>8.92</td>\n",
              "      <td>1.61</td>\n",
              "      <td>1.02</td>\n",
              "      <td>6.16</td>\n",
              "      <td>2.31</td>\n",
              "      <td>91.03</td>\n",
              "      <td>16.4</td>\n",
              "      <td>0.63</td>\n",
              "      <td>118.6</td>\n",
              "      <td>11.0</td>\n",
              "      <td>9.3%</td>\n",
              "      <td>0.8</td>\n",
              "      <td>7.4%</td>\n",
              "      <td>119.3</td>\n",
              "      <td>14.1</td>\n",
              "      <td>11.9%</td>\n",
              "      <td>1.6</td>\n",
              "      <td>11.3%</td>\n",
              "      <td>1.038</td>\n",
              "      <td>0.8</td>\n",
              "      <td>1.548</td>\n",
              "      <td>1.6</td>\n",
              "      <td>116.225km</td>\n",
              "      <td>0.684km</td>\n",
              "      <td>169.2</td>\n",
              "      <td>-9.6</td>\n",
              "      <td>0.8</td>\n",
              "      <td>11</td>\n",
              "      <td>3.7</td>\n",
              "      <td>400.6</td>\n",
              "      <td>13.2</td>\n",
              "      <td>9.2</td>\n",
              "      <td>1.5</td>\n",
              "      <td>4</td>\n",
              "      <td>22.9</td>\n",
              "      <td>11</td>\n",
              "      <td>17.9</td>\n",
              "      <td>25.3</td>\n",
              "      <td>2</td>\n",
              "      <td>1</td>\n",
              "      <td>1.2</td>\n",
              "      <td>0</td>\n",
              "      <td>31.3</td>\n",
              "      <td>9.4</td>\n",
              "    </tr>\n",
              "  </tbody>\n",
              "</table>\n",
              "</div>"
            ],
            "text/plain": [
              "Data              試合日 チーム名 スコア     攻撃  ...   警告   退場 ３０ｍライン進入 ペナルティエリア進入\n",
              "home  2021-4-24-13:00   札幌   2  17.83  ...  1.0  0.1     42.8       14.9\n",
              "away  2021-4-24-13:00   仙台   1  11.54  ...  1.2    0     31.3        9.4\n",
              "\n",
              "[2 rows x 48 columns]"
            ]
          },
          "metadata": {
            "tags": []
          },
          "execution_count": 103
        }
      ]
    },
    {
      "cell_type": "code",
      "metadata": {
        "id": "bcA-QezzpgEV",
        "outputId": "404a939e-4376-4e84-ee42-3e4df4bbe70e",
        "colab": {
          "base_uri": "https://localhost:8080/",
          "height": 35
        }
      },
      "source": [
        "homeTeamID = '276'\n",
        "awayTeamID = '238'\n",
        "homeGoal = ''\n",
        "homeTeam = ''\n",
        "\n",
        "awayGoal = ''\n",
        "awayTeam = ''\n",
        "if (homeTeamID !=TeamDic[texts[7]]):\n",
        "    homeGoal = texts[6]\n",
        "    homeTeam = texts[8]\n",
        "    awayGoal = texts[5]\n",
        "    awayTeam = texts[7]\n",
        "else:\n",
        "    homeGoal = texts[5]\n",
        "    homeTeam = texts[7]\n",
        "    awayGoal = texts[6]\n",
        "    awayTeam = texts[8]\n",
        "\n"
      ],
      "execution_count": 27,
      "outputs": [
        {
          "output_type": "execute_result",
          "data": {
            "application/vnd.google.colaboratory.intrinsic+json": {
              "type": "string"
            },
            "text/plain": [
              "'仙台'"
            ]
          },
          "metadata": {
            "tags": []
          },
          "execution_count": 27
        }
      ]
    },
    {
      "cell_type": "code",
      "metadata": {
        "id": "bk9qTwn2rCn5",
        "outputId": "abf589cc-9833-4600-9b26-9ed2515022a8",
        "colab": {
          "base_uri": "https://localhost:8080/",
          "height": 35
        }
      },
      "source": [
        "matchDate = texts[0] + '-' + texts[1] + '-' + texts[2] + '-' + texts[3] + ':' + texts[4]\n",
        "matchDate"
      ],
      "execution_count": 35,
      "outputs": [
        {
          "output_type": "execute_result",
          "data": {
            "application/vnd.google.colaboratory.intrinsic+json": {
              "type": "string"
            },
            "text/plain": [
              "'2021-7-10-19:00'"
            ]
          },
          "metadata": {
            "tags": []
          },
          "execution_count": 35
        }
      ]
    },
    {
      "cell_type": "code",
      "metadata": {
        "id": "7kVFo-yWrNyn"
      },
      "source": [
        "df = df.drop('matchDate', axis=1)"
      ],
      "execution_count": 56,
      "outputs": []
    },
    {
      "cell_type": "code",
      "metadata": {
        "id": "mFpiiTkVtO1f",
        "outputId": "363ffc6e-d729-404c-fb14-40dd381993bb",
        "colab": {
          "base_uri": "https://localhost:8080/",
          "height": 35
        }
      },
      "source": [
        "texts[10]"
      ],
      "execution_count": 99,
      "outputs": [
        {
          "output_type": "execute_result",
          "data": {
            "application/vnd.google.colaboratory.intrinsic+json": {
              "type": "string"
            },
            "text/plain": [
              "'2021'"
            ]
          },
          "metadata": {
            "tags": []
          },
          "execution_count": 99
        }
      ]
    },
    {
      "cell_type": "code",
      "metadata": {
        "id": "lrD5iPynucTQ"
      },
      "source": [
        "df = df.insert(0, 'スコア',)"
      ],
      "execution_count": 58,
      "outputs": []
    },
    {
      "cell_type": "code",
      "metadata": {
        "id": "vnKDkyn8ways",
        "outputId": "aefd4394-02c3-4fe0-c3e5-7222ae6d7071",
        "colab": {
          "base_uri": "https://localhost:8080/"
        }
      },
      "source": [
        "print(df)"
      ],
      "execution_count": 63,
      "outputs": [
        {
          "output_type": "stream",
          "text": [
            "None\n"
          ],
          "name": "stdout"
        }
      ]
    },
    {
      "cell_type": "markdown",
      "metadata": {
        "id": "U5p-qiL8DKMi"
      },
      "source": [
        ""
      ]
    },
    {
      "cell_type": "code",
      "metadata": {
        "id": "UHZnHXwaCLoV"
      },
      "source": [
        ""
      ],
      "execution_count": null,
      "outputs": []
    }
  ]
}