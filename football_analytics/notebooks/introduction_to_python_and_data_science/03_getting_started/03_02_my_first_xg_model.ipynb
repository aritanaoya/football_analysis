{
 "cells": [
  {
   "cell_type": "markdown",
   "metadata": {},
   "source": [
    "<a id='top'></a>"
   ]
  },
  {
   "cell_type": "markdown",
   "metadata": {},
   "source": [
    "# My First xG Model\n",
    "##### Notebook to create a basic xG model from a sample dataset of just under 11,000 shots\n",
    "\n",
    "### By [Edd Webster](https://www.twitter.com/eddwebster)\n",
    "Notebook first written: 15/06/2021<br>\n",
    "Notebook last updated: 15/06/2021\n",
    "\n",
    "![title](../../../img/expected_goals_visual.png)\n",
    "\n",
    "Photo credit to David Sumpter ([@Soccermatics](https://twitter.com/Soccermatics))."
   ]
  },
  {
   "cell_type": "markdown",
   "metadata": {},
   "source": [
    "## 1. Notebook Setup"
   ]
  },
  {
   "cell_type": "markdown",
   "metadata": {},
   "source": [
    "### Import Libraries and Modules"
   ]
  },
  {
   "cell_type": "code",
   "execution_count": 1,
   "metadata": {},
   "outputs": [
    {
     "name": "stdout",
     "output_type": "stream",
     "text": [
      "Setup Complete\n"
     ]
    }
   ],
   "source": [
    "# Python ≥3.5 (ideally)\n",
    "import sys, getopt\n",
    "assert sys.version_info >= (3, 5)\n",
    "import csv\n",
    "\n",
    "# Import Dependencies\n",
    "%matplotlib inline\n",
    "\n",
    "# Math Operations\n",
    "import numpy as np\n",
    "import math\n",
    "from math import pi\n",
    "\n",
    "# Datetime\n",
    "import datetime\n",
    "from datetime import date\n",
    "import time\n",
    "\n",
    "# Data Preprocessing\n",
    "import pandas as pd\n",
    "import pandas_profiling as pp\n",
    "import os\n",
    "import re\n",
    "import random\n",
    "from io import BytesIO\n",
    "from pathlib import Path\n",
    "\n",
    "# Reading directories\n",
    "import glob\n",
    "import os\n",
    "from os.path import basename\n",
    "\n",
    "# Working with JSON\n",
    "import json\n",
    "from pandas.io.json import json_normalize\n",
    "\n",
    "# Data Visualisation\n",
    "import matplotlib as mpl\n",
    "import matplotlib.pyplot as plt\n",
    "from matplotlib import patches\n",
    "from matplotlib.patches import Arc\n",
    "from matplotlib.colors import ListedColormap\n",
    "import plotly\n",
    "import plotly.graph_objects as go\n",
    "import ruamel.yaml\n",
    "import seaborn as sns\n",
    "import missingno as msno\n",
    "\n",
    "\n",
    "# Machine Learning\n",
    "import scipy as sp\n",
    "import scipy.spatial\n",
    "from scipy.spatial import distance\n",
    "from sklearn.ensemble import RandomForestClassifier\n",
    "#from sklearn.inspection import permutation_importance\n",
    "import sklearn.metrics as sk_metrics\n",
    "from sklearn.metrics import log_loss, brier_score_loss, roc_auc_score , roc_curve, average_precision_score\n",
    "from sklearn.model_selection import train_test_split, KFold, cross_val_score, GridSearchCV, RandomizedSearchCV\n",
    "from sklearn.linear_model import LogisticRegression\n",
    "from scikitplot.metrics import plot_roc_curve, plot_precision_recall_curve, plot_calibration_curve\n",
    "\n",
    "# Display in Jupyter\n",
    "from IPython.display import Image, Video, YouTubeVideo\n",
    "from IPython.core.display import HTML\n",
    "\n",
    "# Ignore Warnings\n",
    "import warnings\n",
    "warnings.filterwarnings(action='ignore', message='^internal gelsd')\n",
    "\n",
    "print('Setup Complete')"
   ]
  },
  {
   "cell_type": "markdown",
   "metadata": {},
   "source": [
    "### Notebook Settings"
   ]
  },
  {
   "cell_type": "code",
   "execution_count": 2,
   "metadata": {},
   "outputs": [],
   "source": [
    "# Display all columns of pandas DataFrames\n",
    "pd.set_option('display.max_columns', None)"
   ]
  },
  {
   "cell_type": "markdown",
   "metadata": {},
   "source": [
    "---\n",
    "\n",
    "## 2. Data Sources"
   ]
  },
  {
   "cell_type": "code",
   "execution_count": 3,
   "metadata": {},
   "outputs": [],
   "source": [
    "# Read in raw Shots CSV as a pandas DataFrame\n",
    "data_dir_shots = os.path.join('..', '..', '..', 'data', 'shots')\n",
    "df_shots = pd.read_csv(os.path.join(data_dir_shots, 'raw', 'ShotData.csv'))"
   ]
  },
  {
   "cell_type": "code",
   "execution_count": 4,
   "metadata": {},
   "outputs": [
    {
     "data": {
      "text/html": [
       "<div>\n",
       "<style scoped>\n",
       "    .dataframe tbody tr th:only-of-type {\n",
       "        vertical-align: middle;\n",
       "    }\n",
       "\n",
       "    .dataframe tbody tr th {\n",
       "        vertical-align: top;\n",
       "    }\n",
       "\n",
       "    .dataframe thead th {\n",
       "        text-align: right;\n",
       "    }\n",
       "</style>\n",
       "<table border=\"1\" class=\"dataframe\">\n",
       "  <thead>\n",
       "    <tr style=\"text-align: right;\">\n",
       "      <th></th>\n",
       "      <th>match_minute</th>\n",
       "      <th>match_second</th>\n",
       "      <th>position_x</th>\n",
       "      <th>position_y</th>\n",
       "      <th>play_type</th>\n",
       "      <th>BodyPart</th>\n",
       "      <th>Number_Intervening_Opponents</th>\n",
       "      <th>Number_Intervening_Teammates</th>\n",
       "      <th>Interference_on_Shooter</th>\n",
       "      <th>outcome</th>\n",
       "    </tr>\n",
       "  </thead>\n",
       "  <tbody>\n",
       "    <tr>\n",
       "      <th>0</th>\n",
       "      <td>7</td>\n",
       "      <td>24</td>\n",
       "      <td>3.24</td>\n",
       "      <td>-0.75</td>\n",
       "      <td>Open Play</td>\n",
       "      <td>Head</td>\n",
       "      <td>1</td>\n",
       "      <td>0</td>\n",
       "      <td>Low</td>\n",
       "      <td>Goal</td>\n",
       "    </tr>\n",
       "    <tr>\n",
       "      <th>1</th>\n",
       "      <td>34</td>\n",
       "      <td>55</td>\n",
       "      <td>24.94</td>\n",
       "      <td>0.75</td>\n",
       "      <td>Open Play</td>\n",
       "      <td>Left</td>\n",
       "      <td>3</td>\n",
       "      <td>0</td>\n",
       "      <td>Medium</td>\n",
       "      <td>Missed</td>\n",
       "    </tr>\n",
       "    <tr>\n",
       "      <th>2</th>\n",
       "      <td>60</td>\n",
       "      <td>33</td>\n",
       "      <td>3.74</td>\n",
       "      <td>-0.50</td>\n",
       "      <td>Open Play</td>\n",
       "      <td>Right</td>\n",
       "      <td>1</td>\n",
       "      <td>0</td>\n",
       "      <td>Low</td>\n",
       "      <td>Missed</td>\n",
       "    </tr>\n",
       "    <tr>\n",
       "      <th>3</th>\n",
       "      <td>68</td>\n",
       "      <td>42</td>\n",
       "      <td>21.45</td>\n",
       "      <td>-8.48</td>\n",
       "      <td>Direct freekick</td>\n",
       "      <td>Left</td>\n",
       "      <td>4</td>\n",
       "      <td>2</td>\n",
       "      <td>Low</td>\n",
       "      <td>Blocked</td>\n",
       "    </tr>\n",
       "    <tr>\n",
       "      <th>4</th>\n",
       "      <td>18</td>\n",
       "      <td>0</td>\n",
       "      <td>10.23</td>\n",
       "      <td>4.99</td>\n",
       "      <td>Open Play</td>\n",
       "      <td>Head</td>\n",
       "      <td>1</td>\n",
       "      <td>0</td>\n",
       "      <td>Low</td>\n",
       "      <td>Missed</td>\n",
       "    </tr>\n",
       "  </tbody>\n",
       "</table>\n",
       "</div>"
      ],
      "text/plain": [
       "   match_minute  match_second  position_x  position_y        play_type  \\\n",
       "0             7            24        3.24       -0.75        Open Play   \n",
       "1            34            55       24.94        0.75        Open Play   \n",
       "2            60            33        3.74       -0.50        Open Play   \n",
       "3            68            42       21.45       -8.48  Direct freekick   \n",
       "4            18             0       10.23        4.99        Open Play   \n",
       "\n",
       "  BodyPart  Number_Intervening_Opponents  Number_Intervening_Teammates  \\\n",
       "0     Head                             1                             0   \n",
       "1     Left                             3                             0   \n",
       "2    Right                             1                             0   \n",
       "3     Left                             4                             2   \n",
       "4     Head                             1                             0   \n",
       "\n",
       "  Interference_on_Shooter  outcome  \n",
       "0                     Low     Goal  \n",
       "1                  Medium   Missed  \n",
       "2                     Low   Missed  \n",
       "3                     Low  Blocked  \n",
       "4                     Low   Missed  "
      ]
     },
     "execution_count": 4,
     "metadata": {},
     "output_type": "execute_result"
    }
   ],
   "source": [
    "# Display the first five rows of the raw DataFrame, df_shots\n",
    "df_shots.head()"
   ]
  },
  {
   "cell_type": "code",
   "execution_count": 5,
   "metadata": {},
   "outputs": [
    {
     "name": "stdout",
     "output_type": "stream",
     "text": [
      "(10925, 10)\n"
     ]
    }
   ],
   "source": [
    "# Print the shape of the raw DataFrame, df_shots\n",
    "print(df_shots.shape)"
   ]
  },
  {
   "cell_type": "code",
   "execution_count": 6,
   "metadata": {},
   "outputs": [
    {
     "name": "stdout",
     "output_type": "stream",
     "text": [
      "Index(['match_minute', 'match_second', 'position_x', 'position_y', 'play_type',\n",
      "       'BodyPart', 'Number_Intervening_Opponents',\n",
      "       'Number_Intervening_Teammates', 'Interference_on_Shooter', 'outcome'],\n",
      "      dtype='object')\n"
     ]
    }
   ],
   "source": [
    "# Print the column names of the raw DataFrame, df_shots\n",
    "print(df_shots.columns)"
   ]
  },
  {
   "cell_type": "markdown",
   "metadata": {},
   "source": [
    "---\n",
    "\n",
    "## 3. Data Engineering"
   ]
  },
  {
   "cell_type": "markdown",
   "metadata": {},
   "source": [
    "### Convert Pitch Dimensions to Standard Coordinates"
   ]
  },
  {
   "cell_type": "code",
   "execution_count": 7,
   "metadata": {},
   "outputs": [],
   "source": [
    "## Define 'standardised' pitch x and y lengths\n",
    "pitch_x_start = -53\n",
    "pitch_x_end = 53\n",
    "pitch_y_start = -34\n",
    "pitch_y_end = 34\n",
    "pitch_length_x = pitch_x_end - pitch_x_start \n",
    "pitch_length_y = pitch_y_end - pitch_y_start "
   ]
  },
  {
   "cell_type": "code",
   "execution_count": 8,
   "metadata": {},
   "outputs": [],
   "source": [
    "# Convert to standard pitch dimensions\n",
    "\n",
    "## Convert default coordinates of x(106, 0) and y(-33.92, 33.92) to a standardised range of x(-53, +53) and y(-34, +34) - the average pitch size\n",
    "df_shots['position_xM'] = (pitch_length_x/2)-(df_shots['position_x'])\n",
    "df_shots['position_yM'] = (df_shots['position_y'] / df_shots['position_y'].max()) * (pitch_length_y/2)\n",
    "\n",
    "## Create reverse columns of standardised xM' and 'yM' columns (used later for visualisation purposes only)\n",
    "df_shots['position_xM_r'] = -df_shots['position_xM']\n",
    "df_shots['position_yM_r'] = -df_shots['position_yM']\n",
    "\n",
    "## Create standardised columns where the start is 0 (used for visualisations but not for ML)\n",
    "df_shots['position_xM_std'] = df_shots['position_xM'] + (pitch_length_x/2)\n",
    "df_shots['position_yM_std'] = df_shots['position_yM'] + (pitch_length_y/2)\n",
    "\n",
    "## Create reverse columns for standardised columns (used later for visualisation purposes only)\n",
    "df_shots['position_xM_std_r'] = df_shots['position_xM_std'] + (pitch_length_x/2)\n",
    "df_shots['position_yM_std_r'] = df_shots['position_yM_std'] + (pitch_length_y/2)"
   ]
  },
  {
   "cell_type": "markdown",
   "metadata": {},
   "source": [
    "### Clean Attributes"
   ]
  },
  {
   "cell_type": "code",
   "execution_count": 9,
   "metadata": {},
   "outputs": [],
   "source": [
    "# There are two values for 'Direct Corner' - 'Direct Corner and 'Direct corner'. Replace values to all be the same.\n",
    "df_shots['play_type'] = df_shots['play_type'].replace('Direct Corner', 'Direct corner', regex=True)"
   ]
  },
  {
   "cell_type": "code",
   "execution_count": 10,
   "metadata": {},
   "outputs": [
    {
     "data": {
      "text/plain": [
       "BodyPart\n",
       "Head     1862\n",
       "Left     3548\n",
       "Other      70\n",
       "Right    5445\n",
       "Name: play_type, dtype: int64"
      ]
     },
     "execution_count": 10,
     "metadata": {},
     "output_type": "execute_result"
    }
   ],
   "source": [
    "# Shot play types and their frequency\n",
    "df_shots.groupby(['BodyPart']).play_type.count()"
   ]
  },
  {
   "cell_type": "code",
   "execution_count": 11,
   "metadata": {},
   "outputs": [],
   "source": [
    "# 70 Open Play shots have a `BodyPart` value of 'Unknown'. These are left for now but dealt with the the Univariate Analysis section.\n",
    "\n",
    "## Define dictionary of BodyPart codes\n",
    "dict_bodypart_codes = {'Left': 1,\n",
    "                       'Right': 2,\n",
    "                       'Head': 3,\n",
    "                       'Other': 4\n",
    "                      }\n",
    "\n",
    "## Map BodyPartCode to DataFrame\n",
    "df_shots['BodyPartCode'] = df_shots['BodyPart'].map(dict_bodypart_codes)"
   ]
  },
  {
   "cell_type": "markdown",
   "metadata": {},
   "source": [
    "##### `Interference_on_Shooter`\n",
    "In the initial data handling, we saw that there were 43 missing values in the `Interference_on_Shooter` column.\n",
    "\n",
    "To prevent further issues later Feature Engineering, all NULL valus are replaced with a string equal to 'Unknown'."
   ]
  },
  {
   "cell_type": "code",
   "execution_count": 12,
   "metadata": {},
   "outputs": [
    {
     "data": {
      "text/plain": [
       "array(['Low', 'Medium', 'High', nan], dtype=object)"
      ]
     },
     "execution_count": 12,
     "metadata": {},
     "output_type": "execute_result"
    }
   ],
   "source": [
    "df_shots['Interference_on_Shooter'].unique()"
   ]
  },
  {
   "cell_type": "code",
   "execution_count": 13,
   "metadata": {},
   "outputs": [],
   "source": [
    "# Replace null values with 'Unknown' string\n",
    "df_shots['Interference_on_Shooter'] = df_shots['Interference_on_Shooter'].replace(np.nan, 'Unknown', regex=True)"
   ]
  },
  {
   "cell_type": "code",
   "execution_count": 14,
   "metadata": {},
   "outputs": [
    {
     "data": {
      "text/plain": [
       "Interference_on_Shooter\n",
       "High       1694\n",
       "Low        4050\n",
       "Medium     5138\n",
       "Unknown      43\n",
       "Name: play_type, dtype: int64"
      ]
     },
     "execution_count": 14,
     "metadata": {},
     "output_type": "execute_result"
    }
   ],
   "source": [
    "# Shot play types and their frequency\n",
    "df_shots.groupby(['Interference_on_Shooter']).play_type.count()"
   ]
  },
  {
   "cell_type": "markdown",
   "metadata": {},
   "source": [
    "Create attribute `Interference_on_Shooter_code`"
   ]
  },
  {
   "cell_type": "code",
   "execution_count": 15,
   "metadata": {},
   "outputs": [],
   "source": [
    "# Define dictionary of Interference_on_Shooter codes\n",
    "dict_inferenceshooter_codes = {'Low': 1,\n",
    "                               'Medium': 2,\n",
    "                               'High': 3,\n",
    "                               'Unknown': 4\n",
    "                              }\n",
    "\n",
    "# Map Interference_on_Shooter_Code to DataFrame\n",
    "df_shots['Interference_on_Shooter_Code'] = df_shots['Interference_on_Shooter'].map(dict_inferenceshooter_codes)"
   ]
  },
  {
   "cell_type": "markdown",
   "metadata": {},
   "source": [
    "### Create New Features"
   ]
  },
  {
   "cell_type": "code",
   "execution_count": 16,
   "metadata": {},
   "outputs": [],
   "source": [
    "# Create new features - distance_to_goalM, 'distance_to_centerM', and 'angle'\n",
    "df_shots['distance_to_goalM'] = np.sqrt((((pitch_length_x/2) - df_shots['position_xM'])**2) + ((df_shots['position_yM'])**2))\n",
    "df_shots['distance_to_centerM'] = np.abs(df_shots['position_yM'])\n",
    "df_shots['angle'] = np.absolute(np.degrees(np.arctan((df_shots['position_yM']) / ((pitch_length_x/2) - df_shots['position_xM']))))"
   ]
  },
  {
   "cell_type": "markdown",
   "metadata": {},
   "source": [
    "### Create Target"
   ]
  },
  {
   "cell_type": "markdown",
   "metadata": {},
   "source": [
    "##### `isGoal`\n",
    "Boolean field, used as the Target in the Machine Learning i.e. whether the shot resulted in a goal (1) or not (0)."
   ]
  },
  {
   "cell_type": "code",
   "execution_count": 17,
   "metadata": {},
   "outputs": [
    {
     "data": {
      "text/plain": [
       "outcome\n",
       "Blocked      2155\n",
       "Goal         1331\n",
       "GoalFrame     215\n",
       "Missed       4254\n",
       "Saved        2927\n",
       "owngoal        43\n",
       "Name: outcome, dtype: int64"
      ]
     },
     "execution_count": 17,
     "metadata": {},
     "output_type": "execute_result"
    }
   ],
   "source": [
    "# Shot outcomes types and their frequency\n",
    "df_shots.groupby(['outcome']).outcome.count()"
   ]
  },
  {
   "cell_type": "code",
   "execution_count": 18,
   "metadata": {},
   "outputs": [],
   "source": [
    "# Define dictionary of outcomes\n",
    "dict_outcome_codes = {'Blocked': 0,\n",
    "                      'Goal': 1,\n",
    "                      'GoalFrame': 0,\n",
    "                      'Missed': 0,\n",
    "                      'Saved': 0,\n",
    "                      'owngoal': 1\n",
    "                     }\n",
    "\n",
    "# Map isGoal Boolean to DataFrame\n",
    "df_shots['isGoal'] = df_shots['outcome'].map(dict_outcome_codes)"
   ]
  },
  {
   "cell_type": "markdown",
   "metadata": {},
   "source": [
    "### Remove Own Goals"
   ]
  },
  {
   "cell_type": "code",
   "execution_count": 19,
   "metadata": {},
   "outputs": [],
   "source": [
    "# Filter out Own Goals from the dataset\n",
    "df_shots = df_shots[df_shots['outcome'] != 'owngoal']"
   ]
  },
  {
   "cell_type": "markdown",
   "metadata": {},
   "source": [
    "### Create Open Play (OP) Shots DataFrame"
   ]
  },
  {
   "cell_type": "code",
   "execution_count": 20,
   "metadata": {},
   "outputs": [],
   "source": [
    "# Subset DataFrame for non-penalty shots\n",
    "df_op_shots = df_shots[(df_shots['play_type'] == 'Open Play')].copy()"
   ]
  },
  {
   "cell_type": "markdown",
   "metadata": {},
   "source": [
    "---\n",
    "\n",
    "## 5. Data Visualisation"
   ]
  },
  {
   "cell_type": "code",
   "execution_count": null,
   "metadata": {},
   "outputs": [],
   "source": [
    "# CODE HERE"
   ]
  },
  {
   "cell_type": "markdown",
   "metadata": {},
   "source": [
    "---\n",
    "\n",
    "## 6. Expected Goals Modeling"
   ]
  },
  {
   "cell_type": "code",
   "execution_count": 21,
   "metadata": {},
   "outputs": [
    {
     "data": {
      "text/html": [
       "<div>\n",
       "<style scoped>\n",
       "    .dataframe tbody tr th:only-of-type {\n",
       "        vertical-align: middle;\n",
       "    }\n",
       "\n",
       "    .dataframe tbody tr th {\n",
       "        vertical-align: top;\n",
       "    }\n",
       "\n",
       "    .dataframe thead th {\n",
       "        text-align: right;\n",
       "    }\n",
       "</style>\n",
       "<table border=\"1\" class=\"dataframe\">\n",
       "  <thead>\n",
       "    <tr style=\"text-align: right;\">\n",
       "      <th></th>\n",
       "      <th>match_minute</th>\n",
       "      <th>match_second</th>\n",
       "      <th>position_x</th>\n",
       "      <th>position_y</th>\n",
       "      <th>play_type</th>\n",
       "      <th>BodyPart</th>\n",
       "      <th>Number_Intervening_Opponents</th>\n",
       "      <th>Number_Intervening_Teammates</th>\n",
       "      <th>Interference_on_Shooter</th>\n",
       "      <th>outcome</th>\n",
       "      <th>position_xM</th>\n",
       "      <th>position_yM</th>\n",
       "      <th>position_xM_r</th>\n",
       "      <th>position_yM_r</th>\n",
       "      <th>position_xM_std</th>\n",
       "      <th>position_yM_std</th>\n",
       "      <th>position_xM_std_r</th>\n",
       "      <th>position_yM_std_r</th>\n",
       "      <th>BodyPartCode</th>\n",
       "      <th>Interference_on_Shooter_Code</th>\n",
       "      <th>distance_to_goalM</th>\n",
       "      <th>distance_to_centerM</th>\n",
       "      <th>angle</th>\n",
       "      <th>isGoal</th>\n",
       "    </tr>\n",
       "  </thead>\n",
       "  <tbody>\n",
       "    <tr>\n",
       "      <th>0</th>\n",
       "      <td>7</td>\n",
       "      <td>24</td>\n",
       "      <td>3.24</td>\n",
       "      <td>-0.75</td>\n",
       "      <td>Open Play</td>\n",
       "      <td>Head</td>\n",
       "      <td>1</td>\n",
       "      <td>0</td>\n",
       "      <td>Low</td>\n",
       "      <td>Goal</td>\n",
       "      <td>49.76</td>\n",
       "      <td>-0.751769</td>\n",
       "      <td>-49.76</td>\n",
       "      <td>0.751769</td>\n",
       "      <td>102.76</td>\n",
       "      <td>33.248231</td>\n",
       "      <td>155.76</td>\n",
       "      <td>67.248231</td>\n",
       "      <td>3</td>\n",
       "      <td>1</td>\n",
       "      <td>3.326072</td>\n",
       "      <td>0.751769</td>\n",
       "      <td>13.063042</td>\n",
       "      <td>1</td>\n",
       "    </tr>\n",
       "    <tr>\n",
       "      <th>1</th>\n",
       "      <td>34</td>\n",
       "      <td>55</td>\n",
       "      <td>24.94</td>\n",
       "      <td>0.75</td>\n",
       "      <td>Open Play</td>\n",
       "      <td>Left</td>\n",
       "      <td>3</td>\n",
       "      <td>0</td>\n",
       "      <td>Medium</td>\n",
       "      <td>Missed</td>\n",
       "      <td>28.06</td>\n",
       "      <td>0.751769</td>\n",
       "      <td>-28.06</td>\n",
       "      <td>-0.751769</td>\n",
       "      <td>81.06</td>\n",
       "      <td>34.751769</td>\n",
       "      <td>134.06</td>\n",
       "      <td>68.751769</td>\n",
       "      <td>1</td>\n",
       "      <td>2</td>\n",
       "      <td>24.951328</td>\n",
       "      <td>0.751769</td>\n",
       "      <td>1.726550</td>\n",
       "      <td>0</td>\n",
       "    </tr>\n",
       "    <tr>\n",
       "      <th>2</th>\n",
       "      <td>60</td>\n",
       "      <td>33</td>\n",
       "      <td>3.74</td>\n",
       "      <td>-0.50</td>\n",
       "      <td>Open Play</td>\n",
       "      <td>Right</td>\n",
       "      <td>1</td>\n",
       "      <td>0</td>\n",
       "      <td>Low</td>\n",
       "      <td>Missed</td>\n",
       "      <td>49.26</td>\n",
       "      <td>-0.501179</td>\n",
       "      <td>-49.26</td>\n",
       "      <td>0.501179</td>\n",
       "      <td>102.26</td>\n",
       "      <td>33.498821</td>\n",
       "      <td>155.26</td>\n",
       "      <td>67.498821</td>\n",
       "      <td>2</td>\n",
       "      <td>1</td>\n",
       "      <td>3.773431</td>\n",
       "      <td>0.501179</td>\n",
       "      <td>7.632460</td>\n",
       "      <td>0</td>\n",
       "    </tr>\n",
       "    <tr>\n",
       "      <th>4</th>\n",
       "      <td>18</td>\n",
       "      <td>0</td>\n",
       "      <td>10.23</td>\n",
       "      <td>4.99</td>\n",
       "      <td>Open Play</td>\n",
       "      <td>Head</td>\n",
       "      <td>1</td>\n",
       "      <td>0</td>\n",
       "      <td>Low</td>\n",
       "      <td>Missed</td>\n",
       "      <td>42.77</td>\n",
       "      <td>5.001769</td>\n",
       "      <td>-42.77</td>\n",
       "      <td>-5.001769</td>\n",
       "      <td>95.77</td>\n",
       "      <td>39.001769</td>\n",
       "      <td>148.77</td>\n",
       "      <td>73.001769</td>\n",
       "      <td>3</td>\n",
       "      <td>1</td>\n",
       "      <td>11.387300</td>\n",
       "      <td>5.001769</td>\n",
       "      <td>26.055464</td>\n",
       "      <td>0</td>\n",
       "    </tr>\n",
       "    <tr>\n",
       "      <th>5</th>\n",
       "      <td>31</td>\n",
       "      <td>26</td>\n",
       "      <td>24.19</td>\n",
       "      <td>0.75</td>\n",
       "      <td>Open Play</td>\n",
       "      <td>Right</td>\n",
       "      <td>3</td>\n",
       "      <td>1</td>\n",
       "      <td>Medium</td>\n",
       "      <td>Missed</td>\n",
       "      <td>28.81</td>\n",
       "      <td>0.751769</td>\n",
       "      <td>-28.81</td>\n",
       "      <td>-0.751769</td>\n",
       "      <td>81.81</td>\n",
       "      <td>34.751769</td>\n",
       "      <td>134.81</td>\n",
       "      <td>68.751769</td>\n",
       "      <td>2</td>\n",
       "      <td>2</td>\n",
       "      <td>24.201679</td>\n",
       "      <td>0.751769</td>\n",
       "      <td>1.780046</td>\n",
       "      <td>0</td>\n",
       "    </tr>\n",
       "  </tbody>\n",
       "</table>\n",
       "</div>"
      ],
      "text/plain": [
       "   match_minute  match_second  position_x  position_y  play_type BodyPart  \\\n",
       "0             7            24        3.24       -0.75  Open Play     Head   \n",
       "1            34            55       24.94        0.75  Open Play     Left   \n",
       "2            60            33        3.74       -0.50  Open Play    Right   \n",
       "4            18             0       10.23        4.99  Open Play     Head   \n",
       "5            31            26       24.19        0.75  Open Play    Right   \n",
       "\n",
       "   Number_Intervening_Opponents  Number_Intervening_Teammates  \\\n",
       "0                             1                             0   \n",
       "1                             3                             0   \n",
       "2                             1                             0   \n",
       "4                             1                             0   \n",
       "5                             3                             1   \n",
       "\n",
       "  Interference_on_Shooter outcome  position_xM  position_yM  position_xM_r  \\\n",
       "0                     Low    Goal        49.76    -0.751769         -49.76   \n",
       "1                  Medium  Missed        28.06     0.751769         -28.06   \n",
       "2                     Low  Missed        49.26    -0.501179         -49.26   \n",
       "4                     Low  Missed        42.77     5.001769         -42.77   \n",
       "5                  Medium  Missed        28.81     0.751769         -28.81   \n",
       "\n",
       "   position_yM_r  position_xM_std  position_yM_std  position_xM_std_r  \\\n",
       "0       0.751769           102.76        33.248231             155.76   \n",
       "1      -0.751769            81.06        34.751769             134.06   \n",
       "2       0.501179           102.26        33.498821             155.26   \n",
       "4      -5.001769            95.77        39.001769             148.77   \n",
       "5      -0.751769            81.81        34.751769             134.81   \n",
       "\n",
       "   position_yM_std_r  BodyPartCode  Interference_on_Shooter_Code  \\\n",
       "0          67.248231             3                             1   \n",
       "1          68.751769             1                             2   \n",
       "2          67.498821             2                             1   \n",
       "4          73.001769             3                             1   \n",
       "5          68.751769             2                             2   \n",
       "\n",
       "   distance_to_goalM  distance_to_centerM      angle  isGoal  \n",
       "0           3.326072             0.751769  13.063042       1  \n",
       "1          24.951328             0.751769   1.726550       0  \n",
       "2           3.773431             0.501179   7.632460       0  \n",
       "4          11.387300             5.001769  26.055464       0  \n",
       "5          24.201679             0.751769   1.780046       0  "
      ]
     },
     "execution_count": 21,
     "metadata": {},
     "output_type": "execute_result"
    }
   ],
   "source": [
    "df_op_shots.head()"
   ]
  },
  {
   "cell_type": "code",
   "execution_count": 22,
   "metadata": {},
   "outputs": [],
   "source": [
    "# Select Features of interest\n",
    "feature_cols = ['distance_to_goalM', \n",
    "                'angle', \n",
    "                'BodyPartCode'\n",
    "               ]\n",
    "\n",
    "# Define Target\n",
    "target_col = ['isGoal']\n",
    "\n",
    "# Assign Feature and Target to separate DataFrames and Series\n",
    "X = df_op_shots[feature_cols]\n",
    "y = df_op_shots[target_col]"
   ]
  },
  {
   "cell_type": "code",
   "execution_count": 23,
   "metadata": {},
   "outputs": [],
   "source": [
    "# Split the dataset into a train set and a test set - 70:30 split\n",
    "X_train, X_test, y_train, y_test = train_test_split(X, y, test_size=0.30)"
   ]
  },
  {
   "cell_type": "code",
   "execution_count": 24,
   "metadata": {},
   "outputs": [
    {
     "data": {
      "text/plain": [
       "LogisticRegression(C=1.0, class_weight=None, dual=False, fit_intercept=True,\n",
       "                   intercept_scaling=1, l1_ratio=None, max_iter=100,\n",
       "                   multi_class='auto', n_jobs=None, penalty='l2',\n",
       "                   random_state=42, solver='lbfgs', tol=0.0001, verbose=0,\n",
       "                   warm_start=False)"
      ]
     },
     "execution_count": 24,
     "metadata": {},
     "output_type": "execute_result"
    }
   ],
   "source": [
    "# Train Logistic Regression model\n",
    "reg_initial = LogisticRegression(random_state=42)\n",
    "reg_initial.fit(X_train, np.array(y_train).ravel())"
   ]
  },
  {
   "cell_type": "code",
   "execution_count": 26,
   "metadata": {},
   "outputs": [],
   "source": [
    "# Predict on the Test set\n",
    "pred_probs = reg_initial.predict_proba(X_test)[:,1]\n",
    "pred_vals = reg_initial.predict(X_test)"
   ]
  },
  {
   "cell_type": "code",
   "execution_count": 27,
   "metadata": {},
   "outputs": [
    {
     "name": "stdout",
     "output_type": "stream",
     "text": [
      "Accuracy of initial model: 88.6%\n",
      "Log Loss of initial model: 0.31312\n",
      "AUC of our initial model: 75.41%\n"
     ]
    }
   ],
   "source": [
    "# Compute performance of the model\n",
    "\n",
    "## Accuracy\n",
    "print(f'Accuracy of initial model: {sk_metrics.accuracy_score(y_test, pred_vals)*100:.1f}%')\n",
    "\n",
    "## Log Loss\n",
    "pred_probs = reg_initial.predict_proba(X_test)[:,1]\n",
    "print(f'Log Loss of initial model: {sk_metrics.log_loss(y_test, pred_probs):.5f}')\n",
    "\n",
    "## AUC\n",
    "print(f'AUC of our initial model: {sk_metrics.roc_auc_score(y_test, pred_probs)*100:.2f}%')"
   ]
  },
  {
   "cell_type": "code",
   "execution_count": 28,
   "metadata": {},
   "outputs": [
    {
     "name": "stdout",
     "output_type": "stream",
     "text": [
      "Coefficient of distance_to_goalM: -0.165\n",
      "Coefficient of angle: -0.008\n",
      "Coefficient of BodyPartCode: -0.511\n"
     ]
    }
   ],
   "source": [
    "# Logistic Model coefficients\n",
    "for i, col in enumerate(X_train.columns):\n",
    "    print(f\"Coefficient of {col}: {reg_initial.coef_[0][i]:.3f}\")"
   ]
  },
  {
   "cell_type": "code",
   "execution_count": null,
   "metadata": {},
   "outputs": [],
   "source": []
  },
  {
   "cell_type": "code",
   "execution_count": null,
   "metadata": {},
   "outputs": [],
   "source": []
  },
  {
   "cell_type": "code",
   "execution_count": null,
   "metadata": {},
   "outputs": [],
   "source": []
  },
  {
   "cell_type": "markdown",
   "metadata": {},
   "source": [
    "#### Predictions\n",
    "There are two types of classification predictions that can be made with the finalised model:\n",
    "*    class predictions; and\n",
    "*    probability predictions."
   ]
  },
  {
   "cell_type": "markdown",
   "metadata": {},
   "source": [
    "##### Single Class Prediction\n",
    "Single class predictions predict which category the instant of data belongs to. As even good quality chances are rarely greater than 30-40% likely to be goals, this type of prediction is not much use in this scenario, but has been included below for reference."
   ]
  },
  {
   "cell_type": "code",
   "execution_count": null,
   "metadata": {},
   "outputs": [],
   "source": [
    "xNew = df_metrica_trans[features]"
   ]
  },
  {
   "cell_type": "code",
   "execution_count": null,
   "metadata": {},
   "outputs": [],
   "source": [
    "yNew = reg_metrica.predict(xNew)"
   ]
  },
  {
   "cell_type": "code",
   "execution_count": null,
   "metadata": {},
   "outputs": [],
   "source": [
    "yNew"
   ]
  },
  {
   "cell_type": "markdown",
   "metadata": {},
   "source": [
    "##### Probability Predictions\n",
    "Probability predictions determines the probability of each instance belonging to the first and second classes (0 and 1), as a percentage i.e. Expected Goals (xG)."
   ]
  },
  {
   "cell_type": "code",
   "execution_count": null,
   "metadata": {},
   "outputs": [],
   "source": [
    "yNew = reg_metrica.predict_proba(xNew)"
   ]
  },
  {
   "cell_type": "code",
   "execution_count": null,
   "metadata": {},
   "outputs": [],
   "source": [
    "yNew"
   ]
  },
  {
   "cell_type": "code",
   "execution_count": null,
   "metadata": {},
   "outputs": [],
   "source": [
    "# Convert the Probability Predictions array to a pandas DataFrame\n",
    "df_metrica_predictions = pd.DataFrame(yNew, columns = ['prob_no_goal', 'prob_goal'])"
   ]
  },
  {
   "cell_type": "code",
   "execution_count": null,
   "metadata": {},
   "outputs": [],
   "source": [
    "df_metrica_predictions.head()"
   ]
  },
  {
   "cell_type": "code",
   "execution_count": null,
   "metadata": {},
   "outputs": [],
   "source": [
    "# Join the Probability Predictions back onto the original Metrica shots DataFrame\n",
    "df_metrica_xg = pd.merge(df_metrica, df_metrica_predictions, left_index=True, right_index=True)\n",
    "\n",
    "# Display DataFrame\n",
    "df_metrica_xg.head()"
   ]
  },
  {
   "cell_type": "code",
   "execution_count": null,
   "metadata": {},
   "outputs": [],
   "source": []
  },
  {
   "cell_type": "markdown",
   "metadata": {},
   "source": [
    "---\n",
    "\n",
    "***Visit my website [eddwebster.com](https://www.eddwebster.com) or my [GitHub Repository](https://github.com/eddwebster) for more projects. If you'd like to get in contact, my Twitter handle is [@eddwebster](http://www.twitter.com/eddwebster) and my email is: edd.j.webster@gmail.com.***"
   ]
  },
  {
   "cell_type": "markdown",
   "metadata": {},
   "source": [
    "[Back to the top](#top)"
   ]
  }
 ],
 "metadata": {
  "kernelspec": {
   "display_name": "Python 3",
   "language": "python",
   "name": "python3"
  },
  "language_info": {
   "codemirror_mode": {
    "name": "ipython",
    "version": 3
   },
   "file_extension": ".py",
   "mimetype": "text/x-python",
   "name": "python",
   "nbconvert_exporter": "python",
   "pygments_lexer": "ipython3",
   "version": "3.7.6"
  },
  "varInspector": {
   "cols": {
    "lenName": 16,
    "lenType": 16,
    "lenVar": 40
   },
   "kernels_config": {
    "python": {
     "delete_cmd_postfix": "",
     "delete_cmd_prefix": "del ",
     "library": "var_list.py",
     "varRefreshCmd": "print(var_dic_list())"
    },
    "r": {
     "delete_cmd_postfix": ") ",
     "delete_cmd_prefix": "rm(",
     "library": "var_list.r",
     "varRefreshCmd": "cat(var_dic_list()) "
    }
   },
   "oldHeight": 642,
   "position": {
    "height": "664px",
    "left": "1059px",
    "right": "20px",
    "top": "-2px",
    "width": "489px"
   },
   "types_to_exclude": [
    "module",
    "function",
    "builtin_function_or_method",
    "instance",
    "_Feature"
   ],
   "varInspector_section_display": "block",
   "window_display": false
  }
 },
 "nbformat": 4,
 "nbformat_minor": 4
}
