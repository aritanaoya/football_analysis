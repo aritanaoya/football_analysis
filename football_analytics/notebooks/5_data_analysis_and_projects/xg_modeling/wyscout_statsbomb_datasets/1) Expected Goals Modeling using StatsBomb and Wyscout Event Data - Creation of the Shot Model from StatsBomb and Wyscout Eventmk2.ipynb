{
 "cells": [
  {
   "cell_type": "code",
   "execution_count": 1,
   "metadata": {},
   "outputs": [],
   "source": [
    "import os\n",
    "import pandas as pd\n",
    "import fuzzymatcher\n",
    "from mplsoccer.pitch import Pitch\n",
    "import matplotlib.pyplot as plt\n",
    "import numpy as np"
   ]
  },
  {
   "cell_type": "code",
   "execution_count": 2,
   "metadata": {},
   "outputs": [],
   "source": [
    "pd.set_option('display.max_columns', None)"
   ]
  },
  {
   "cell_type": "code",
   "execution_count": 3,
   "metadata": {},
   "outputs": [],
   "source": [
    "# Set up initial paths to subfolders\n",
    "base_dir = os.path.join('..', '..', '..')\n",
    "data_dir = os.path.join(base_dir, 'data')\n",
    "data_dir_sb = os.path.join(base_dir, 'data', 'sb')\n",
    "data_dir_wyscout = os.path.join(base_dir, 'data', 'wyscout')\n",
    "data_dir_sb_wyscout = os.path.join(base_dir, 'data', 'sb-wyscout')\n",
    "scripts_dir = os.path.join(base_dir, 'scripts')\n",
    "scripts_dir_sb = os.path.join(base_dir, 'scripts', 'sb')\n",
    "scripts_dir_wyscout = os.path.join(base_dir, 'scripts', 'wyscout')\n",
    "img_dir = os.path.join(base_dir, 'img')\n",
    "fig_dir = os.path.join(base_dir, 'img', 'fig')\n",
    "fig_dir_sb = os.path.join(base_dir, 'img', 'fig', 'sb')\n",
    "fig_dir_wyscout = os.path.join(base_dir, 'img', 'fig', 'wyscout')\n",
    "video_dir = os.path.join(base_dir, 'video')"
   ]
  },
  {
   "cell_type": "markdown",
   "metadata": {},
   "source": [
    "Load the data"
   ]
  },
  {
   "cell_type": "code",
   "execution_count": 4,
   "metadata": {},
   "outputs": [],
   "source": [
    "WYSCOUT = os.path.join(data_dir_wyscout, 'raw')\n",
    "STATSBOMB = os.path.join(data_dir_sb, 'raw')"
   ]
  },
  {
   "cell_type": "code",
   "execution_count": 5,
   "metadata": {},
   "outputs": [],
   "source": [
    "STATSBOMB_SHOTS = os.path.join(STATSBOMB, 'shots.csv')\n",
    "WYSCOUT_SHOTS = os.path.join(WYSCOUT, 'shots.csv')\n",
    "FREEZE_FEATURES = os.path.join(STATSBOMB, 'freeze_features.csv')\n",
    "df_statsbomb_shots = pd.read_csv(STATSBOMB_SHOTS)\n",
    "df_wyscout_shots = pd.read_csv(WYSCOUT_SHOTS)\n",
    "df_freeze_frame = pd.read_csv(FREEZE_FEATURES)"
   ]
  },
  {
   "cell_type": "markdown",
   "metadata": {},
   "source": [
    "Remove three shots without player info"
   ]
  },
  {
   "cell_type": "code",
   "execution_count": 6,
   "metadata": {},
   "outputs": [],
   "source": [
    "df_wyscout_shots = df_wyscout_shots[df_wyscout_shots.player_id.notnull()].copy()"
   ]
  },
  {
   "cell_type": "markdown",
   "metadata": {},
   "source": [
    "Get a unique team id by combining the datasets and using a fuzzy match on team name"
   ]
  },
  {
   "cell_type": "code",
   "execution_count": 7,
   "metadata": {},
   "outputs": [],
   "source": [
    "cols = ['team_id', 'team_name', 'competition_gender']\n",
    "a = df_wyscout_shots[cols].drop_duplicates('team_id', keep='last').rename({'team_id': 'wyscout_team_id'}, axis=1).copy()\n",
    "b = df_statsbomb_shots[cols].drop_duplicates('team_id', keep='last').rename({'team_id': 'statsbomb_team_id'}, axis=1).copy()\n",
    "team_match = fuzzymatcher.fuzzy_left_join(a,\n",
    "                                          b,\n",
    "                                          left_on=['team_name', 'competition_gender'],\n",
    "                                          right_on=['team_name', 'competition_gender'],\n",
    "                                          left_id_col='wyscout_team_id',\n",
    "                                          right_id_col='statsbomb_team_id')\n",
    "team_match = team_match[(team_match.best_match_score > 0.02) & (team_match.competition_gender_right == 'male')].copy()\n",
    "team_match = (team_match[['wyscout_team_id', 'statsbomb_team_id', 'competition_gender_right', 'team_name_right']]\n",
    "              .rename({'team_name_right': 'team_name', 'competition_gender_right': 'competition_gender'}, axis=1)\n",
    "              .copy())\n",
    "df_team = pd.concat([a[~a.wyscout_team_id.isin(team_match.wyscout_team_id)],\n",
    "                     b[~b.statsbomb_team_id.isin(team_match.statsbomb_team_id)],\n",
    "                     team_match])\n",
    "df_team.reset_index(drop=True, inplace=True)\n",
    "df_team.index.name = 'team_id'\n",
    "df_team.reset_index(inplace=True)"
   ]
  },
  {
   "cell_type": "markdown",
   "metadata": {},
   "source": [
    "Add the unique team_id/ name to the datasets"
   ]
  },
  {
   "cell_type": "code",
   "execution_count": 8,
   "metadata": {},
   "outputs": [],
   "source": [
    "# wyscout\n",
    "a = df_team[['team_id', 'wyscout_team_id', 'team_name']].copy()\n",
    "df_wyscout_shots.rename({'team_id': 'wyscout_team_id'}, axis=1, inplace=True)\n",
    "df_wyscout_shots.drop('team_name', axis=1, inplace=True)\n",
    "df_wyscout_shots = df_wyscout_shots.merge(a, how='left', on='wyscout_team_id')\n",
    "# statsbomb\n",
    "b = df_team[['team_id', 'statsbomb_team_id', 'team_name']].copy()\n",
    "df_statsbomb_shots.rename({'team_id': 'statsbomb_team_id'}, axis=1, inplace=True)\n",
    "df_statsbomb_shots.drop('team_name', axis=1, inplace=True)\n",
    "df_statsbomb_shots = df_statsbomb_shots.merge(b, how='left', on='statsbomb_team_id')"
   ]
  },
  {
   "cell_type": "markdown",
   "metadata": {},
   "source": [
    "Get a unique player id"
   ]
  },
  {
   "cell_type": "code",
   "execution_count": 9,
   "metadata": {},
   "outputs": [],
   "source": [
    "# get a dataframe of statsbomb players\n",
    "cols = ['player_id', 'team_id', 'team_name', 'firstName', 'middleName', 'lastName', 'Name', 'competition_gender']\n",
    "statsbomb_players = df_statsbomb_shots[cols].drop_duplicates('player_id').copy()\n",
    "statsbomb_players.rename({'player_id': 'player_id_statsbomb'}, axis=1, inplace=True)\n",
    "# get a dataframe of wyscout players\n",
    "wyscout_players = df_wyscout_shots[cols].drop_duplicates('player_id').copy()\n",
    "wyscout_players.rename({'player_id': 'player_id_wyscout'}, axis=1, inplace=True)"
   ]
  },
  {
   "cell_type": "code",
   "execution_count": 10,
   "metadata": {},
   "outputs": [
    {
     "name": "stdout",
     "output_type": "stream",
     "text": [
      "Check no duplicates: 0 0\n"
     ]
    }
   ],
   "source": [
    "# merge the two datasets: exact match on names\n",
    "exact_match = wyscout_players.merge(statsbomb_players, how='inner', \n",
    "                                    on=['firstName', 'middleName', 'lastName', 'Name'],\n",
    "                                    suffixes=['_wyscout', '_statsbomb'])\n",
    "print('Check no duplicates:', exact_match.player_id_wyscout.duplicated().sum(), \n",
    "      exact_match.player_id_statsbomb.duplicated().sum())\n",
    "exact_match = exact_match[['player_id_wyscout', 'player_id_statsbomb', 'firstName', 'middleName', 'lastName', 'Name']].copy()"
   ]
  },
  {
   "cell_type": "code",
   "execution_count": 11,
   "metadata": {},
   "outputs": [],
   "source": [
    "# for the unmatched use a fuzzy match to match on names\n",
    "not_matched_statsbomb = statsbomb_players[~statsbomb_players.player_id_statsbomb.isin(exact_match.player_id_statsbomb)].copy()\n",
    "not_matched_wyscout = wyscout_players[~wyscout_players.player_id_wyscout.isin(exact_match.player_id_wyscout)].copy()\n",
    "fuzzy_match = fuzzymatcher.fuzzy_left_join(not_matched_wyscout,\n",
    "                                           not_matched_statsbomb,\n",
    "                                           left_on=['Name'],\n",
    "                                           right_on=['Name'],\n",
    "                                           left_id_col='player_id_wyscout',\n",
    "                                           right_id_col='player_id_statsbomb')\n",
    "fuzzy_match.sort_values('best_match_score', ascending=False, inplace=True)\n",
    "fuzzy_match.drop_duplicates('player_id_wyscout', keep='first', inplace=True)\n",
    "fuzzy_match.drop_duplicates('player_id_statsbomb', keep='first', inplace=True)\n",
    "# drop some dodgy matches just above the threshold (hand checked)\n",
    "fuzzy_match = fuzzy_match[(fuzzy_match.best_match_score > 0.25)  & \n",
    "                          (fuzzy_match.competition_gender_left == fuzzy_match.competition_gender_right) & \n",
    "                          (~fuzzy_match.player_id_statsbomb.isin([23804, 40366, 40257]))].copy()"
   ]
  },
  {
   "cell_type": "code",
   "execution_count": 12,
   "metadata": {},
   "outputs": [],
   "source": [
    "# concatenate all the matches\n",
    "fuzzy_match = fuzzy_match[['player_id_wyscout', 'player_id_statsbomb', 'firstName_right',\n",
    "                           'middleName_right', 'lastName_right', 'Name_right']].copy()\n",
    "fuzzy_match.rename({'firstName_right': 'firstName', 'middleName_right': 'middleName',\n",
    "                    'lastName_right': 'lastName', 'Name_right': 'Name'}, axis=1, inplace=True)\n",
    "matches = pd.concat([fuzzy_match, exact_match])\n",
    "# add the non-matches\n",
    "not_matched_wyscout = wyscout_players[~wyscout_players.player_id_wyscout.isin(matches.player_id_wyscout)].copy()\n",
    "not_matched_statsbomb = statsbomb_players[~statsbomb_players.player_id_statsbomb.isin(matches.player_id_statsbomb)].copy()\n",
    "all_players = pd.concat([matches, not_matched_wyscout, not_matched_statsbomb])\n",
    "all_players.drop(['team_id', 'team_name', 'competition_gender'], axis=1, inplace=True)\n",
    "all_players.reset_index(drop=True, inplace=True)\n",
    "all_players.index.name = 'player_id'\n",
    "all_players.reset_index(inplace=True)"
   ]
  },
  {
   "cell_type": "markdown",
   "metadata": {},
   "source": [
    "Add unique player id/ Names to datasets"
   ]
  },
  {
   "cell_type": "code",
   "execution_count": 13,
   "metadata": {},
   "outputs": [],
   "source": [
    "# merge statsbomb\n",
    "df_statsbomb_shots.drop(['firstName', 'middleName', 'lastName', 'Name'], axis=1, inplace=True)\n",
    "df_statsbomb_shots.rename({'player_id': 'player_id_statsbomb'}, axis=1, inplace=True)\n",
    "df_statsbomb_shots = df_statsbomb_shots.merge(all_players.drop('player_id_wyscout', axis=1),\n",
    "                                              on='player_id_statsbomb', how='left')\n",
    "# merge wyscout\n",
    "df_wyscout_shots.drop(['firstName', 'middleName', 'lastName', 'Name'], axis=1, inplace=True)\n",
    "df_wyscout_shots.rename({'player_id': 'player_id_wyscout'}, axis=1, inplace=True)\n",
    "df_wyscout_shots = df_wyscout_shots.merge(all_players.drop('player_id_statsbomb', axis=1),\n",
    "                                          on='player_id_wyscout', how='left')"
   ]
  },
  {
   "cell_type": "markdown",
   "metadata": {},
   "source": [
    "Merge freeze frame features"
   ]
  },
  {
   "cell_type": "code",
   "execution_count": 14,
   "metadata": {},
   "outputs": [],
   "source": [
    "df_statsbomb_shots = df_statsbomb_shots.merge(df_freeze_frame, on='id', how='left')"
   ]
  },
  {
   "cell_type": "markdown",
   "metadata": {},
   "source": [
    "Concatenate shot datasets"
   ]
  },
  {
   "cell_type": "code",
   "execution_count": 15,
   "metadata": {},
   "outputs": [],
   "source": [
    "df_statsbomb_shots['dataset'] = 'statsbomb'\n",
    "df_wyscout_shots.rename({'id': 'wyscout_id'}, axis=1, inplace=True)\n",
    "df_wyscout_shots['dataset'] = 'wyscout'\n",
    "df_statsbomb_shots.rename({'id': 'statsbomb_id'}, axis=1, inplace=True)\n",
    "df_all_shots = pd.concat([df_statsbomb_shots, df_wyscout_shots], axis=0)"
   ]
  },
  {
   "cell_type": "markdown",
   "metadata": {},
   "source": [
    "Pass technique name to 'other' if null"
   ]
  },
  {
   "cell_type": "code",
   "execution_count": 16,
   "metadata": {},
   "outputs": [],
   "source": [
    "df_all_shots.loc[(df_all_shots.pass_technique_name.isnull()) &\n",
    "                 (df_all_shots.assist_type == 'pass'), 'pass_technique_name'] = 'other'"
   ]
  },
  {
   "cell_type": "markdown",
   "metadata": {},
   "source": [
    "Shot heatmap"
   ]
  },
  {
   "cell_type": "code",
   "execution_count": 17,
   "metadata": {},
   "outputs": [
    {
     "name": "stdout",
     "output_type": "stream",
     "text": [
      "Number of shots: 67601 ;Number of goals: 7191\n"
     ]
    }
   ],
   "source": [
    "print('Number of shots:', len(df_all_shots), ';Number of goals:', df_all_shots.goal.sum())"
   ]
  },
  {
   "cell_type": "code",
   "execution_count": 19,
   "metadata": {},
   "outputs": [
    {
     "name": "stderr",
     "output_type": "stream",
     "text": [
      "/opt/anaconda3/lib/python3.7/site-packages/scipy/stats/_binned_statistic.py:607: FutureWarning: Using a non-tuple sequence for multidimensional indexing is deprecated; use `arr[tuple(seq)]` instead of `arr[seq]`. In the future this will be interpreted as an array index, `arr[np.array(seq)]`, which will result either in an error or a different result.\n",
      "  result = result[core]\n"
     ]
    },
    {
     "data": {
      "image/png": "[encoded data removed]",
      "text/plain": [
       "<Figure size 1152x864 with 1 Axes>"
      ]
     },
     "metadata": {},
     "output_type": "display_data"
    }
   ],
   "source": [
    "plt.style.use('dark_background')\n",
    "pitch = Pitch(pitch_type='stats', figsize=(16, 12), orientation='vertical', view='half', line_zorder=2)\n",
    "fig, ax = pitch.draw()\n",
    "bs = pitch.bin_statistic(df_all_shots.x, df_all_shots.y, statistic='count', bins=(30, 20))\n",
    "pcm = pitch.heatmap(bs, ax=ax, cmap='hot', edgecolors='#22312b')\n",
    "bs['statistic'] = np.nan_to_num(bs['statistic'])\n",
    "bs['statistic'] = (bs['statistic']).astype(np.int32)\n",
    "annotation = pitch.label_heatmap(bs, color='white', fontsize=15, ax=ax, ha='center', va='center', zorder=3)\n",
    "mask = bs['statistic'] > 300\n",
    "bs['statistic'] = bs['statistic'].astype(str)\n",
    "bs['statistic'][~mask] = ''\n",
    "annotation = pitch.label_heatmap(bs, color='black', fontsize=15, ax=ax, ha='center', va='center', zorder=4)\n",
    "#fig.savefig(os.path.join('..', '..', 'figures', '17_number_of_shots_by_location.png'),\n",
    "#            bbox_inches = 'tight', pad_inches = 0.2)"
   ]
  },
  {
   "cell_type": "markdown",
   "metadata": {},
   "source": [
    "Create ID column"
   ]
  },
  {
   "cell_type": "code",
   "execution_count": 20,
   "metadata": {},
   "outputs": [],
   "source": [
    "df_all_shots['shot_id'] = df_all_shots.index + 1"
   ]
  },
  {
   "cell_type": "markdown",
   "metadata": {},
   "source": [
    "Save dataset"
   ]
  },
  {
   "cell_type": "code",
   "execution_count": 21,
   "metadata": {},
   "outputs": [],
   "source": [
    "df_all_shots.reset_index(drop=True, inplace=True)"
   ]
  },
  {
   "cell_type": "code",
   "execution_count": 22,
   "metadata": {},
   "outputs": [],
   "source": [
    "df_all_shots.to_csv(os.path.join(data_dir_sb_wyscout, 'shots.csv'))"
   ]
  },
  {
   "cell_type": "markdown",
   "metadata": {},
   "source": [
    "Info"
   ]
  },
  {
   "cell_type": "code",
   "execution_count": 23,
   "metadata": {},
   "outputs": [
    {
     "name": "stdout",
     "output_type": "stream",
     "text": [
      "<class 'pandas.core.frame.DataFrame'>\n",
      "RangeIndex: 67601 entries, 0 to 67600\n",
      "Data columns (total 54 columns):\n",
      " #   Column                  Non-Null Count  Dtype  \n",
      "---  ------                  --------------  -----  \n",
      " 0   Unnamed: 0_x            22317 non-null  float64\n",
      " 1   match_id                67601 non-null  int64  \n",
      " 2   statsbomb_id            22317 non-null  object \n",
      " 3   eventSec                67601 non-null  float64\n",
      " 4   period                  67601 non-null  int64  \n",
      " 5   goal                    67601 non-null  bool   \n",
      " 6   statsbomb_team_id       22317 non-null  float64\n",
      " 7   player_id_statsbomb     22317 non-null  float64\n",
      " 8   shot_type_name          67601 non-null  object \n",
      " 9   x                       67601 non-null  float64\n",
      " 10  y                       67601 non-null  float64\n",
      " 11  counter_attack          67601 non-null  bool   \n",
      " 12  fast_break              67601 non-null  bool   \n",
      " 13  strong_foot             67601 non-null  bool   \n",
      " 14  body_part_name          67601 non-null  object \n",
      " 15  assist_type             67601 non-null  object \n",
      " 16  pass_end_y              15865 non-null  float64\n",
      " 17  pass_end_x              15865 non-null  float64\n",
      " 18  pass_switch             45984 non-null  object \n",
      " 19  pass_cross              45984 non-null  object \n",
      " 20  pass_cut_back           45984 non-null  object \n",
      " 21  pass_height_name        45984 non-null  object \n",
      " 22  pass_technique_name     45984 non-null  object \n",
      " 23  carry_length            15865 non-null  float64\n",
      " 24  visible_angle           67601 non-null  float64\n",
      " 25  middle_angle            67601 non-null  float64\n",
      " 26  distance_to_goal        67601 non-null  float64\n",
      " 27  distance_visible_angle  67601 non-null  float64\n",
      " 28  log_distance_to_goal    67601 non-null  float64\n",
      " 29  competition_gender      67601 non-null  object \n",
      " 30  shot_one_on_one         22317 non-null  object \n",
      " 31  shot_open_goal          22317 non-null  object \n",
      " 32  under_pressure          22317 non-null  object \n",
      " 33  player_id_goalkeeper    67601 non-null  float64\n",
      " 34  team_id                 67601 non-null  int64  \n",
      " 35  team_name               67601 non-null  object \n",
      " 36  player_id               67601 non-null  int64  \n",
      " 37  firstName               67601 non-null  object \n",
      " 38  middleName              30178 non-null  object \n",
      " 39  lastName                67601 non-null  object \n",
      " 40  Name                    67601 non-null  object \n",
      " 41  Unnamed: 0_y            22317 non-null  float64\n",
      " 42  area_shot               22317 non-null  float64\n",
      " 43  area_goal               22317 non-null  float64\n",
      " 44  n_angle                 22317 non-null  float64\n",
      " 45  goalkeeper_x            22258 non-null  float64\n",
      " 46  goalkeeper_y            22258 non-null  float64\n",
      " 47  dataset                 67601 non-null  object \n",
      " 48  Unnamed: 0              45284 non-null  float64\n",
      " 49  wyscout_id              45284 non-null  float64\n",
      " 50  wyscout_team_id         45284 non-null  float64\n",
      " 51  player_id_wyscout       45284 non-null  float64\n",
      " 52  smart_pass              30119 non-null  object \n",
      " 53  shot_id                 67601 non-null  int64  \n",
      "dtypes: bool(4), float64(25), int64(5), object(20)\n",
      "memory usage: 26.0+ MB\n"
     ]
    }
   ],
   "source": [
    "df_all_shots.info()"
   ]
  },
  {
   "cell_type": "markdown",
   "metadata": {},
   "source": [
    "Compare datasets"
   ]
  },
  {
   "cell_type": "code",
   "execution_count": 24,
   "metadata": {},
   "outputs": [
    {
     "name": "stderr",
     "output_type": "stream",
     "text": [
      "/opt/anaconda3/lib/python3.7/site-packages/scipy/stats/_binned_statistic.py:607: FutureWarning: Using a non-tuple sequence for multidimensional indexing is deprecated; use `arr[tuple(seq)]` instead of `arr[seq]`. In the future this will be interpreted as an array index, `arr[np.array(seq)]`, which will result either in an error or a different result.\n",
      "  result = result[core]\n"
     ]
    },
    {
     "data": {
      "text/plain": [
       "Text(0.5, 1.0, 'Wyscout')"
      ]
     },
     "execution_count": 24,
     "metadata": {},
     "output_type": "execute_result"
    },
    {
     "data": {
      "image/png": "[encoded data removed]",
      "text/plain": [
       "<Figure size 1152x864 with 2 Axes>"
      ]
     },
     "metadata": {},
     "output_type": "display_data"
    }
   ],
   "source": [
    "pitch = Pitch(pitch_type='stats', figsize=(16, 12), layout=(1, 2), pad_left=-10, pad_right=-10, pad_bottom=-10,\n",
    "              orientation='vertical', view='half', line_zorder=2)\n",
    "fig, ax = pitch.draw()\n",
    "ax = ax.ravel()\n",
    "bs = pitch.bin_statistic(df_all_shots[df_all_shots.dataset=='statsbomb'].x,\n",
    "                         df_all_shots[df_all_shots.dataset=='statsbomb'].y, \n",
    "                         statistic='count', bins=(30, 20))\n",
    "bs['statistic'] = (bs['statistic']).astype(np.int32)\n",
    "pcm = pitch.heatmap(bs, ax=ax[0], cmap='hot', edgecolors='#22312b')\n",
    "ax[0].set_title('StatsBomb', fontsize=15, pad=-4)\n",
    "bs = pitch.bin_statistic(df_all_shots[df_all_shots.dataset=='wyscout'].x,\n",
    "                         df_all_shots[df_all_shots.dataset=='wyscout'].y,\n",
    "                         statistic='count', bins=(30, 20))\n",
    "bs['statistic'] = (bs['statistic']).astype(np.int32)\n",
    "pcm = pitch.heatmap(bs, ax=ax[1], cmap='hot', edgecolors='#22312b')\n",
    "ax[1].set_title('Wyscout', fontsize=15, pad=-4)"
   ]
  },
  {
   "cell_type": "code",
   "execution_count": 25,
   "metadata": {},
   "outputs": [
    {
     "data": {
      "text/plain": [
       "dataset\n",
       "statsbomb    0.033517\n",
       "wyscout      0.041803\n",
       "Name: fast_break, dtype: float64"
      ]
     },
     "execution_count": 25,
     "metadata": {},
     "output_type": "execute_result"
    }
   ],
   "source": [
    "df_all_shots.groupby('dataset').fast_break.mean()"
   ]
  },
  {
   "cell_type": "code",
   "execution_count": 26,
   "metadata": {},
   "outputs": [
    {
     "data": {
      "text/plain": [
       "dataset\n",
       "statsbomb    0.047005\n",
       "wyscout      0.053065\n",
       "Name: counter_attack, dtype: float64"
      ]
     },
     "execution_count": 26,
     "metadata": {},
     "output_type": "execute_result"
    }
   ],
   "source": [
    "df_all_shots.groupby('dataset').counter_attack.mean()"
   ]
  },
  {
   "cell_type": "code",
   "execution_count": 27,
   "metadata": {},
   "outputs": [
    {
     "data": {
      "text/html": [
       "<div>\n",
       "<style scoped>\n",
       "    .dataframe tbody tr th:only-of-type {\n",
       "        vertical-align: middle;\n",
       "    }\n",
       "\n",
       "    .dataframe tbody tr th {\n",
       "        vertical-align: top;\n",
       "    }\n",
       "\n",
       "    .dataframe thead th {\n",
       "        text-align: right;\n",
       "    }\n",
       "</style>\n",
       "<table border=\"1\" class=\"dataframe\">\n",
       "  <thead>\n",
       "    <tr style=\"text-align: right;\">\n",
       "      <th></th>\n",
       "      <th>count</th>\n",
       "      <th>mean</th>\n",
       "      <th>std</th>\n",
       "      <th>min</th>\n",
       "      <th>25%</th>\n",
       "      <th>50%</th>\n",
       "      <th>75%</th>\n",
       "      <th>max</th>\n",
       "    </tr>\n",
       "    <tr>\n",
       "      <th>dataset</th>\n",
       "      <th></th>\n",
       "      <th></th>\n",
       "      <th></th>\n",
       "      <th></th>\n",
       "      <th></th>\n",
       "      <th></th>\n",
       "      <th></th>\n",
       "      <th></th>\n",
       "    </tr>\n",
       "  </thead>\n",
       "  <tbody>\n",
       "    <tr>\n",
       "      <th>statsbomb</th>\n",
       "      <td>22317.0</td>\n",
       "      <td>0.464159</td>\n",
       "      <td>0.297529</td>\n",
       "      <td>0.0</td>\n",
       "      <td>0.272875</td>\n",
       "      <td>0.359457</td>\n",
       "      <td>0.560685</td>\n",
       "      <td>3.141593</td>\n",
       "    </tr>\n",
       "    <tr>\n",
       "      <th>wyscout</th>\n",
       "      <td>45284.0</td>\n",
       "      <td>0.403722</td>\n",
       "      <td>0.248600</td>\n",
       "      <td>0.0</td>\n",
       "      <td>0.244729</td>\n",
       "      <td>0.316877</td>\n",
       "      <td>0.491420</td>\n",
       "      <td>3.141593</td>\n",
       "    </tr>\n",
       "  </tbody>\n",
       "</table>\n",
       "</div>"
      ],
      "text/plain": [
       "             count      mean       std  min       25%       50%       75%  \\\n",
       "dataset                                                                     \n",
       "statsbomb  22317.0  0.464159  0.297529  0.0  0.272875  0.359457  0.560685   \n",
       "wyscout    45284.0  0.403722  0.248600  0.0  0.244729  0.316877  0.491420   \n",
       "\n",
       "                max  \n",
       "dataset              \n",
       "statsbomb  3.141593  \n",
       "wyscout    3.141593  "
      ]
     },
     "execution_count": 27,
     "metadata": {},
     "output_type": "execute_result"
    }
   ],
   "source": [
    "df_all_shots.groupby('dataset').visible_angle.describe()"
   ]
  },
  {
   "cell_type": "code",
   "execution_count": 28,
   "metadata": {},
   "outputs": [
    {
     "data": {
      "text/html": [
       "<div>\n",
       "<style scoped>\n",
       "    .dataframe tbody tr th:only-of-type {\n",
       "        vertical-align: middle;\n",
       "    }\n",
       "\n",
       "    .dataframe tbody tr th {\n",
       "        vertical-align: top;\n",
       "    }\n",
       "\n",
       "    .dataframe thead th {\n",
       "        text-align: right;\n",
       "    }\n",
       "</style>\n",
       "<table border=\"1\" class=\"dataframe\">\n",
       "  <thead>\n",
       "    <tr style=\"text-align: right;\">\n",
       "      <th></th>\n",
       "      <th>count</th>\n",
       "      <th>mean</th>\n",
       "      <th>std</th>\n",
       "      <th>min</th>\n",
       "      <th>25%</th>\n",
       "      <th>50%</th>\n",
       "      <th>75%</th>\n",
       "      <th>max</th>\n",
       "    </tr>\n",
       "    <tr>\n",
       "      <th>dataset</th>\n",
       "      <th></th>\n",
       "      <th></th>\n",
       "      <th></th>\n",
       "      <th></th>\n",
       "      <th></th>\n",
       "      <th></th>\n",
       "      <th></th>\n",
       "      <th></th>\n",
       "    </tr>\n",
       "  </thead>\n",
       "  <tbody>\n",
       "    <tr>\n",
       "      <th>statsbomb</th>\n",
       "      <td>22317.0</td>\n",
       "      <td>0.496851</td>\n",
       "      <td>0.329559</td>\n",
       "      <td>0.000000</td>\n",
       "      <td>0.224889</td>\n",
       "      <td>0.459831</td>\n",
       "      <td>0.726642</td>\n",
       "      <td>1.570796</td>\n",
       "    </tr>\n",
       "    <tr>\n",
       "      <th>wyscout</th>\n",
       "      <td>45284.0</td>\n",
       "      <td>0.484218</td>\n",
       "      <td>0.313208</td>\n",
       "      <td>0.005017</td>\n",
       "      <td>0.225812</td>\n",
       "      <td>0.452154</td>\n",
       "      <td>0.699404</td>\n",
       "      <td>1.570796</td>\n",
       "    </tr>\n",
       "  </tbody>\n",
       "</table>\n",
       "</div>"
      ],
      "text/plain": [
       "             count      mean       std       min       25%       50%  \\\n",
       "dataset                                                                \n",
       "statsbomb  22317.0  0.496851  0.329559  0.000000  0.224889  0.459831   \n",
       "wyscout    45284.0  0.484218  0.313208  0.005017  0.225812  0.452154   \n",
       "\n",
       "                75%       max  \n",
       "dataset                        \n",
       "statsbomb  0.726642  1.570796  \n",
       "wyscout    0.699404  1.570796  "
      ]
     },
     "execution_count": 28,
     "metadata": {},
     "output_type": "execute_result"
    }
   ],
   "source": [
    "df_all_shots.groupby('dataset').middle_angle.describe()"
   ]
  },
  {
   "cell_type": "code",
   "execution_count": 29,
   "metadata": {},
   "outputs": [
    {
     "data": {
      "text/html": [
       "<div>\n",
       "<style scoped>\n",
       "    .dataframe tbody tr th:only-of-type {\n",
       "        vertical-align: middle;\n",
       "    }\n",
       "\n",
       "    .dataframe tbody tr th {\n",
       "        vertical-align: top;\n",
       "    }\n",
       "\n",
       "    .dataframe thead th {\n",
       "        text-align: right;\n",
       "    }\n",
       "</style>\n",
       "<table border=\"1\" class=\"dataframe\">\n",
       "  <thead>\n",
       "    <tr style=\"text-align: right;\">\n",
       "      <th></th>\n",
       "      <th>count</th>\n",
       "      <th>mean</th>\n",
       "      <th>std</th>\n",
       "      <th>min</th>\n",
       "      <th>25%</th>\n",
       "      <th>50%</th>\n",
       "      <th>75%</th>\n",
       "      <th>max</th>\n",
       "    </tr>\n",
       "    <tr>\n",
       "      <th>dataset</th>\n",
       "      <th></th>\n",
       "      <th></th>\n",
       "      <th></th>\n",
       "      <th></th>\n",
       "      <th></th>\n",
       "      <th></th>\n",
       "      <th></th>\n",
       "      <th></th>\n",
       "    </tr>\n",
       "  </thead>\n",
       "  <tbody>\n",
       "    <tr>\n",
       "      <th>statsbomb</th>\n",
       "      <td>22317.0</td>\n",
       "      <td>16.765658</td>\n",
       "      <td>7.759724</td>\n",
       "      <td>0.6</td>\n",
       "      <td>10.6</td>\n",
       "      <td>15.9</td>\n",
       "      <td>22.3</td>\n",
       "      <td>70.4</td>\n",
       "    </tr>\n",
       "    <tr>\n",
       "      <th>wyscout</th>\n",
       "      <td>45284.0</td>\n",
       "      <td>19.074307</td>\n",
       "      <td>8.376332</td>\n",
       "      <td>0.4</td>\n",
       "      <td>12.6</td>\n",
       "      <td>17.9</td>\n",
       "      <td>25.6</td>\n",
       "      <td>74.9</td>\n",
       "    </tr>\n",
       "  </tbody>\n",
       "</table>\n",
       "</div>"
      ],
      "text/plain": [
       "             count       mean       std  min   25%   50%   75%   max\n",
       "dataset                                                             \n",
       "statsbomb  22317.0  16.765658  7.759724  0.6  10.6  15.9  22.3  70.4\n",
       "wyscout    45284.0  19.074307  8.376332  0.4  12.6  17.9  25.6  74.9"
      ]
     },
     "execution_count": 29,
     "metadata": {},
     "output_type": "execute_result"
    }
   ],
   "source": [
    "df_all_shots.groupby('dataset').distance_to_goal.describe()"
   ]
  },
  {
   "cell_type": "code",
   "execution_count": 30,
   "metadata": {},
   "outputs": [
    {
     "data": {
      "text/html": [
       "<div>\n",
       "<style scoped>\n",
       "    .dataframe tbody tr th:only-of-type {\n",
       "        vertical-align: middle;\n",
       "    }\n",
       "\n",
       "    .dataframe tbody tr th {\n",
       "        vertical-align: top;\n",
       "    }\n",
       "\n",
       "    .dataframe thead th {\n",
       "        text-align: right;\n",
       "    }\n",
       "</style>\n",
       "<table border=\"1\" class=\"dataframe\">\n",
       "  <thead>\n",
       "    <tr style=\"text-align: right;\">\n",
       "      <th></th>\n",
       "      <th>count</th>\n",
       "      <th>mean</th>\n",
       "      <th>std</th>\n",
       "      <th>min</th>\n",
       "      <th>25%</th>\n",
       "      <th>50%</th>\n",
       "      <th>75%</th>\n",
       "      <th>max</th>\n",
       "    </tr>\n",
       "    <tr>\n",
       "      <th>dataset</th>\n",
       "      <th></th>\n",
       "      <th></th>\n",
       "      <th></th>\n",
       "      <th></th>\n",
       "      <th></th>\n",
       "      <th></th>\n",
       "      <th></th>\n",
       "      <th></th>\n",
       "    </tr>\n",
       "  </thead>\n",
       "  <tbody>\n",
       "    <tr>\n",
       "      <th>statsbomb</th>\n",
       "      <td>22317.0</td>\n",
       "      <td>6.080915</td>\n",
       "      <td>1.164912</td>\n",
       "      <td>0.0</td>\n",
       "      <td>5.575534</td>\n",
       "      <td>6.437036</td>\n",
       "      <td>6.953032</td>\n",
       "      <td>7.309511</td>\n",
       "    </tr>\n",
       "    <tr>\n",
       "      <th>wyscout</th>\n",
       "      <td>45284.0</td>\n",
       "      <td>6.155667</td>\n",
       "      <td>1.104898</td>\n",
       "      <td>0.0</td>\n",
       "      <td>5.679082</td>\n",
       "      <td>6.512238</td>\n",
       "      <td>6.978229</td>\n",
       "      <td>9.424778</td>\n",
       "    </tr>\n",
       "  </tbody>\n",
       "</table>\n",
       "</div>"
      ],
      "text/plain": [
       "             count      mean       std  min       25%       50%       75%  \\\n",
       "dataset                                                                     \n",
       "statsbomb  22317.0  6.080915  1.164912  0.0  5.575534  6.437036  6.953032   \n",
       "wyscout    45284.0  6.155667  1.104898  0.0  5.679082  6.512238  6.978229   \n",
       "\n",
       "                max  \n",
       "dataset              \n",
       "statsbomb  7.309511  \n",
       "wyscout    9.424778  "
      ]
     },
     "execution_count": 30,
     "metadata": {},
     "output_type": "execute_result"
    }
   ],
   "source": [
    "df_all_shots.groupby('dataset').distance_visible_angle.describe()"
   ]
  },
  {
   "cell_type": "code",
   "execution_count": 31,
   "metadata": {},
   "outputs": [
    {
     "data": {
      "text/plain": [
       "dataset    pass_switch\n",
       "statsbomb  False          14849\n",
       "           True            1016\n",
       "wyscout    False          27961\n",
       "           True            2158\n",
       "Name: pass_switch, dtype: int64"
      ]
     },
     "execution_count": 31,
     "metadata": {},
     "output_type": "execute_result"
    }
   ],
   "source": [
    "df_all_shots.groupby('dataset').pass_switch.value_counts()"
   ]
  },
  {
   "cell_type": "code",
   "execution_count": 32,
   "metadata": {},
   "outputs": [
    {
     "data": {
      "text/plain": [
       "dataset    pass_cut_back\n",
       "statsbomb  False            15444\n",
       "           True               421\n",
       "wyscout    False            29114\n",
       "           True              1005\n",
       "Name: pass_cut_back, dtype: int64"
      ]
     },
     "execution_count": 32,
     "metadata": {},
     "output_type": "execute_result"
    }
   ],
   "source": [
    "df_all_shots.groupby('dataset').pass_cut_back.value_counts()"
   ]
  },
  {
   "cell_type": "code",
   "execution_count": 33,
   "metadata": {},
   "outputs": [
    {
     "data": {
      "text/plain": [
       "dataset    pass_cross\n",
       "statsbomb  False         12831\n",
       "           True           3034\n",
       "wyscout    False         22397\n",
       "           True           7722\n",
       "Name: pass_cross, dtype: int64"
      ]
     },
     "execution_count": 33,
     "metadata": {},
     "output_type": "execute_result"
    }
   ],
   "source": [
    "df_all_shots.groupby('dataset').pass_cross.value_counts()"
   ]
  },
  {
   "cell_type": "code",
   "execution_count": 34,
   "metadata": {},
   "outputs": [
    {
     "data": {
      "text/plain": [
       "False    27628\n",
       "True      2491\n",
       "Name: smart_pass, dtype: int64"
      ]
     },
     "execution_count": 34,
     "metadata": {},
     "output_type": "execute_result"
    }
   ],
   "source": [
    "df_all_shots.smart_pass.value_counts()"
   ]
  },
  {
   "cell_type": "code",
   "execution_count": 35,
   "metadata": {},
   "outputs": [
    {
     "data": {
      "text/plain": [
       "dataset    assist_type\n",
       "statsbomb  pass           15865\n",
       "           recovery        2136\n",
       "           clearance       1802\n",
       "           direct          1330\n",
       "           rebound         1184\n",
       "wyscout    pass           30119\n",
       "           recovery        6929\n",
       "           rebound         3510\n",
       "           clearance       2517\n",
       "           direct          2209\n",
       "Name: assist_type, dtype: int64"
      ]
     },
     "execution_count": 35,
     "metadata": {},
     "output_type": "execute_result"
    }
   ],
   "source": [
    "df_all_shots.groupby('dataset').assist_type.value_counts()"
   ]
  },
  {
   "cell_type": "code",
   "execution_count": 36,
   "metadata": {
    "scrolled": true
   },
   "outputs": [
    {
     "data": {
      "text/plain": [
       "dataset    shot_type_name  \n",
       "statsbomb  open_play           14669\n",
       "           corner               2637\n",
       "           throw_in             2081\n",
       "           free_kick            1600\n",
       "           direct_set_piece     1330\n",
       "wyscout    open_play           30897\n",
       "           corner               5542\n",
       "           throw_in             4444\n",
       "           direct_set_piece     2209\n",
       "           free_kick            2192\n",
       "Name: shot_type_name, dtype: int64"
      ]
     },
     "execution_count": 36,
     "metadata": {},
     "output_type": "execute_result"
    }
   ],
   "source": [
    "df_all_shots.groupby('dataset').shot_type_name.value_counts()"
   ]
  },
  {
   "cell_type": "markdown",
   "metadata": {},
   "source": [
    "Source: https://www.youtube.com/watch?v=2RhTuRWNqUc"
   ]
  },
  {
   "cell_type": "code",
   "execution_count": null,
   "metadata": {},
   "outputs": [],
   "source": [
    "import pandas as pd\n",
    "import numpy as np\n",
    "import matplotlib.pyplot as plt\n",
    "from matplotlib.patches import Arc"
   ]
  },
  {
   "cell_type": "code",
   "execution_count": null,
   "metadata": {},
   "outputs": [],
   "source": [
    "def draw_pitch(x_min=0, x_max=105,\n",
    "               y_min=0, y_max=68,\n",
    "               pitch_color=\"w\",\n",
    "               line_color=\"grey\",\n",
    "               line_thickness=1.5,\n",
    "               point_size=20,\n",
    "               orientation=\"horizontal\",\n",
    "               aspect=\"full\",\n",
    "               ax=None\n",
    "               ):\n",
    "\n",
    "    if not ax:\n",
    "        raise TypeError(\"This function is intended to be used with an existing fig and ax in order to allow flexibility in plotting of various sizes and in subplots.\")\n",
    "\n",
    "\n",
    "    if orientation.lower().startswith(\"h\"):\n",
    "        first = 0\n",
    "        second = 1\n",
    "        arc_angle = 0\n",
    "\n",
    "        if aspect == \"half\":\n",
    "            ax.set_xlim(x_max / 2, x_max + 5)\n",
    "\n",
    "    elif orientation.lower().startswith(\"v\"):\n",
    "        first = 1\n",
    "        second = 0\n",
    "        arc_angle = 90\n",
    "\n",
    "        if aspect == \"half\":\n",
    "            ax.set_ylim(x_max / 2, x_max + 5)\n",
    "\n",
    "    \n",
    "    else:\n",
    "        raise NameError(\"You must choose one of horizontal or vertical\")\n",
    "\n",
    "    \n",
    "    ax.axis(\"off\")\n",
    "\n",
    "    rect = plt.Rectangle((x_min, y_min),\n",
    "                         x_max, y_max,\n",
    "                         facecolor=pitch_color,\n",
    "                         edgecolor=\"none\",\n",
    "                         zorder=-2)\n",
    "\n",
    "    ax.add_artist(rect)\n",
    "\n",
    "    x_conversion = x_max / 100\n",
    "    y_conversion = y_max / 100\n",
    "\n",
    "    pitch_x = [0,5.8,11.5,17,50,83,88.5,94.2,100] # pitch x markings\n",
    "    pitch_x = [x * x_conversion for x in pitch_x]\n",
    "\n",
    "    pitch_y = [0, 21.1, 36.6, 50, 63.2, 78.9, 100] # pitch y markings\n",
    "    pitch_y = [x * y_conversion for x in pitch_y]\n",
    "\n",
    "    goal_y = [45.2, 54.8] # goal posts\n",
    "    goal_y = [x * y_conversion for x in goal_y]\n",
    "\n",
    "    # side and goal lines\n",
    "    lx1 = [x_min, x_max, x_max, x_min, x_min]\n",
    "    ly1 = [y_min, y_min, y_max, y_max, y_min]\n",
    "\n",
    "    # outer boxed\n",
    "    lx2 = [x_max, pitch_x[5], pitch_x[5], x_max]\n",
    "    ly2 = [pitch_y[1], pitch_y[1], pitch_y[5], pitch_y[5]]\n",
    "\n",
    "    lx3 = [0, pitch_x[3], pitch_x[3], 0]\n",
    "    ly3 = [pitch_y[1], pitch_y[1], pitch_y[5], pitch_y[5]]\n",
    "\n",
    "    # goals\n",
    "    lx4 = [x_max, x_max+2, x_max+2, x_max]\n",
    "    ly4 = [goal_y[0], goal_y[0], goal_y[1], goal_y[1]]\n",
    "\n",
    "    lx5 = [0, -2, -2, 0]\n",
    "    ly5 = [goal_y[0], goal_y[0], goal_y[1], goal_y[1]]\n",
    "\n",
    "    # 6 yard boxes\n",
    "    lx6 = [x_max, pitch_x[7], pitch_x[7], x_max]\n",
    "    ly6 = [pitch_y[2],pitch_y[2], pitch_y[4], pitch_y[4]]\n",
    "\n",
    "    lx7 = [0, pitch_x[1], pitch_x[1], 0]\n",
    "    ly7 = [pitch_y[2],pitch_y[2], pitch_y[4], pitch_y[4]]\n",
    "\n",
    "\n",
    "    # Halfway line, penalty spots, and kickoff spot\n",
    "    lx8 = [pitch_x[4], pitch_x[4]]\n",
    "    ly8 = [0, y_max]\n",
    "\n",
    "    lines = [\n",
    "        [lx1, ly1],\n",
    "        [lx2, ly2],\n",
    "        [lx3, ly3],\n",
    "        [lx4, ly4],\n",
    "        [lx5, ly5],\n",
    "        [lx6, ly6],\n",
    "        [lx7, ly7],\n",
    "        [lx8, ly8],\n",
    "        ]\n",
    "\n",
    "    points = [\n",
    "        [pitch_x[6], pitch_y[3]],\n",
    "        [pitch_x[2], pitch_y[3]],\n",
    "        [pitch_x[4], pitch_y[3]]\n",
    "        ]\n",
    "\n",
    "    circle_points = [pitch_x[4], pitch_y[3]]\n",
    "    arc_points1 = [pitch_x[6], pitch_y[3]]\n",
    "    arc_points2 = [pitch_x[2], pitch_y[3]]\n",
    "\n",
    "\n",
    "    for line in lines:\n",
    "        ax.plot(line[first], line[second],\n",
    "                color=line_color,\n",
    "                lw=line_thickness,\n",
    "                zorder=-1)\n",
    "\n",
    "    for point in points:\n",
    "        ax.scatter(point[first], point[second],\n",
    "                   color=line_color,\n",
    "                   s=point_size,\n",
    "                   zorder=-1)\n",
    "\n",
    "    circle = plt.Circle((circle_points[first], circle_points[second]),\n",
    "                        x_max * 0.088,\n",
    "                        lw=line_thickness,\n",
    "                        color=line_color,\n",
    "                        fill=False,\n",
    "                        zorder=-1)\n",
    "\n",
    "    ax.add_artist(circle)\n",
    "\n",
    "    arc1 = Arc((arc_points1[first], arc_points1[second]),\n",
    "               height=x_max * 0.088 * 2,\n",
    "               width=x_max * 0.088 * 2,\n",
    "               angle=arc_angle,\n",
    "               theta1=128.75,\n",
    "               theta2=231.25,\n",
    "               color=line_color,\n",
    "               lw=line_thickness,\n",
    "               zorder=-1)\n",
    "\n",
    "    ax.add_artist(arc1)\n",
    "\n",
    "    arc2 = Arc((arc_points2[first], arc_points2[second]),\n",
    "               height=x_max * 0.088 * 2,\n",
    "               width=x_max * 0.088 * 2,\n",
    "               angle=arc_angle,\n",
    "               theta1=308.75,\n",
    "               theta2=51.25,\n",
    "               color=line_color,\n",
    "               lw=line_thickness,\n",
    "               zorder=-1)\n",
    "\n",
    "    ax.add_artist(arc2)\n",
    "\n",
    "    ax.set_aspect(\"equal\")\n",
    "\n",
    "    return ax"
   ]
  },
  {
   "cell_type": "code",
   "execution_count": null,
   "metadata": {},
   "outputs": [],
   "source": [
    "background = \"#303640\"\n",
    "\n",
    "fig, ax = plt.subplots(figsize=(11, 7))\n",
    "fig.set_facecolor(background)\n",
    "\n",
    "draw_pitch(orientation=\"vertical\",\n",
    "           aspect=\"half\",\n",
    "           pitch_color=background,\n",
    "           line_color=\"lightgrey\",\n",
    "           ax=ax)\n",
    "\n",
    "plt.tight_layout()\n",
    "plt.show()"
   ]
  },
  {
   "cell_type": "code",
   "execution_count": null,
   "metadata": {},
   "outputs": [],
   "source": [
    "pitch_length_x = 104\n",
    "pitch_length_y = 68"
   ]
  },
  {
   "cell_type": "code",
   "execution_count": null,
   "metadata": {},
   "outputs": [],
   "source": [
    "df_liverpool_2019 = df_all_shots"
   ]
  },
  {
   "cell_type": "code",
   "execution_count": null,
   "metadata": {},
   "outputs": [],
   "source": [
    "df_liverpool_2019['X'] = df_liverpool_2019['x']\n",
    "df_liverpool_2019['Y'] = df_liverpool_2019['y']"
   ]
  },
  {
   "cell_type": "code",
   "execution_count": null,
   "metadata": {},
   "outputs": [],
   "source": [
    "df_liverpool_2019"
   ]
  },
  {
   "cell_type": "code",
   "execution_count": null,
   "metadata": {},
   "outputs": [],
   "source": [
    "# Add new columns\n",
    "\n",
    "## Convert Understats coordinates from 0,100 to a range of x(0,104) and y(0,68) - the average pitch size.\n",
    "df_liverpool_2019['XM'] = df_liverpool_2019['X'] * pitch_length_x\n",
    "df_liverpool_2019['YM'] = df_liverpool_2019['Y'] * pitch_length_y\n",
    "\n",
    "## Create reverse columns of previous created 'XM' and 'YM' columns\n",
    "df_liverpool_2019['XM_r'] = pitch_length_x - df_liverpool_2019['XM']    # Added for completeness but not used\n",
    "df_liverpool_2019['YM_r'] = pitch_length_y - df_liverpool_2019['YM']\n",
    "\n",
    "## Create column of scaled xG to make them larger in the plot\n",
    "#df_liverpool_2019['xG_s'] = df_liverpool_2019['xG'] * 1.5"
   ]
  },
  {
   "cell_type": "code",
   "execution_count": null,
   "metadata": {},
   "outputs": [],
   "source": [
    "# Plotting Shots\n",
    "\n",
    "## Draw the pitch\n",
    "background = \"#303640\"\n",
    "\n",
    "fig, ax = plt.subplots(figsize=(11, 7))\n",
    "fig.set_facecolor(background)\n",
    "\n",
    "draw_pitch(orientation=\"horizontal\",\n",
    "           aspect=\"fll\",\n",
    "           pitch_color=background,\n",
    "           line_color=\"lightgrey\",\n",
    "           ax=ax)\n",
    "\n",
    "\n",
    "import random\n",
    "\n",
    "sample = 20\n",
    "\n",
    "x = [random.randint(0, pitch_length_x) for p in range(0, sample)]\n",
    "y = [random.randint(0, pitch_length_y) for p in range(0, sample)]\n",
    "\n",
    "zo = 12\n",
    "\n",
    "plt.scatter(x,y,marker='o',color='red',edgecolors=\"black\", zorder=zo)\n",
    "plt.show()"
   ]
  },
  {
   "cell_type": "code",
   "execution_count": null,
   "metadata": {},
   "outputs": [],
   "source": [
    "x"
   ]
  },
  {
   "cell_type": "code",
   "execution_count": null,
   "metadata": {},
   "outputs": [],
   "source": [
    "y"
   ]
  },
  {
   "cell_type": "code",
   "execution_count": null,
   "metadata": {},
   "outputs": [],
   "source": [
    "# Plotting Shots\n",
    "\n",
    "## Draw the pitch\n",
    "background = \"#303640\"\n",
    "\n",
    "fig, ax = plt.subplots(figsize=(11, 7))\n",
    "fig.set_facecolor(background)\n",
    "\n",
    "draw_pitch(orientation=\"horizontal\",\n",
    "           aspect=\"fll\",\n",
    "           pitch_color=background,\n",
    "           line_color=\"lightgrey\",\n",
    "           ax=ax)\n",
    "\n",
    "\n",
    "import random\n",
    "\n",
    "sample = 20\n",
    "\n",
    "# X and Y coordinates\n",
    "x = df_liverpool_2019['XM'].tolist()\n",
    "y = df_liverpool_2019['YM'].tolist()\n",
    "\n",
    "zo = 12\n",
    "\n",
    "plt.scatter(x,y,marker='o',color='red',edgecolors=\"black\", zorder=zo)\n",
    "plt.show()"
   ]
  },
  {
   "cell_type": "code",
   "execution_count": null,
   "metadata": {},
   "outputs": [],
   "source": [
    "# Plotting Shots\n",
    "\n",
    "## Draw the pitch\n",
    "background = \"#303640\"\n",
    "\n",
    "fig, ax = plt.subplots(figsize=(11, 7))\n",
    "fig.set_facecolor(background)\n",
    "\n",
    "draw_pitch(orientation=\"vertical\",\n",
    "           aspect=\"half\",\n",
    "           pitch_color=background,\n",
    "           line_color=\"lightgrey\",\n",
    "           ax=ax)\n",
    "\n",
    "\n",
    "x = [random.randint(0, pitch_length_x) for p in range(0, sample)]\n",
    "y = [random.randint(0, pitch_length_y) for p in range(0,sample)]\n",
    "\n",
    "zo = 12\n",
    "\n",
    "plt.scatter(x,y,marker='o',color='red',edgecolors=\"black\", zorder=zo)\n",
    "plt.show()\n",
    "\n",
    "zo = 12\n",
    "\n",
    "## X and Y coordinates\n",
    "x = df_liverpool_2019['XM'].tolist()\n",
    "y = df_liverpool_2019['YM'].tolist()\n",
    "y1 = [68 - i for i in y]\n",
    "\n",
    "\n",
    "## Add Z variable for xG\n",
    "#z1 = [500 * i for i in z] # This is to scale the \"xG\" values for plotting\n",
    "\n",
    "\n",
    "## Add small legend in the bottom corner\n",
    "mSize = [0.05,0.10,0.2,0.4,0.6,1]\n",
    "mSizeS = [500 * i for i in mSize]\n",
    "mx = [5.5,7,9,11,13.5,16.5]\n",
    "my = [60,60,60,60,60,60]\n",
    "\n",
    "plt.text(11,55,\n",
    "         #\"xG\",\n",
    "         s=1,\n",
    "         color=\"white\",\n",
    "         ha=\"center\",\n",
    "         va=\"center\",\n",
    "         zorder=zo,\n",
    "         fontsize=16\n",
    "        )\n",
    "\n",
    "plt.scatter(y1,\n",
    "            x,\n",
    "            s=20,\n",
    "            #s=z1,\n",
    "            c=\"red\",\n",
    "            edgecolors=\"k\",\n",
    "            zorder=zo\n",
    "           )\n",
    "plt.scatter(mx,my, s=mSizeS, facecolors=\"white\", edgecolor=\"white\",zorder=zo)\n",
    "plt.plot([5.5,17], [57,57],color=\"white\",lw=2,zorder=zo)\n",
    "\n",
    "i = 0\n",
    "\n",
    "for i in range(len(mx)):\n",
    "    plt.text(mx[i], my[i], mSize[i], fontsize=mSize[i]*18, color=\"#195905\", zorder=zo,ha=\"center\", va=\"center\")\n",
    "\n",
    "    \n",
    "## Title\n",
    "plt.title(\"All Shots\")\n",
    "\n",
    "## Show plot\n",
    "plt.show()"
   ]
  }
 ],
 "metadata": {
  "kernelspec": {
   "display_name": "Python 3",
   "language": "python",
   "name": "python3"
  },
  "language_info": {
   "codemirror_mode": {
    "name": "ipython",
    "version": 3
   },
   "file_extension": ".py",
   "mimetype": "text/x-python",
   "name": "python",
   "nbconvert_exporter": "python",
   "pygments_lexer": "ipython3",
   "version": "3.7.6"
  },
  "varInspector": {
   "cols": {
    "lenName": 16,
    "lenType": 16,
    "lenVar": 40
   },
   "kernels_config": {
    "python": {
     "delete_cmd_postfix": "",
     "delete_cmd_prefix": "del ",
     "library": "var_list.py",
     "varRefreshCmd": "print(var_dic_list())"
    },
    "r": {
     "delete_cmd_postfix": ") ",
     "delete_cmd_prefix": "rm(",
     "library": "var_list.r",
     "varRefreshCmd": "cat(var_dic_list()) "
    }
   },
   "types_to_exclude": [
    "module",
    "function",
    "builtin_function_or_method",
    "instance",
    "_Feature"
   ],
   "window_display": false
  }
 },
 "nbformat": 4,
 "nbformat_minor": 4
}
