{
 "cells": [
  {
   "cell_type": "markdown",
   "metadata": {},
   "source": [
    "<a id='top'></a>"
   ]
  },
  {
   "cell_type": "markdown",
   "metadata": {},
   "source": [
    "# Webscraping of FBref Data\n",
    "##### Notebook to scrape raw data  from [StatsBomb](https://statsbomb.com/) via [FBref](https://fbref.com/en/) using [Beautifulsoup](https://pypi.org/project/beautifulsoup4/)\n",
    "\n",
    "### By [Edd Webster](https://www.twitter.com/eddwebster)\n",
    "Notebook first written: 31/08/2020<br>\n",
    "Notebook last updated: 26/12/2020"
   ]
  },
  {
   "cell_type": "markdown",
   "metadata": {},
   "source": [
    "![title](../../img/fbref-logo-banner.png)"
   ]
  },
  {
   "cell_type": "markdown",
   "metadata": {},
   "source": [
    "![title](../../img/stats-bomb-logo.png)"
   ]
  },
  {
   "cell_type": "markdown",
   "metadata": {},
   "source": [
    "Click [here](#section5) to jump straight to the Exploratory Data Analysis section and skip the [Task Brief](#section2), [Data Sources](#section3), and [Data Engineering](#section4) sections. Or click [here](#section6) to jump straight to the Conclusion."
   ]
  },
  {
   "cell_type": "markdown",
   "metadata": {},
   "source": [
    "___\n",
    "\n",
    "<a id='sectionintro'></a>"
   ]
  },
  {
   "cell_type": "markdown",
   "metadata": {},
   "source": [
    "## <a id='import_libraries'>Introduction</a>\n",
    "This notebook scrapes player statstics data from [StatsBomb](https://statsbomb.com/) via [FBref.com](https://fbref.com/en/), using [pandas](http://pandas.pydata.org/) for data manipulation through DataFrames, [Beautifulsoup](https://pypi.org/project/beautifulsoup4/) for webscraping.\n",
    "\n",
    "For more information about this notebook and the author, I'm available through all the following channels:\n",
    "*    [eddwebster.com](https://www.eddwebster.com/);\n",
    "*    edd.j.webster@gmail.com;\n",
    "*    [@eddwebster](https://www.twitter.com/eddwebster);\n",
    "*    [linkedin.com/in/eddwebster](https://www.linkedin.com/in/eddwebster/);\n",
    "*    [github/eddwebster](https://github.com/eddwebster/);\n",
    "*    [public.tableau.com/profile/edd.webster](https://public.tableau.com/profile/edd.webster);\n",
    "*    [kaggle.com/eddwebster](https://www.kaggle.com/eddwebster); and\n",
    "*    [hackerrank.com/eddwebster](https://www.hackerrank.com/eddwebster).\n",
    "\n",
    "![title](../../img/fifa21eddwebsterbanner.png)"
   ]
  },
  {
   "cell_type": "markdown",
   "metadata": {},
   "source": [
    "The accompanying GitHub repository for this notebook can be found [here](https://github.com/eddwebster/football_analytics) and a static version of this notebook can be found [here](https://nbviewer.jupyter.org/github/eddwebster/football_analytics/blob/master/notebooks/A%29%20Web%20Scraping/FBref%20Web%20Scraping%20and%20Parsing.ipynb)."
   ]
  },
  {
   "cell_type": "markdown",
   "metadata": {},
   "source": [
    "___\n",
    "\n",
    "<a id='sectioncontents'></a>"
   ]
  },
  {
   "cell_type": "markdown",
   "metadata": {},
   "source": [
    "## <a id='notebook_contents'>Notebook Contents</a>\n",
    "1.    [Notebook Dependencies](#section1)<br>\n",
    "2.    [Project Brief](#section2)<br>\n",
    "3.    [Data Sources](#section3)<br>\n",
    "      1.    [Introduction](#section3.1)<br>\n",
    "      2.    [Teams](#section3.2)<br>\n",
    "            1.    [Data Dictionary](#section3.2.1)<br>\n",
    "            2.    [Creating the DataFrame](#section3.2.2)<br>\n",
    "            3.    [Initial Data Handling](#section3.2.3)<br>\n",
    "            4.    [Export the Raw DataFrame](#section3.2.4)<br>\n",
    "      2.    [Outfielder Players](#section3.3)<br>\n",
    "            1.    [Data Dictionary](#section3.3.1)<br>\n",
    "            2.    [Creating the DataFrame](#section3.3.2)<br>\n",
    "            3.    [Initial Data Handling](#section3.3.3)<br>\n",
    "            4.    [Export the Raw DataFrame](#section3.3.4)<br>\n",
    "      3.    [Goalkeepers](#section3.4)<br>\n",
    "            1.    [Data Dictionary](#section3.4.1)<br>\n",
    "            2.    [Creating the DataFrame](#section3.4.2)<br>\n",
    "            3.    [Initial Data Handling](#section3.4.3)<br>\n",
    "            4.    [Export the Raw DataFrame](#section3.4.4)<br> \n",
    "4.    [Summary](#section4)<br>\n",
    "5.    [Next Steps](#section5)<br>\n",
    "6.    [Bibliography](#section6)<br>"
   ]
  },
  {
   "cell_type": "markdown",
   "metadata": {},
   "source": [
    "___\n",
    "\n",
    "<a id='section1'></a>"
   ]
  },
  {
   "cell_type": "markdown",
   "metadata": {},
   "source": [
    "## <a id='#section1'>1. Notebook Dependencies</a>"
   ]
  },
  {
   "cell_type": "markdown",
   "metadata": {},
   "source": [
    "This notebook was written using [Python 3](https://docs.python.org/3.7/) and requires the following libraries:\n",
    "*    [`Jupyter notebooks`](https://jupyter.org/) for this notebook environment with which this project is presented;\n",
    "*    [`NumPy`](http://www.numpy.org/) for multidimensional array computing;\n",
    "*    [`pandas`](http://pandas.pydata.org/) for data analysis and manipulation;\n",
    "*    `tqdm` for a clean progress bar;\n",
    "*    `requests` for executing HTTP requests;\n",
    "*    [`Beautifulsoup`](https://pypi.org/project/beautifulsoup4/) for web scraping; and\n",
    "*    [`matplotlib`](https://matplotlib.org/contents.html?v=20200411155018) for data visualisations;\n",
    "\n",
    "All packages used for this notebook except for BeautifulSoup can be obtained by downloading and installing the [Conda](https://anaconda.org/anaconda/conda) distribution, available on all platforms (Windows, Linux and Mac OSX). Step-by-step guides on how to install Anaconda can be found for Windows [here](https://medium.com/@GalarnykMichael/install-python-on-windows-anaconda-c63c7c3d1444) and Mac [here](https://medium.com/@GalarnykMichael/install-python-on-mac-anaconda-ccd9f2014072), as well as in the Anaconda documentation itself [here](https://docs.anaconda.com/anaconda/install/)."
   ]
  },
  {
   "cell_type": "markdown",
   "metadata": {},
   "source": [
    "### Import Libraries and Modules"
   ]
  },
  {
   "cell_type": "code",
   "execution_count": 1,
   "metadata": {},
   "outputs": [
    {
     "name": "stdout",
     "output_type": "stream",
     "text": [
      "Setup Complete\n"
     ]
    }
   ],
   "source": [
    "# Python ≥3.5 (ideally)\n",
    "import platform\n",
    "import sys, getopt\n",
    "assert sys.version_info >= (3, 5)\n",
    "import csv\n",
    "\n",
    "# Import Dependencies\n",
    "%matplotlib inline\n",
    "\n",
    "# Math Operations\n",
    "import numpy as np\n",
    "from math import pi\n",
    "\n",
    "# Datetime\n",
    "import datetime\n",
    "from datetime import date\n",
    "import time\n",
    "\n",
    "# Data Preprocessing\n",
    "import pandas as pd\n",
    "import os\n",
    "import re\n",
    "import random\n",
    "from io import BytesIO\n",
    "from pathlib import Path\n",
    "\n",
    "# Reading directories\n",
    "import glob\n",
    "import os\n",
    "\n",
    "# Working with JSON\n",
    "import json\n",
    "from pandas.io.json import json_normalize\n",
    "\n",
    "# Web Scraping\n",
    "import requests\n",
    "from bs4 import BeautifulSoup\n",
    "import re\n",
    "\n",
    "# Fuzzy Matching - Record Linkage\n",
    "import recordlinkage\n",
    "import jellyfish\n",
    "import numexpr as ne\n",
    "\n",
    "# Data Visualisation\n",
    "import matplotlib as mpl\n",
    "import matplotlib.pyplot as plt\n",
    "import seaborn as sns\n",
    "plt.style.use('seaborn-whitegrid')\n",
    "import missingno as msno\n",
    "\n",
    "# Progress Bar\n",
    "from tqdm import tqdm\n",
    "\n",
    "# Display in Jupyter\n",
    "from IPython.display import Image, YouTubeVideo\n",
    "from IPython.core.display import HTML\n",
    "\n",
    "# Ignore Warnings\n",
    "import warnings\n",
    "warnings.filterwarnings(action=\"ignore\", message=\"^internal gelsd\")\n",
    "\n",
    "print('Setup Complete')"
   ]
  },
  {
   "cell_type": "code",
   "execution_count": 2,
   "metadata": {
    "scrolled": false
   },
   "outputs": [
    {
     "name": "stdout",
     "output_type": "stream",
     "text": [
      "Python: 3.7.6\n",
      "NumPy: 1.18.1\n",
      "pandas: 1.0.1\n",
      "matplotlib: 3.1.3\n",
      "Seaborn: 0.10.0\n"
     ]
    }
   ],
   "source": [
    "# Python / module versions used here for reference\n",
    "print('Python: {}'.format(platform.python_version()))\n",
    "print('NumPy: {}'.format(np.__version__))\n",
    "print('pandas: {}'.format(pd.__version__))\n",
    "print('matplotlib: {}'.format(mpl.__version__))\n",
    "print('Seaborn: {}'.format(sns.__version__))"
   ]
  },
  {
   "cell_type": "markdown",
   "metadata": {},
   "source": [
    "### Defined Variables and Lists"
   ]
  },
  {
   "cell_type": "markdown",
   "metadata": {},
   "source": [
    "#### Variables"
   ]
  },
  {
   "cell_type": "code",
   "execution_count": 3,
   "metadata": {},
   "outputs": [],
   "source": [
    "# Datetime\n",
    "import datetime\n",
    "from datetime import date\n",
    "import time"
   ]
  },
  {
   "cell_type": "code",
   "execution_count": 4,
   "metadata": {},
   "outputs": [],
   "source": [
    "# Define today's date\n",
    "today = datetime.datetime.now().strftime('%d/%m/%Y').replace('/', '')"
   ]
  },
  {
   "cell_type": "markdown",
   "metadata": {},
   "source": [
    "#### Lists"
   ]
  },
  {
   "cell_type": "code",
   "execution_count": 5,
   "metadata": {},
   "outputs": [],
   "source": [
    "# Standard(stats)\n",
    "stats = [\"player\",\"nationality\",\"position\",\"squad\",\"age\",\"birth_year\",\"games\",\"games_starts\",\"minutes\",\"goals\",\"assists\",\"pens_made\",\"pens_att\",\"cards_yellow\",\"cards_red\",\"goals_per90\",\"assists_per90\",\"goals_assists_per90\",\"goals_pens_per90\",\"goals_assists_pens_per90\",\"xg\",\"npxg\",\"xa\",\"xg_per90\",\"xa_per90\",\"xg_xa_per90\",\"npxg_per90\",\"npxg_xa_per90\"]\n",
    "stats3 = [\"players_used\",\"possession\",\"games\",\"games_starts\",\"minutes\",\"goals\",\"assists\",\"pens_made\",\"pens_att\",\"cards_yellow\",\"cards_red\",\"goals_per90\",\"assists_per90\",\"goals_assists_per90\",\"goals_pens_per90\",\"goals_assists_pens_per90\",\"xg\",\"npxg\",\"xa\",\"xg_per90\",\"xa_per90\",\"xg_xa_per90\",\"npxg_per90\",\"npxg_xa_per90\"] \n",
    "\n",
    "# Goalkeeping(keepers)\n",
    "keepers = [\"player\",\"nationality\",\"position\",\"squad\",\"age\",\"birth_year\",\"games_gk\",\"games_starts_gk\",\"minutes_gk\",\"goals_against_gk\",\"goals_against_per90_gk\",\"shots_on_target_against\",\"saves\",\"save_pct\",\"wins_gk\",\"draws_gk\",\"losses_gk\",\"clean_sheets\",\"clean_sheets_pct\",\"pens_att_gk\",\"pens_allowed\",\"pens_saved\",\"pens_missed_gk\"]\n",
    "keepers3 = [\"players_used\",\"games_gk\",\"games_starts_gk\",\"minutes_gk\",\"goals_against_gk\",\"goals_against_per90_gk\",\"shots_on_target_against\",\"saves\",\"save_pct\",\"wins_gk\",\"draws_gk\",\"losses_gk\",\"clean_sheets\",\"clean_sheets_pct\",\"pens_att_gk\",\"pens_allowed\",\"pens_saved\",\"pens_missed_gk\"]\n",
    "\n",
    "# Advance goalkeeping(keepersadv)\n",
    "keepersadv = [\"player\",\"nationality\",\"position\",\"squad\",\"age\",\"birth_year\",\"minutes_90s_gk\",\"goals_against_gk\",\"pens_allowed\",\"free_kick_goals_against_gk\",\"corner_kick_goals_against_gk\",\"own_goals_against_gk\",\"psxg_gk\",\"psnpxg_per_shot_on_target_against\",\"psxg_net_gk\",\"psxg_net_per90_gk\",\"passes_completed_launched_gk\",\"passes_launched_gk\",\"passes_pct_launched_gk\",\"passes_gk\",\"passes_throws_gk\",\"pct_passes_launched_gk\",\"passes_length_avg_gk\",\"goal_kicks\",\"pct_goal_kicks_launched\",\"goal_kick_length_avg\",\"crosses_gk\",\"crosses_stopped_gk\",\"crosses_stopped_pct_gk\",\"def_actions_outside_pen_area_gk\",\"def_actions_outside_pen_area_per90_gk\",\"avg_distance_def_actions_gk\"]\n",
    "keepersadv2 = [\"minutes_90s_gk\",\"goals_against_gk\",\"pens_allowed\",\"free_kick_goals_against_gk\",\"corner_kick_goals_against_gk\",\"own_goals_against_gk\",\"psxg_gk\",\"psnpxg_per_shot_on_target_against\",\"psxg_net_gk\",\"psxg_net_per90_gk\",\"passes_completed_launched_gk\",\"passes_launched_gk\",\"passes_pct_launched_gk\",\"passes_gk\",\"passes_throws_gk\",\"pct_passes_launched_gk\",\"passes_length_avg_gk\",\"goal_kicks\",\"pct_goal_kicks_launched\",\"goal_kick_length_avg\",\"crosses_gk\",\"crosses_stopped_gk\",\"crosses_stopped_pct_gk\",\"def_actions_outside_pen_area_gk\",\"def_actions_outside_pen_area_per90_gk\",\"avg_distance_def_actions_gk\"]\n",
    "\n",
    "# Shooting(shooting)\n",
    "shooting = [\"player\",\"nationality\",\"position\",\"squad\",\"age\",\"birth_year\",\"minutes_90s\",\"goals\",\"pens_made\",\"pens_att\",\"shots_total\",\"shots_on_target\",\"shots_free_kicks\",\"shots_on_target_pct\",\"shots_total_per90\",\"shots_on_target_per90\",\"goals_per_shot\",\"goals_per_shot_on_target\",\"xg\",\"npxg\",\"npxg_per_shot\",\"xg_net\",\"npxg_net\"]\n",
    "shooting2 = [\"minutes_90s\",\"goals\",\"pens_made\",\"pens_att\",\"shots_total\",\"shots_on_target\",\"shots_free_kicks\",\"shots_on_target_pct\",\"shots_total_per90\",\"shots_on_target_per90\",\"goals_per_shot\",\"goals_per_shot_on_target\",\"xg\",\"npxg\",\"npxg_per_shot\",\"xg_net\",\"npxg_net\"]\n",
    "shooting3 = [\"goals\",\"pens_made\",\"pens_att\",\"shots_total\",\"shots_on_target\",\"shots_free_kicks\",\"shots_on_target_pct\",\"shots_total_per90\",\"shots_on_target_per90\",\"goals_per_shot\",\"goals_per_shot_on_target\",\"xg\",\"npxg\",\"npxg_per_shot\",\"xg_net\",\"npxg_net\"]\n",
    "\n",
    "# Passing(passing)\n",
    "passing = [\"player\",\"nationality\",\"position\",\"squad\",\"age\",\"birth_year\",\"minutes_90s\",\"passes_completed\",\"passes\",\"passes_pct\",\"passes_total_distance\",\"passes_progressive_distance\",\"passes_completed_short\",\"passes_short\",\"passes_pct_short\",\"passes_completed_medium\",\"passes_medium\",\"passes_pct_medium\",\"passes_completed_long\",\"passes_long\",\"passes_pct_long\",\"assists\",\"xa\",\"xa_net\",\"assisted_shots\",\"passes_into_final_third\",\"passes_into_penalty_area\",\"crosses_into_penalty_area\",\"progressive_passes\"]\n",
    "passing2 = [\"passes_completed\",\"passes\",\"passes_pct\",\"passes_total_distance\",\"passes_progressive_distance\",\"passes_completed_short\",\"passes_short\",\"passes_pct_short\",\"passes_completed_medium\",\"passes_medium\",\"passes_pct_medium\",\"passes_completed_long\",\"passes_long\",\"passes_pct_long\",\"assists\",\"xa\",\"xa_net\",\"assisted_shots\",\"passes_into_final_third\",\"passes_into_penalty_area\",\"crosses_into_penalty_area\",\"progressive_passes\"]\n",
    "\n",
    "# Passtypes(passing_types)\n",
    "passing_types = [\"player\",\"nationality\",\"position\",\"squad\",\"age\",\"birth_year\",\"minutes_90s\",\"passes\",\"passes_live\",\"passes_dead\",\"passes_free_kicks\",\"through_balls\",\"passes_pressure\",\"passes_switches\",\"crosses\",\"corner_kicks\",\"corner_kicks_in\",\"corner_kicks_out\",\"corner_kicks_straight\",\"passes_ground\",\"passes_low\",\"passes_high\",\"passes_left_foot\",\"passes_right_foot\",\"passes_head\",\"throw_ins\",\"passes_other_body\",\"passes_completed\",\"passes_offsides\",\"passes_oob\",\"passes_intercepted\",\"passes_blocked\"]\n",
    "passing_types2 = [\"passes\",\"passes_live\",\"passes_dead\",\"passes_free_kicks\",\"through_balls\",\"passes_pressure\",\"passes_switches\",\"crosses\",\"corner_kicks\",\"corner_kicks_in\",\"corner_kicks_out\",\"corner_kicks_straight\",\"passes_ground\",\"passes_low\",\"passes_high\",\"passes_left_foot\",\"passes_right_foot\",\"passes_head\",\"throw_ins\",\"passes_other_body\",\"passes_completed\",\"passes_offsides\",\"passes_oob\",\"passes_intercepted\",\"passes_blocked\"]\n",
    "\n",
    "# Goal and shot creation(gca)\n",
    "gca = [\"player\",\"nationality\",\"position\",\"squad\",\"age\",\"birth_year\",\"minutes_90s\",\"sca\",\"sca_per90\",\"sca_passes_live\",\"sca_passes_dead\",\"sca_dribbles\",\"sca_shots\",\"sca_fouled\",\"gca\",\"gca_per90\",\"gca_passes_live\",\"gca_passes_dead\",\"gca_dribbles\",\"gca_shots\",\"gca_fouled\",\"gca_og_for\"]\n",
    "gca2 = [\"sca\",\"sca_per90\",\"sca_passes_live\",\"sca_passes_dead\",\"sca_dribbles\",\"sca_shots\",\"sca_fouled\",\"gca\",\"gca_per90\",\"gca_passes_live\",\"gca_passes_dead\",\"gca_dribbles\",\"gca_shots\",\"gca_fouled\",\"gca_og_for\"]\n",
    "\n",
    "# Defensive actions(defense)\n",
    "defense = [\"player\",\"nationality\",\"position\",\"squad\",\"age\",\"birth_year\",\"minutes_90s\",\"tackles\",\"tackles_won\",\"tackles_def_3rd\",\"tackles_mid_3rd\",\"tackles_att_3rd\",\"dribble_tackles\",\"dribbles_vs\",\"dribble_tackles_pct\",\"dribbled_past\",\"pressures\",\"pressure_regains\",\"pressure_regain_pct\",\"pressures_def_3rd\",\"pressures_mid_3rd\",\"pressures_att_3rd\",\"blocks\",\"blocked_shots\",\"blocked_shots_saves\",\"blocked_passes\",\"interceptions\",\"clearances\",\"errors\"]\n",
    "defense2 = [\"tackles\",\"tackles_won\",\"tackles_def_3rd\",\"tackles_mid_3rd\",\"tackles_att_3rd\",\"dribble_tackles\",\"dribbles_vs\",\"dribble_tackles_pct\",\"dribbled_past\",\"pressures\",\"pressure_regains\",\"pressure_regain_pct\",\"pressures_def_3rd\",\"pressures_mid_3rd\",\"pressures_att_3rd\",\"blocks\",\"blocked_shots\",\"blocked_shots_saves\",\"blocked_passes\",\"interceptions\",\"clearances\",\"errors\"]\n",
    "\n",
    "# Possession(possession)\n",
    "possession = [\"player\",\"nationality\",\"position\",\"squad\",\"age\",\"birth_year\",\"minutes_90s\",\"touches\",\"touches_def_pen_area\",\"touches_def_3rd\",\"touches_mid_3rd\",\"touches_att_3rd\",\"touches_att_pen_area\",\"touches_live_ball\",\"dribbles_completed\",\"dribbles\",\"dribbles_completed_pct\",\"players_dribbled_past\",\"nutmegs\",\"carries\",\"carry_distance\",\"carry_progressive_distance\",\"pass_targets\",\"passes_received\",\"passes_received_pct\",\"miscontrols\",\"dispossessed\"]\n",
    "possession2 = [\"touches\",\"touches_def_pen_area\",\"touches_def_3rd\",\"touches_mid_3rd\",\"touches_att_3rd\",\"touches_att_pen_area\",\"touches_live_ball\",\"dribbles_completed\",\"dribbles\",\"dribbles_completed_pct\",\"players_dribbled_past\",\"nutmegs\",\"carries\",\"carry_distance\",\"carry_progressive_distance\",\"pass_targets\",\"passes_received\",\"passes_received_pct\",\"miscontrols\",\"dispossessed\"]\n",
    "\n",
    "# Playingtime(playingtime)\n",
    "playingtime = [\"player\",\"nationality\",\"position\",\"squad\",\"age\",\"birth_year\",\"minutes_90s\",\"games\",\"minutes\",\"minutes_per_game\",\"minutes_pct\",\"games_starts\",\"minutes_per_start\",\"games_subs\",\"minutes_per_sub\",\"unused_subs\",\"points_per_match\",\"on_goals_for\",\"on_goals_against\",\"plus_minus\",\"plus_minus_per90\",\"plus_minus_wowy\",\"on_xg_for\",\"on_xg_against\",\"xg_plus_minus\",\"xg_plus_minus_per90\",\"xg_plus_minus_wowy\"]\n",
    "playingtime2 = [\"games\",\"minutes\",\"minutes_per_game\",\"minutes_pct\",\"games_starts\",\"minutes_per_start\",\"games_subs\",\"minutes_per_sub\",\"unused_subs\",\"points_per_match\",\"on_goals_for\",\"on_goals_against\",\"plus_minus\",\"plus_minus_per90\",\"plus_minus_wowy\",\"on_xg_for\",\"on_xg_against\",\"xg_plus_minus\",\"xg_plus_minus_per90\",\"xg_plus_minus_wowy\"]\n",
    "\n",
    "# Miscellaneous(misc)\n",
    "misc = [\"player\",\"nationality\",\"position\",\"squad\",\"age\",\"birth_year\",\"minutes_90s\",\"cards_yellow\",\"cards_red\",\"cards_yellow_red\",\"fouls\",\"fouled\",\"offsides\",\"crosses\",\"interceptions\",\"tackles_won\",\"pens_won\",\"pens_conceded\",\"own_goals\",\"ball_recoveries\",\"aerials_won\",\"aerials_lost\",\"aerials_won_pct\"]\n",
    "misc2 = [\"cards_yellow\",\"cards_red\",\"cards_yellow_red\",\"fouls\",\"fouled\",\"offsides\",\"crosses\",\"interceptions\",\"tackles_won\",\"pens_won\",\"pens_conceded\",\"own_goals\",\"ball_recoveries\",\"aerials_won\",\"aerials_lost\",\"aerials_won_pct\"]"
   ]
  },
  {
   "cell_type": "markdown",
   "metadata": {},
   "source": [
    "### Define Filepaths"
   ]
  },
  {
   "cell_type": "code",
   "execution_count": 6,
   "metadata": {
    "scrolled": true
   },
   "outputs": [],
   "source": [
    "# Set up initial paths to subfolders\n",
    "base_dir = os.path.join('..', '..', )\n",
    "data_dir = os.path.join(base_dir, 'data')\n",
    "data_dir_fbref = os.path.join(base_dir, 'data', 'fbref')\n",
    "img_dir = os.path.join(base_dir, 'img')\n",
    "fig_dir = os.path.join(base_dir, 'img', 'fig')\n",
    "video_dir = os.path.join(base_dir, 'video')"
   ]
  },
  {
   "cell_type": "markdown",
   "metadata": {},
   "source": [
    "### Custom Functions"
   ]
  },
  {
   "cell_type": "code",
   "execution_count": 7,
   "metadata": {},
   "outputs": [],
   "source": [
    "# The following code is from parth1902. His GitHub repository can be found here: https://github.com/parth1902/Scrape-FBref-data\n",
    "# From this point, the code and comments are parth1902's\n",
    "\n",
    "## Much of the scraping code is taken from this repository: https://github.com/chmartin/FBref_EPL\n",
    "## I've made the the necessary changes for the recently added data and for combining it\n",
    "\n",
    "# Functions to get the data in a DataFrame using BeautifulSoup\n",
    "\n",
    "def get_tables(url):\n",
    "    res = requests.get(url)\n",
    "    ## The next two lines get around the issue with comments breaking the parsing.\n",
    "    comm = re.compile(\"<!--|-->\")\n",
    "    soup = BeautifulSoup(comm.sub(\"\",res.text),'lxml')\n",
    "    all_tables = soup.findAll(\"tbody\")\n",
    "    team_table = all_tables[0]\n",
    "    player_table = all_tables[1]\n",
    "    return player_table, team_table\n",
    "\n",
    "def get_frame(features, player_table):\n",
    "    pre_df_player = dict()\n",
    "    features_wanted_player = features\n",
    "    rows_player = player_table.find_all('tr')\n",
    "    for row in rows_player:\n",
    "        if(row.find('th',{\"scope\":\"row\"}) != None):\n",
    "    \n",
    "            for f in features_wanted_player:\n",
    "                cell = row.find(\"td\",{\"data-stat\": f})\n",
    "                a = cell.text.strip().encode()\n",
    "                text=a.decode(\"utf-8\")\n",
    "                if(text == ''):\n",
    "                    text = '0'\n",
    "                if((f!='player')&(f!='nationality')&(f!='position')&(f!='squad')&(f!='age')&(f!='birth_year')):\n",
    "                    text = float(text.replace(',',''))\n",
    "                if f in pre_df_player:\n",
    "                    pre_df_player[f].append(text)\n",
    "                else:\n",
    "                    pre_df_player[f] = [text]\n",
    "    df_player = pd.DataFrame.from_dict(pre_df_player)\n",
    "    return df_player\n",
    "\n",
    "def get_frame_team(features, team_table):\n",
    "    pre_df_squad = dict()\n",
    "    #Note: features does not contain squad name, it requires special treatment\n",
    "    features_wanted_squad = features\n",
    "    rows_squad = team_table.find_all('tr')\n",
    "    for row in rows_squad:\n",
    "        if(row.find('th',{\"scope\":\"row\"}) != None):\n",
    "            name = row.find('th',{\"data-stat\":\"squad\"}).text.strip().encode().decode(\"utf-8\")\n",
    "            if 'squad' in pre_df_squad:\n",
    "                pre_df_squad['squad'].append(name)\n",
    "            else:\n",
    "                pre_df_squad['squad'] = [name]\n",
    "            for f in features_wanted_squad:\n",
    "                cell = row.find(\"td\",{\"data-stat\": f})\n",
    "                a = cell.text.strip().encode()\n",
    "                text=a.decode(\"utf-8\")\n",
    "                if(text == ''):\n",
    "                    text = '0'\n",
    "                if((f!='player')&(f!='nationality')&(f!='position')&(f!='squad')&(f!='age')&(f!='birth_year')):\n",
    "                    text = float(text.replace(',',''))\n",
    "                if f in pre_df_squad:\n",
    "                    pre_df_squad[f].append(text)\n",
    "                else:\n",
    "                    pre_df_squad[f] = [text]\n",
    "    df_squad = pd.DataFrame.from_dict(pre_df_squad)\n",
    "    return df_squad\n",
    "\n",
    "def frame_for_category(category,top,end,features):\n",
    "    url = (top + category + end)\n",
    "    player_table, team_table = get_tables(url)\n",
    "    df_player = get_frame(features, player_table)\n",
    "    return df_player\n",
    "\n",
    "def frame_for_category_team(category,top,end,features):\n",
    "    url = (top + category + end)\n",
    "    player_table, team_table = get_tables(url)\n",
    "    df_team = get_frame_team(features, team_table)\n",
    "    return df_team"
   ]
  },
  {
   "cell_type": "code",
   "execution_count": 8,
   "metadata": {},
   "outputs": [],
   "source": [
    "# Function to get the player data for outfield player, includes all categories - standard stats, shooting passing, passing types, goal and shot creation, defensive actions, possession, and miscallaneous\n",
    "def get_outfield_data(top, end):\n",
    "    df1 = frame_for_category('stats',top,end,stats)\n",
    "    df2 = frame_for_category('shooting',top,end,shooting2)\n",
    "    df3 = frame_for_category('passing',top,end,passing2)\n",
    "    df4 = frame_for_category('passing_types',top,end,passing_types2)\n",
    "    df5 = frame_for_category('gca',top,end,gca2)\n",
    "    df6 = frame_for_category('defense',top,end,defense2)\n",
    "    df7 = frame_for_category('possession',top,end,possession2)\n",
    "    df8 = frame_for_category('misc',top,end,misc2)\n",
    "    df = pd.concat([df1, df2, df3, df4, df5, df6, df7, df8], axis=1)\n",
    "    df = df.loc[:,~df.columns.duplicated()]\n",
    "    return df"
   ]
  },
  {
   "cell_type": "code",
   "execution_count": 9,
   "metadata": {},
   "outputs": [],
   "source": [
    "# Function to get keeping and advance goalkeeping data\n",
    "def get_keeper_data(top,end):\n",
    "    df1 = frame_for_category('keepers',top,end,keepers)\n",
    "    df2 = frame_for_category('keepersadv',top,end,keepersadv2)\n",
    "    df = pd.concat([df1, df2], axis=1)\n",
    "    df = df.loc[:,~df.columns.duplicated()]\n",
    "    return df"
   ]
  },
  {
   "cell_type": "code",
   "execution_count": 10,
   "metadata": {},
   "outputs": [],
   "source": [
    "# Function to get team-wise data accross all categories as mentioned above\n",
    "def get_team_data(top,end):\n",
    "    df1 = frame_for_category_team('stats',top,end,stats3)\n",
    "    df2 = frame_for_category_team('keepers',top,end,keepers3)\n",
    "    df3 = frame_for_category_team('keepersadv',top,end,keepersadv2)\n",
    "    df4 = frame_for_category_team('shooting',top,end,shooting3)\n",
    "    df5 = frame_for_category_team('passing',top,end,passing2)\n",
    "    df6 = frame_for_category_team('passing_types',top,end,passing_types2)\n",
    "    df7 = frame_for_category_team('gca',top,end,gca2)\n",
    "    df8 = frame_for_category_team('defense',top,end,defense2)\n",
    "    df9 = frame_for_category_team('possession',top,end,possession2)\n",
    "    df10 = frame_for_category_team('misc',top,end,misc2)\n",
    "    df = pd.concat([df1, df2, df3, df4, df5, df6, df7, df8, df9, df10], axis=1)\n",
    "    df = df.loc[:,~df.columns.duplicated()]\n",
    "    return df"
   ]
  },
  {
   "cell_type": "markdown",
   "metadata": {},
   "source": [
    "---\n",
    "\n",
    "<a id='section2'></a>"
   ]
  },
  {
   "cell_type": "markdown",
   "metadata": {},
   "source": [
    "## <a id='#section2'>2. Project Brief</a>\n",
    "This Jupyter notebook explores how to scrape football data from [FBref](https://fbref.com/en/), provided by [StatsBomb](https://statsbomb.com/), using [pandas](http://pandas.pydata.org/) for data manipulation through DataFrames and [Beautifulsoup](https://pypi.org/project/beautifulsoup4/) for webscraping.\n",
    "\n",
    "The aims of this notebook is to result in three, finalised datasets exported to CSV. This data can be further analysed in Python, joined to other datasets, or explored using Tableau, PowerBI, Microsoft Excel. These datasets are the following:\n",
    "*    teams\n",
    "*    outfield players\n",
    "*    goalkeepers\n",
    "\n",
    "These [FBref](https://fbref.com/en/) webscrapers specially include the recently added extensive data of the top five leagues. The code for the [FBref](https://fbref.com/en/)  web scraping was written by [this](https://github.com/parth1902/Scrape-FBref-data) repository by [parth1902](https://github.com/parth1902) which in turn was taken from [this](https://github.com/chmartin/FBref_EPL) repository written by [chmartin](https://github.com/chmartin)."
   ]
  },
  {
   "cell_type": "markdown",
   "metadata": {},
   "source": [
    "---\n",
    "\n",
    "<a id='section3'></a>"
   ]
  },
  {
   "cell_type": "markdown",
   "metadata": {},
   "source": [
    "## <a id='#section3'>3. Data Sources</a>"
   ]
  },
  {
   "cell_type": "markdown",
   "metadata": {},
   "source": [
    "### <a id='#section3.1'>3.1. Introduction</a>\n",
    "This Data Sources section has been has been split into three subsections - team, outfielder, and goalkeeper.\n",
    "\n",
    "The data needs to be scraped, converted to a pandas DataFrame ([Section 3](#section3)) and cleaned in the Data Engineering section ([Section 4](#section4)).\n",
    "\n",
    "We'll be using the [pandas](http://pandas.pydata.org/) library to import our data to this workbook as a DataFrame.\n",
    "\n",
    "The FBref data comes in three forms:\n",
    "*    team data\n",
    "*    outfield data\n",
    "*    keeper data"
   ]
  },
  {
   "cell_type": "markdown",
   "metadata": {},
   "source": [
    "### <a id='#section3.2'>3.2. Teams</a>"
   ]
  },
  {
   "cell_type": "markdown",
   "metadata": {},
   "source": [
    "#### <a id='#section3.2.1'>3.2.1. Data Dictionary</a>\n",
    "The raw dataset has one hundred and eighty eight features (columns) with the following definitions and data types:\n",
    "\n",
    "| Variable     | Data Type    | Description    |\n",
    "|------|-----|-----|\n",
    "| `squad`    | object    | Squad name e.g. Arsenal    |\n",
    "| `players_used`    | float64    | Number of Players used in Games    |\n",
    "| `possession`    | float64    | Percentage of time with possession of the ball    |\n",
    "| `games`    | float64    | <b>Matches Played</b>. Matches Played by the player or squad    |\n",
    "| `games_starts`    | float64    | <b>Starts</b>. Game or games started by player    |\n",
    "| `minutes`    | float64    | Minutes    |\n",
    "| `goals`    | float64    | <b>Goals</b>. Goals scored or allowed    |\n",
    "| `assists`    | float64    | Assists    |\n",
    "| `pens_made`    | float64    | Penalty Kicks Made     |\n",
    "| `pens_att`   | float64    | Penalty Kicks Attempted    |\n",
    "| `cards_yellow`   | float64    | Yellow Cards    |\n",
    "| `cards_red`   | float64    | Red Cards    |\n",
    "| `goals_per90`   | float64    | Goals Scored per 90 minutes. Minimum 45 minutes played per squad game to qualify as a leader    |\n",
    "| `assists_per90`   | float64    | Assists per 90 minutes. Minimum 45 minutes played per squad game to qualify as a leader    |\n",
    "| `goals_assists_per90`   | float64    | Goals and Assists per 90 minutes. Minimum 45 minutes played per squad game to qualify as a leader    |\n",
    "| `goals_pens_per90`   | float64    | Goals minus Penalty Kicks made per 90 minutes. Minimum 45 minutes played per squad game to qualify as a leader.    |\n",
    "| `goals_assists_pens_per90`   | float64    | Goals plus Assists minus Penalty Kicks made per 90 minutes. Minimum 45 minutes played per squad game to qualify as a leader.    |\n",
    "| `xg`   | float64    | Expected Goals. xG totals include penalty kicks, but do not include penalty shootouts (unless otherwise noted). Provided by StatsBomb. An underline indicates there is a match that is missing data, but will be updated when available.    |\n",
    "| `npxg`   | float64    | npxG -- Non-Penalty Expected Goals. Provided by StatsBomb. An underline indicates there is a match that is missing data, but will be updated when available.    |\n",
    "| `xa`   | float64    | Expected Assists. xG which follows a pass that assists a shot. Provided by StatsBomb. An underline indicates there is a match that is missing data, but will be updated when available.    |\n",
    "| `xg_per90`   | float64    | Expected Goals per 90 minutes. xG totals include penalty kicks, but do not include penalty shootouts (unless otherwise noted). Provided by StatsBomb. An underline indicates there is a match that is missing data, but will be updated when available. Minimum 45 minutes played per squad game to qualify as a leader    |\n",
    "| `xa_per90`   | float64    | Expected Assists per 90 minutes. Provided by StatsBomb. An underline indicates there is a match that is missing data, but will be updated when available. Minimum 45 minutes played per squad game to qualify as a leader    |\n",
    "| `xg_xa_per90`   | float64    | Expected Goals plus Assist per 90 minutes.xG totals include penalty kicks, but do not include penalty shootouts (unless otherwise noted). Provided by StatsBomb. An underline indicates there is a match that is missing data, but will be updated when available. Minimum 45 minutes played per squad game to qualify as a leader    |\n",
    "| `npxg_per90`   | float64    | Non-Penalty Expected Goals per 90 minutes. Provided by StatsBomb. An underline indicates there is a match that is missing data, but will be updated when available. Minimum 45 minutes played per squad game to qualify as a leader    |\n",
    "| `npxg_xa_per90`   | float64    | Non-Penalty Expected Goals plus Expected Assists per 90 minutes. Provided by StatsBomb. An underline indicates there is a match that is missing data, but will be updated when available. Minimum 45 minutes played per squad game to qualify as a leader    |\n",
    "| `games_gk`   | float64    |     |\n",
    "| `games_starts_gk`   | float64    |     |\n",
    "| `minutes_gk`   | float64    |     |\n",
    "| `goals_against_gk`   | float64    |     |\n",
    "| `goals_against_per90_gk`   | float64    |     |\n",
    "| `shots_on_target_against`   | float64    |     |\n",
    "| `saves`   | float64    |     |\n",
    "| `save_pct`   | float64    |     |\n",
    "| `wins_gk`   | float64    |     |\n",
    "| `draws_gk`   | float64    |     |\n",
    "| `losses_gk`   | float64    |     |\n",
    "| `clean_sheets`   | float64    |     |\n",
    "| `clean_sheets_pct`   | float64    |     |\n",
    "| `pens_att_gk`   | float64    |     |\n",
    "| `pens_allowed`   | float64    |     |\n",
    "| `pens_saved`   | float64    |     |\n",
    "| `pens_missed_gk`   | float64    |     |\n",
    "| `minutes_90s_gk`   | float64    |     |\n",
    "| `free_kick_goals_against_gk`   | float64    |     |\n",
    "| `corner_kick_goals_against_gk`   | float64    |     |\n",
    "| `own_goals_against_gk`   | float64    |     |\n",
    "| `psxg_gk`   | float64    |     |\n",
    "| `psnpxg_per_shot_on_target_against`   | float64    |     |\n",
    "| `psxg_net_gk`   | float64    |     |\n",
    "| `psxg_net_per90_gk`   | float64    |     |\n",
    "| `passes_completed_launched_gk`   | float64    |     |\n",
    "| `passes_launched_gk`   | float64    |     |\n",
    "| `passes_pct_launched_gk`   | float64    |     |\n",
    "| `passes_gk`   | float64    |     |\n",
    "| `passes_throws_gk`   | float64    |     |\n",
    "| `pct_passes_launched_gk`   | float64    |     |\n",
    "| `passes_length_avg_gk`   | float64    |     |\n",
    "| `goal_kicks`   | float64    |     |\n",
    "| `pct_goal_kicks_launched`   | float64    |     |\n",
    "| `goal_kick_length_avg`   | float64    |     |\n",
    "| `crosses_gk`   | float64    |     |\n",
    "| `crosses_stopped_gk`   | float64    |     |\n",
    "| `crosses_stopped_pct_gk`   | float64    |     |\n",
    "| `def_actions_outside_pen_area_gk`   | float64    |     |\n",
    "| `def_actions_outside_pen_area_per90_gk`   | float64    |     |\n",
    "| `avg_distance_def_actions_gk`   | float64    |     |\n",
    "| `shots_total`   | float64    |     |\n",
    "| `shots_on_target`   | float64    |     |\n",
    "| `shots_free_kicks`   | float64    |     |\n",
    "| `shots_on_target_pct`   | float64    |     |\n",
    "| `shots_total_per90`   | float64    |     |\n",
    "| `shots_on_target_per90`   | float64    |     |\n",
    "| `goals_per_shot`   | float64    |     |\n",
    "| `goals_per_shot_on_target`   | float64    |     |\n",
    "| `npxg_per_shot`   | float64    |     |\n",
    "| `xg_net`   | float64    |     |\n",
    "| `npxg_net`   | float64    |     |\n",
    "| `passes_completed`   | float64    |     |\n",
    "| `passes`   | float64    |     |\n",
    "| `passes_pct`   | float64    |     |\n",
    "| `passes_total_distance`   | float64    |     |\n",
    "| `passes_progressive_distance`   | float64    |     |\n",
    "| `passes_completed_short`   | float64    |     |\n",
    "| `passes_short`   | float64    |     |\n",
    "| `passes_pct_short`   | float64    |     |\n",
    "| `passes_completed_medium`   | float64    |     |\n",
    "| `passes_medium`   | float64    |     |\n",
    "| `passes_pct_medium`   | float64    |     |\n",
    "| `passes_completed_long`   | float64    |     |\n",
    "| `passes_long`   | float64    |     |\n",
    "| `passes_pct_long`   | float64    |     |\n",
    "| `xa_net`   | float64    |     |\n",
    "| `assisted_shots`   | float64    |     |\n",
    "| `passes_into_final_third`   | float64    |     |\n",
    "| `passes_into_penalty_area`   | float64    |     |\n",
    "| `crosses_into_penalty_area`   | float64    |     |\n",
    "| `progressive_passes`   | float64    |     |\n",
    "| `passes_live`   | float64    |     |\n",
    "| `passes_dead`   | float64    |     |\n",
    "| `passes_free_kicks`   | float64    |     |\n",
    "| `through_balls`   | float64    |     |\n",
    "| `passes_pressure`   | float64    |     |\n",
    "| `passes_switches`   | float64    |     |\n",
    "| `crosses`   | float64    |     |\n",
    "| `corner_kicks`   | float64    |     |\n",
    "| `corner_kicks_in`   | float64    |     |\n",
    "| `corner_kicks_out`   | float64    |     |\n",
    "| `corner_kicks_straight`   | float64    |     |\n",
    "| `passes_ground`   | float64    |     |\n",
    "| `passes_low`   | float64    |     |\n",
    "| `passes_high`   | float64    |     |\n",
    "| `passes_left_foot`   | float64    |     |\n",
    "| `passes_right_foot`   | float64    |     |\n",
    "| `passes_head`   | float64    |     |\n",
    "| `throw_ins`   | float64    |     |\n",
    "| `passes_other_body`   | float64    |     |\n",
    "| `passes_offsides`   | float64    |     |\n",
    "| `passes_oob`   | float64    |     |\n",
    "| `passes_intercepted`   | float64    |\n",
    "| `passes_blocked`   | float64    |\n",
    "| `sca`   | float64    |\n",
    "| `sca_per90`   | float64    |\n",
    "| `sca_passes_live`   | float64    |\n",
    "| `sca_passes_dead`   | float64    |\n",
    "| `sca_dribbles`   | float64    |\n",
    "| `sca_shots`   | float64    |\n",
    "| `sca_fouled`   | float64    |\n",
    "| `gca`   | float64    |\n",
    "| `gca_per90`   | float64    |\n",
    "| `gca_passes_live`   | float64    |\n",
    "| `gca_passes_dead`   | float64    |\n",
    "| `gca_dribbles`   | float64    |\n",
    "| `gca_shots`   | float64    |\n",
    "| `gca_fouled`   | float64    |\n",
    "| `gca_og_for`   | float64    |\n",
    "| `tackles`   | float64    |\n",
    "| `tackles_won`   | float64    |\n",
    "| `tackles_def_3rd`   | float64    |\n",
    "| `tackles_mid_3rd`   | float64    |\n",
    "| `tackles_att_3rd`   | float64    |\n",
    "| `dribble_tackles`   | float64    |\n",
    "| `dribbles_vs`   | float64    |\n",
    "| `dribble_tackles_pct`   | float64    |\n",
    "| `dribbled_past`   | float64    |\n",
    "| `pressures`   | float64    |\n",
    "| `pressure_regains`   | float64    |\n",
    "| `pressure_regain_pct`   | float64    |\n",
    "| `pressures_def_3rd`   | float64    |\n",
    "| `pressures_mid_3rd`   | float64    |\n",
    "| `pressures_att_3rd`   | float64    |\n",
    "| `blocks`   | float64    |\n",
    "| `blocked_shots`   | float64    |\n",
    "| `blocked_shots_saves`   | float64    |\n",
    "| `blocked_passes`   | float64    |\n",
    "| `interceptions`   | float64    |\n",
    "| `clearances`   | float64    |\n",
    "| `errors`   | float64    |\n",
    "| `touches`   | float64    |\n",
    "| `touches_def_pen_area`   | float64    |\n",
    "| `touches_def_3rd`   | float64    |\n",
    "| `touches_mid_3rd`   | float64    |\n",
    "| `touches_att_3rd`   | float64    |\n",
    "| `touches_att_pen_area`   | float64    |\n",
    "| `touches_live_ball`   | float64    |\n",
    "| `dribbles_completed`   | float64    |\n",
    "| `dribbles`   | float64    |\n",
    "| `dribbles_completed_pct`   | float64    |\n",
    "| `players_dribbled_past`   | float64    |\n",
    "| `nutmegs`   | float64    |\n",
    "| `carries`   | float64    |\n",
    "| `carry_distance`   | float64    |\n",
    "| `carry_progressive_distance`   | float64    |\n",
    "| `pass_targets`   | float64    |\n",
    "| `passes_received`   | float64    |\n",
    "| `passes_received_pct`   | float64    |\n",
    "| `miscontrols`   | float64    |\n",
    "| `dispossessed`   | float64    |\n",
    "| `cards_yellow_red`   | float64    |\n",
    "| `fouls`   | float64    |\n",
    "| `fouled`   | float64    |\n",
    "| `offsides`   | float64    |\n",
    "| `pens_won`   | float64    |\n",
    "| `pens_conceded`   | float64    |\n",
    "| `own_goals`   | float64    |\n",
    "| `ball_recoveries`   | float64    |\n",
    "| `aerials_won`   | float64    |\n",
    "| `aerials_lost`   | float64    |\n",
    "| `aerials_won_pct`   | float64    |\n",
    "\n",
    "<br>\n",
    "The features will be cleaned, converted and also additional features will be created in the [Data Engineering](#section4) section (Section 4)."
   ]
  },
  {
   "cell_type": "markdown",
   "metadata": {},
   "source": [
    "#### <a id='#section3.2.2'>3.2.2. Creating the DataFrame - scraping the data</a>\n",
    "Scrape the data and save as a pandas DataFrame using the custom function `get_team_data`."
   ]
  },
  {
   "cell_type": "markdown",
   "metadata": {},
   "source": [
    "##### 20/21"
   ]
  },
  {
   "cell_type": "code",
   "execution_count": 14,
   "metadata": {},
   "outputs": [
    {
     "name": "stdout",
     "output_type": "stream",
     "text": [
      "Time taken to scrape team data for the Big 5 leagues for the 20/21 season is: 0.65 minutes.\n"
     ]
    }
   ],
   "source": [
    "# Run this script to scrape latest version of the team data from FBref for the Big 5 European Leagues for the 20/21 season\n",
    "\n",
    "## Notes\n",
    "### Go to the 'Standard stats' page of the league\n",
    "### For Premier League 19/20, the link is this: https://fbref.com/en/comps/9/stats/Premier-League-Stats\n",
    "### Remove the 'stats', and pass the first and third part of the link as parameters like below\n",
    "\n",
    "\n",
    "## Start timer\n",
    "tic = datetime.datetime.now()\n",
    "\n",
    "\n",
    "## Download data from the 'Top 5' leagues for the 20/21 season\n",
    "\n",
    "### Premier League\n",
    "df_fbref_team_premierleague_2021_raw = get_team_data('https://fbref.com/en/comps/9/10728/','/Premier-League-Stats')\n",
    "df_fbref_team_premierleague_2021_raw['league_name'] = 'Premier League'\n",
    "df_fbref_team_premierleague_2021_raw['league_country'] = 'England'\n",
    "\n",
    "### Ligue 1\n",
    "df_fbref_team_ligue1_2021_raw = get_team_data('https://fbref.com/en/comps/13/','/Ligue-1-Stats')\n",
    "df_fbref_team_ligue1_2021_raw['league_name'] = 'Ligue 1'\n",
    "df_fbref_team_ligue1_2021_raw['league_country'] = 'France'\n",
    "\n",
    "### Bundesliga\n",
    "df_fbref_team_bundesliga_2021_raw = get_team_data('https://fbref.com/en/comps/20/10737/','/Bundesliga-Stats')\n",
    "df_fbref_team_bundesliga_2021_raw['league_name'] = 'Bundesliga'\n",
    "df_fbref_team_bundesliga_2021_raw['league_country'] = 'Germany'\n",
    "\n",
    "### Serie A\n",
    "df_fbref_team_seriea_2021_raw = get_team_data('https://fbref.com/en/comps/11/','/Serie-A-Stats')\n",
    "df_fbref_team_seriea_2021_raw['league_name'] = 'Serie A'\n",
    "df_fbref_team_seriea_2021_raw['league_country'] = 'Italy'\n",
    "\n",
    "### La Liga\n",
    "df_fbref_team_laliga_2021_raw = get_team_data('https://fbref.com/en/comps/12/','/La-Liga-Stats')\n",
    "df_fbref_team_laliga_2021_raw['league_name'] = 'La Liga'\n",
    "df_fbref_team_laliga_2021_raw['league_country'] = 'Spain'\n",
    "\n",
    "\n",
    "## End timer\n",
    "toc = datetime.datetime.now()\n",
    "\n",
    "\n",
    "## Top 5 Leagues - Concatonate the 5 league tables to create a unified league table\n",
    "df_fbref_team_big5_2021_raw = pd.concat([df_fbref_team_premierleague_2021_raw , df_fbref_team_ligue1_2021_raw, df_fbref_team_bundesliga_2021_raw, df_fbref_team_seriea_2021_raw , df_fbref_team_laliga_2021_raw])\n",
    "\n",
    "\n",
    "## Export DataFrame to CSV\n",
    "\n",
    "### Individual Leagues\n",
    "df_fbref_team_premierleague_2021_raw.to_csv(data_dir_fbref + f'/raw/team/2021/premierleague/archive/' + f'team_premierleague_2021_raw_last_updated_{today}.csv', index=None, header=True)\n",
    "df_fbref_team_premierleague_2021_raw.to_csv(data_dir_fbref + f'/raw/team/2021/premierleague/' + f'team_premierleague_2021_raw_latest.csv', index=None, header=True)\n",
    "df_fbref_team_ligue1_2021_raw.to_csv(data_dir_fbref + f'/raw/team/2021/ligue1/archive/' + f'team_ligue1_2021_raw_last_updated_{today}.csv', index=None, header=True)\n",
    "df_fbref_team_ligue1_2021_raw.to_csv(data_dir_fbref + f'/raw/team/2021/ligue1/' + f'team_ligue1_2021_raw_latest.csv', index=None, header=True)\n",
    "df_fbref_team_bundesliga_2021_raw.to_csv(data_dir_fbref + f'/raw/team/2021/bundesliga/archive/' + f'team_bundesliga_2021_raw_last_updated_{today}.csv', index=None, header=True)\n",
    "df_fbref_team_bundesliga_2021_raw.to_csv(data_dir_fbref + f'/raw/team/2021/bundesliga/' + f'team_bundesliga_2021_raw_latest.csv', index=None, header=True)\n",
    "df_fbref_team_seriea_2021_raw.to_csv(data_dir_fbref + f'/raw/team/2021/seriea/archive/' + f'team_seriea_2021_raw_last_updated_{today}.csv', index=None, header=True)\n",
    "df_fbref_team_seriea_2021_raw.to_csv(data_dir_fbref + f'/raw/team/2021/seriea/' + f'team_seriea_2021_raw_latest.csv', index=None, header=True)\n",
    "df_fbref_team_laliga_2021_raw.to_csv(data_dir_fbref + f'/raw/team/2021/laliga/archive/' + f'team_laliga_2021_raw_last_updated_{today}.csv', index=None, header=True)\n",
    "df_fbref_team_laliga_2021_raw.to_csv(data_dir_fbref + f'/raw/team/2021/laliga/' + f'team_laliga_2021_raw_latest.csv', index=None, header=True)\n",
    "\n",
    "### Combined\n",
    "df_fbref_team_big5_2021_raw.to_csv(data_dir_fbref + f'/raw/team/2021/archive/' + f'team_big5_2021_raw_last_updated_{today}.csv', index=None, header=True)\n",
    "df_fbref_team_big5_2021_raw.to_csv(data_dir_fbref + f'/raw/team/2021/' + f'team_big5_2021_raw_latest.csv', index=None, header=True)\n",
    "\n",
    "\n",
    "## Calculate time take\n",
    "total_time = (toc-tic).total_seconds()\n",
    "print(f'Time taken to scrape team data for the Big 5 leagues for the 20/21 season is: {total_time/60:0.2f} minutes.')"
   ]
  },
  {
   "cell_type": "markdown",
   "metadata": {},
   "source": [
    "##### 19/20"
   ]
  },
  {
   "cell_type": "code",
   "execution_count": 15,
   "metadata": {},
   "outputs": [
    {
     "name": "stdout",
     "output_type": "stream",
     "text": [
      "Time taken to scrape team data for the Big 5 leagues for the 19/20 season is: 3.60 minutes.\n"
     ]
    }
   ],
   "source": [
    "# Run this script to scrape the team data from FBref for the Big 5 European Leagues for the 19/20 season\n",
    "\n",
    "## Start timer\n",
    "tic = datetime.datetime.now()\n",
    "\n",
    "\n",
    "## Download data from the 'Top 5' leagues for the 19/20 season\n",
    "\n",
    "### Premier League\n",
    "df_fbref_team_premierleague_1920_raw = get_team_data('https://fbref.com/en/comps/9/','/2019-2020-Premier-League-Stats')\n",
    "df_fbref_team_premierleague_1920_raw['league_name'] = 'Premier League'\n",
    "df_fbref_team_premierleague_1920_raw['league_country'] = 'England'\n",
    "df_fbref_team_premierleague_1920_raw.to_csv(data_dir_fbref + '/raw/team/1920/premierleague/' + 'team_premierleague_1920_raw.csv', index=None, header=True)\n",
    "\n",
    "### Ligue 1\n",
    "df_fbref_team_ligue1_1920_raw = get_team_data('https://fbref.com/en/comps/13/3243/','/2019-2020-Ligue-1-Stats')\n",
    "df_fbref_team_ligue1_1920_raw['league_name'] = 'Ligue 1'\n",
    "df_fbref_team_ligue1_1920_raw['league_country'] = 'France'\n",
    "df_fbref_team_ligue1_1920_raw.to_csv(data_dir_fbref + '/raw/team/1920/ligue1/' + 'team_ligue1_1920_raw.csv', index=None, header=True)\n",
    "\n",
    "### Bundesliga\n",
    "df_fbref_team_bundesliga_1920_raw = get_team_data('https://fbref.com/en/comps/20/','/2019-2020-Bundesliga-Stats')\n",
    "df_fbref_team_bundesliga_1920_raw['league_name'] = 'Bundesliga'\n",
    "df_fbref_team_bundesliga_1920_raw['league_country'] = 'Germany'\n",
    "df_fbref_team_bundesliga_1920_raw.to_csv(data_dir_fbref + '/raw/team/1920/bundesliga/' + 'team_bundesliga_1920_raw.csv', index=None, header=True)\n",
    "\n",
    "### Serie A\n",
    "df_fbref_team_seriea_1920_raw = get_team_data('https://fbref.com/en/comps/11/','/2019-2020-Serie-A-Stats')\n",
    "df_fbref_team_seriea_1920_raw['league_name'] = 'Serie A'\n",
    "df_fbref_team_seriea_1920_raw['league_country'] = 'Italy'\n",
    "df_fbref_team_seriea_1920_raw.to_csv(data_dir_fbref + '/raw/team/1920/seriea/' + 'team_seriea_1920_raw.csv', index=None, header=True)\n",
    "\n",
    "### La Liga\n",
    "df_fbref_team_laliga_1920_raw = get_team_data('https://fbref.com/en/comps/12/','/2019-2020-La-Liga-Stats')\n",
    "df_fbref_team_laliga_1920_raw['league_name'] = 'La Liga'\n",
    "df_fbref_team_laliga_1920_raw['league_country'] = 'Spain'\n",
    "df_fbref_team_laliga_1920_raw.to_csv(data_dir_fbref + '/raw/team/1920/laliga/' + 'team_laliga_1920_raw.csv', index=None, header=True)\n",
    "\n",
    "### Top 5 Leagues - Concatonate the 5 league tables to create a unified league table\n",
    "df_fbref_team_big5_1920_raw = pd.concat([df_fbref_team_premierleague_1920_raw , df_fbref_team_ligue1_1920_raw, df_fbref_team_bundesliga_1920_raw, df_fbref_team_seriea_1920_raw , df_fbref_team_laliga_1920_raw])\n",
    "df_fbref_team_big5_1920_raw.to_csv(data_dir_fbref + '/raw/team/1920/combined/' + 'team_big5_1920_raw.csv', index=None, header=True)\n",
    "\n",
    "\n",
    "\n",
    "## End timer\n",
    "toc = datetime.datetime.now()\n",
    "\n",
    "\n",
    "## Calculate time take\n",
    "total_time = (toc-tic).total_seconds()\n",
    "print(f'Time taken to scrape team data for the Big 5 leagues for the 19/20 season is: {total_time/60:0.2f} minutes.')"
   ]
  },
  {
   "cell_type": "markdown",
   "metadata": {},
   "source": [
    "##### 18/19"
   ]
  },
  {
   "cell_type": "code",
   "execution_count": 16,
   "metadata": {},
   "outputs": [
    {
     "name": "stdout",
     "output_type": "stream",
     "text": [
      "Time taken to scrape team data for the Big 5 leagues for the 18/19 season is: 3.10 minutes.\n"
     ]
    }
   ],
   "source": [
    "# Run this script to scrape the team data from FBref for the Big 5 European Leagues for the 18/19 season\n",
    "\n",
    "## Start timer\n",
    "tic = datetime.datetime.now()\n",
    "\n",
    "\n",
    "## Download data from the 'Top 5' leagues for the 18/19 season\n",
    "\n",
    "### Premier League\n",
    "df_fbref_team_premierleague_1819_raw = get_team_data('https://fbref.com/en/comps/9/1889/','/2018-2019-Premier-League-Stats')\n",
    "df_fbref_team_premierleague_1819_raw['league_name'] = 'Premier League'\n",
    "df_fbref_team_premierleague_1819_raw['league_country'] = 'England'\n",
    "df_fbref_team_premierleague_1819_raw.to_csv(data_dir_fbref + '/raw/team/1819/premierleague/' + 'team_premierleague_1819_raw.csv', index=None, header=True)\n",
    "\n",
    "### Ligue 1\n",
    "df_fbref_team_ligue1_1819_raw = get_team_data('https://fbref.com/en/comps/13/2104/','/2018-2019-Ligue-1-Stats')\n",
    "df_fbref_team_ligue1_1819_raw['league_name'] = 'Ligue 1'\n",
    "df_fbref_team_ligue1_1819_raw['league_country'] = 'France'\n",
    "df_fbref_team_ligue1_1819_raw.to_csv(data_dir_fbref + '/raw/team/1819/ligue1/' + 'team_ligue1_1819_raw.csv', index=None, header=True)\n",
    "\n",
    "### Bundesliga\n",
    "df_fbref_team_bundesliga_1819_raw = get_team_data('https://fbref.com/en/comps/20/2109/','/2018-2019-Bundesliga-Stats')\n",
    "df_fbref_team_bundesliga_1819_raw['league_name'] = 'Bundesliga'\n",
    "df_fbref_team_bundesliga_1819_raw['league_country'] = 'Germany'\n",
    "df_fbref_team_bundesliga_1819_raw.to_csv(data_dir_fbref + '/raw/team/1819/bundesliga/' + 'team_bundesliga_1819_raw.csv', index=None, header=True)\n",
    "\n",
    "### Serie A\n",
    "df_fbref_team_seriea_1819_raw = get_team_data('https://fbref.com/en/comps/11/1896/','/2018-2019-Serie-A-Stats')\n",
    "df_fbref_team_seriea_1819_raw['league_name'] = 'Serie A'\n",
    "df_fbref_team_seriea_1819_raw['league_country'] = 'Italy'\n",
    "df_fbref_team_seriea_1819_raw.to_csv(data_dir_fbref + '/raw/team/1819/seriea/' + 'team_seriea_1819_raw.csv', index=None, header=True)\n",
    "\n",
    "### La Liga\n",
    "df_fbref_team_laliga_1819_raw = get_team_data('https://fbref.com/en/comps/12/1886/','/2018-2019-La-Liga-Stats')\n",
    "df_fbref_team_laliga_1819_raw['league_name'] = 'La Liga'\n",
    "df_fbref_team_laliga_1819_raw['league_country'] = 'Spain'\n",
    "df_fbref_team_laliga_1819_raw.to_csv(data_dir_fbref + '/raw/team/1819/laliga/' + 'team_laliga_1819_raw.csv', index=None, header=True)\n",
    "\n",
    "### Top 5 Leagues - Concatonate the 5 league tables to create a unified league table\n",
    "df_fbref_team_big5_1819_raw = pd.concat([df_fbref_team_premierleague_1819_raw , df_fbref_team_ligue1_1819_raw, df_fbref_team_bundesliga_1819_raw, df_fbref_team_seriea_1819_raw , df_fbref_team_laliga_1819_raw])\n",
    "df_fbref_team_big5_1819_raw.to_csv(data_dir_fbref + '/raw/team/1819/combined/' + 'team_big5_1819_raw.csv', index=None, header=True)\n",
    "\n",
    "\n",
    "## End timer\n",
    "toc = datetime.datetime.now()\n",
    "\n",
    "\n",
    "## Calculate time take\n",
    "total_time = (toc-tic).total_seconds()\n",
    "print(f'Time taken to scrape team data for the Big 5 leagues for the 18/19 season is: {total_time/60:0.2f} minutes.')"
   ]
  },
  {
   "cell_type": "markdown",
   "metadata": {},
   "source": [
    "##### 17/18"
   ]
  },
  {
   "cell_type": "code",
   "execution_count": 17,
   "metadata": {},
   "outputs": [
    {
     "name": "stdout",
     "output_type": "stream",
     "text": [
      "Time taken to scrape team data for the Big 5 leagues for the 17/18 season is: 3.24 minutes.\n"
     ]
    }
   ],
   "source": [
    "# Run this script to scrape the team data from FBref for the Big 5 European Leagues for the 17/18 season\n",
    "\n",
    "## Start timer\n",
    "tic = datetime.datetime.now()\n",
    "\n",
    "\n",
    "## Download data from the 'Top 5' leagues for the 17/18 season\n",
    "\n",
    "### Premier League\n",
    "df_fbref_team_premierleague_1718_raw = get_team_data('https://fbref.com/en/comps/9/1631/','/2017-2018-Premier-League-Stats')\n",
    "df_fbref_team_premierleague_1718_raw['league_name'] = 'Premier League'\n",
    "df_fbref_team_premierleague_1718_raw['league_country'] = 'England'\n",
    "df_fbref_team_premierleague_1718_raw.to_csv(data_dir_fbref + '/raw/team/1718/premierleague/' + 'team_premierleague_1718_raw.csv', index=None, header=True)\n",
    "\n",
    "### Ligue 1\n",
    "df_fbref_team_ligue1_1718_raw = get_team_data('https://fbref.com/en/comps/13/1632/','/2017-2018-Ligue-1-Stats')\n",
    "df_fbref_team_ligue1_1718_raw['league_name'] = 'Ligue 1'\n",
    "df_fbref_team_ligue1_1718_raw['league_country'] = 'France'\n",
    "df_fbref_team_ligue1_1718_raw.to_csv(data_dir_fbref + '/raw/team/1718/ligue1/' + 'team_ligue1_1718_raw.csv', index=None, header=True)\n",
    "\n",
    "### Bundesliga\n",
    "df_fbref_team_bundesliga_1718_raw = get_team_data('https://fbref.com/en/comps/20/1634/','/2017-2018-Bundesliga-Stats')\n",
    "df_fbref_team_bundesliga_1718_raw['league_name'] = 'Bundesliga'\n",
    "df_fbref_team_bundesliga_1718_raw['league_country'] = 'Germany'\n",
    "df_fbref_team_bundesliga_1718_raw.to_csv(data_dir_fbref + '/raw/team/1718/bundesliga/' + 'team_bundesliga_1718_raw.csv', index=None, header=True)\n",
    "\n",
    "### Serie A\n",
    "df_fbref_team_seriea_1718_raw = get_team_data('https://fbref.com/en/comps/11/1640/','/2017-2018-Serie-A-Stats')\n",
    "df_fbref_team_seriea_1718_raw['league_name'] = 'Serie A'\n",
    "df_fbref_team_seriea_1718_raw['league_country'] = 'Italy'\n",
    "df_fbref_team_seriea_1718_raw.to_csv(data_dir_fbref + '/raw/team/1718/seriea/' + 'team_seriea_1718_raw.csv', index=None, header=True)\n",
    "\n",
    "### La Liga\n",
    "df_fbref_team_laliga_1718_raw = get_team_data('https://fbref.com/en/comps/12/1652/','/2017-2018-La-Liga-Stats')\n",
    "df_fbref_team_laliga_1718_raw['league_name'] = 'La Liga'\n",
    "df_fbref_team_laliga_1718_raw['league_country'] = 'Spain'\n",
    "df_fbref_team_laliga_1718_raw.to_csv(data_dir_fbref + '/raw/team/1718/laliga/' + 'team_laliga_1718_raw.csv', index=None, header=True)\n",
    "\n",
    "### Top 5 Leagues - Concatonate the 5 league tables to create a unified league table\n",
    "df_fbref_team_big5_1718_raw = pd.concat([df_fbref_team_premierleague_1718_raw , df_fbref_team_ligue1_1718_raw, df_fbref_team_bundesliga_1718_raw, df_fbref_team_seriea_1718_raw , df_fbref_team_laliga_1718_raw])\n",
    "df_fbref_team_big5_1718_raw.to_csv(data_dir_fbref + '/raw/team/1718/combined/' + 'team_big5_1718_raw.csv', index=None, header=True)\n",
    "\n",
    "\n",
    "## End timer\n",
    "toc = datetime.datetime.now()\n",
    "\n",
    "\n",
    "## Calculate time take\n",
    "total_time = (toc-tic).total_seconds()\n",
    "print(f'Time taken to scrape team data for the Big 5 leagues for the 17/18 season is: {total_time/60:0.2f} minutes.')"
   ]
  },
  {
   "cell_type": "markdown",
   "metadata": {},
   "source": [
    "#### <a id='#section3.2.3'>3.2.3. Preliminary Data Handling</a>\n",
    "Let's quality of the dataset by looking first and last rows in pandas using the [head()](https://pandas.pydata.org/pandas-docs/stable/reference/api/pandas.DataFrame.head.html) and [tail()](https://pandas.pydata.org/pandas-docs/stable/reference/api/pandas.DataFrame.tail.html) methods."
   ]
  },
  {
   "cell_type": "code",
   "execution_count": 18,
   "metadata": {
    "scrolled": true
   },
   "outputs": [
    {
     "data": {
      "text/html": [
       "<div>\n",
       "<style scoped>\n",
       "    .dataframe tbody tr th:only-of-type {\n",
       "        vertical-align: middle;\n",
       "    }\n",
       "\n",
       "    .dataframe tbody tr th {\n",
       "        vertical-align: top;\n",
       "    }\n",
       "\n",
       "    .dataframe thead th {\n",
       "        text-align: right;\n",
       "    }\n",
       "</style>\n",
       "<table border=\"1\" class=\"dataframe\">\n",
       "  <thead>\n",
       "    <tr style=\"text-align: right;\">\n",
       "      <th></th>\n",
       "      <th>squad</th>\n",
       "      <th>players_used</th>\n",
       "      <th>possession</th>\n",
       "      <th>games</th>\n",
       "      <th>games_starts</th>\n",
       "      <th>minutes</th>\n",
       "      <th>goals</th>\n",
       "      <th>assists</th>\n",
       "      <th>pens_made</th>\n",
       "      <th>pens_att</th>\n",
       "      <th>...</th>\n",
       "      <th>offsides</th>\n",
       "      <th>pens_won</th>\n",
       "      <th>pens_conceded</th>\n",
       "      <th>own_goals</th>\n",
       "      <th>ball_recoveries</th>\n",
       "      <th>aerials_won</th>\n",
       "      <th>aerials_lost</th>\n",
       "      <th>aerials_won_pct</th>\n",
       "      <th>league_name</th>\n",
       "      <th>league_country</th>\n",
       "    </tr>\n",
       "  </thead>\n",
       "  <tbody>\n",
       "    <tr>\n",
       "      <th>0</th>\n",
       "      <td>vs Arsenal</td>\n",
       "      <td>25.0</td>\n",
       "      <td>48.1</td>\n",
       "      <td>15.0</td>\n",
       "      <td>165.0</td>\n",
       "      <td>1350.0</td>\n",
       "      <td>16.0</td>\n",
       "      <td>11.0</td>\n",
       "      <td>0.0</td>\n",
       "      <td>1.0</td>\n",
       "      <td>...</td>\n",
       "      <td>18.0</td>\n",
       "      <td>1.0</td>\n",
       "      <td>3.0</td>\n",
       "      <td>0.0</td>\n",
       "      <td>1260.0</td>\n",
       "      <td>238.0</td>\n",
       "      <td>186.0</td>\n",
       "      <td>56.1</td>\n",
       "      <td>Premier League</td>\n",
       "      <td>England</td>\n",
       "    </tr>\n",
       "    <tr>\n",
       "      <th>1</th>\n",
       "      <td>vs Aston Villa</td>\n",
       "      <td>19.0</td>\n",
       "      <td>49.2</td>\n",
       "      <td>13.0</td>\n",
       "      <td>143.0</td>\n",
       "      <td>1170.0</td>\n",
       "      <td>13.0</td>\n",
       "      <td>9.0</td>\n",
       "      <td>0.0</td>\n",
       "      <td>1.0</td>\n",
       "      <td>...</td>\n",
       "      <td>13.0</td>\n",
       "      <td>1.0</td>\n",
       "      <td>4.0</td>\n",
       "      <td>1.0</td>\n",
       "      <td>1150.0</td>\n",
       "      <td>253.0</td>\n",
       "      <td>311.0</td>\n",
       "      <td>44.9</td>\n",
       "      <td>Premier League</td>\n",
       "      <td>England</td>\n",
       "    </tr>\n",
       "    <tr>\n",
       "      <th>2</th>\n",
       "      <td>vs Brighton</td>\n",
       "      <td>22.0</td>\n",
       "      <td>46.0</td>\n",
       "      <td>15.0</td>\n",
       "      <td>165.0</td>\n",
       "      <td>1350.0</td>\n",
       "      <td>23.0</td>\n",
       "      <td>16.0</td>\n",
       "      <td>5.0</td>\n",
       "      <td>5.0</td>\n",
       "      <td>...</td>\n",
       "      <td>27.0</td>\n",
       "      <td>4.0</td>\n",
       "      <td>5.0</td>\n",
       "      <td>1.0</td>\n",
       "      <td>1302.0</td>\n",
       "      <td>265.0</td>\n",
       "      <td>214.0</td>\n",
       "      <td>55.3</td>\n",
       "      <td>Premier League</td>\n",
       "      <td>England</td>\n",
       "    </tr>\n",
       "    <tr>\n",
       "      <th>3</th>\n",
       "      <td>vs Burnley</td>\n",
       "      <td>21.0</td>\n",
       "      <td>59.0</td>\n",
       "      <td>14.0</td>\n",
       "      <td>154.0</td>\n",
       "      <td>1260.0</td>\n",
       "      <td>19.0</td>\n",
       "      <td>15.0</td>\n",
       "      <td>3.0</td>\n",
       "      <td>3.0</td>\n",
       "      <td>...</td>\n",
       "      <td>31.0</td>\n",
       "      <td>3.0</td>\n",
       "      <td>0.0</td>\n",
       "      <td>1.0</td>\n",
       "      <td>1480.0</td>\n",
       "      <td>294.0</td>\n",
       "      <td>351.0</td>\n",
       "      <td>45.6</td>\n",
       "      <td>Premier League</td>\n",
       "      <td>England</td>\n",
       "    </tr>\n",
       "    <tr>\n",
       "      <th>4</th>\n",
       "      <td>vs Chelsea</td>\n",
       "      <td>27.0</td>\n",
       "      <td>40.7</td>\n",
       "      <td>15.0</td>\n",
       "      <td>165.0</td>\n",
       "      <td>1350.0</td>\n",
       "      <td>17.0</td>\n",
       "      <td>11.0</td>\n",
       "      <td>2.0</td>\n",
       "      <td>2.0</td>\n",
       "      <td>...</td>\n",
       "      <td>25.0</td>\n",
       "      <td>2.0</td>\n",
       "      <td>5.0</td>\n",
       "      <td>1.0</td>\n",
       "      <td>1334.0</td>\n",
       "      <td>209.0</td>\n",
       "      <td>260.0</td>\n",
       "      <td>44.6</td>\n",
       "      <td>Premier League</td>\n",
       "      <td>England</td>\n",
       "    </tr>\n",
       "  </tbody>\n",
       "</table>\n",
       "<p>5 rows × 190 columns</p>\n",
       "</div>"
      ],
      "text/plain": [
       "            squad  players_used  possession  games  games_starts  minutes  \\\n",
       "0      vs Arsenal          25.0        48.1   15.0         165.0   1350.0   \n",
       "1  vs Aston Villa          19.0        49.2   13.0         143.0   1170.0   \n",
       "2     vs Brighton          22.0        46.0   15.0         165.0   1350.0   \n",
       "3      vs Burnley          21.0        59.0   14.0         154.0   1260.0   \n",
       "4      vs Chelsea          27.0        40.7   15.0         165.0   1350.0   \n",
       "\n",
       "   goals  assists  pens_made  pens_att  ...  offsides  pens_won  \\\n",
       "0   16.0     11.0        0.0       1.0  ...      18.0       1.0   \n",
       "1   13.0      9.0        0.0       1.0  ...      13.0       1.0   \n",
       "2   23.0     16.0        5.0       5.0  ...      27.0       4.0   \n",
       "3   19.0     15.0        3.0       3.0  ...      31.0       3.0   \n",
       "4   17.0     11.0        2.0       2.0  ...      25.0       2.0   \n",
       "\n",
       "   pens_conceded  own_goals  ball_recoveries  aerials_won  aerials_lost  \\\n",
       "0            3.0        0.0           1260.0        238.0         186.0   \n",
       "1            4.0        1.0           1150.0        253.0         311.0   \n",
       "2            5.0        1.0           1302.0        265.0         214.0   \n",
       "3            0.0        1.0           1480.0        294.0         351.0   \n",
       "4            5.0        1.0           1334.0        209.0         260.0   \n",
       "\n",
       "   aerials_won_pct     league_name  league_country  \n",
       "0             56.1  Premier League         England  \n",
       "1             44.9  Premier League         England  \n",
       "2             55.3  Premier League         England  \n",
       "3             45.6  Premier League         England  \n",
       "4             44.6  Premier League         England  \n",
       "\n",
       "[5 rows x 190 columns]"
      ]
     },
     "execution_count": 18,
     "metadata": {},
     "output_type": "execute_result"
    }
   ],
   "source": [
    "# Display the first 5 rows of the raw DataFrame, df_fbref_team_big5_2021_raw\n",
    "df_fbref_team_big5_2021_raw.head()"
   ]
  },
  {
   "cell_type": "code",
   "execution_count": 19,
   "metadata": {},
   "outputs": [
    {
     "data": {
      "text/html": [
       "<div>\n",
       "<style scoped>\n",
       "    .dataframe tbody tr th:only-of-type {\n",
       "        vertical-align: middle;\n",
       "    }\n",
       "\n",
       "    .dataframe tbody tr th {\n",
       "        vertical-align: top;\n",
       "    }\n",
       "\n",
       "    .dataframe thead th {\n",
       "        text-align: right;\n",
       "    }\n",
       "</style>\n",
       "<table border=\"1\" class=\"dataframe\">\n",
       "  <thead>\n",
       "    <tr style=\"text-align: right;\">\n",
       "      <th></th>\n",
       "      <th>squad</th>\n",
       "      <th>players_used</th>\n",
       "      <th>possession</th>\n",
       "      <th>games</th>\n",
       "      <th>games_starts</th>\n",
       "      <th>minutes</th>\n",
       "      <th>goals</th>\n",
       "      <th>assists</th>\n",
       "      <th>pens_made</th>\n",
       "      <th>pens_att</th>\n",
       "      <th>...</th>\n",
       "      <th>offsides</th>\n",
       "      <th>pens_won</th>\n",
       "      <th>pens_conceded</th>\n",
       "      <th>own_goals</th>\n",
       "      <th>ball_recoveries</th>\n",
       "      <th>aerials_won</th>\n",
       "      <th>aerials_lost</th>\n",
       "      <th>aerials_won_pct</th>\n",
       "      <th>league_name</th>\n",
       "      <th>league_country</th>\n",
       "    </tr>\n",
       "  </thead>\n",
       "  <tbody>\n",
       "    <tr>\n",
       "      <th>35</th>\n",
       "      <td>Real Sociedad</td>\n",
       "      <td>27.0</td>\n",
       "      <td>56.2</td>\n",
       "      <td>16.0</td>\n",
       "      <td>176.0</td>\n",
       "      <td>1440.0</td>\n",
       "      <td>25.0</td>\n",
       "      <td>13.0</td>\n",
       "      <td>6.0</td>\n",
       "      <td>7.0</td>\n",
       "      <td>...</td>\n",
       "      <td>46.0</td>\n",
       "      <td>3.0</td>\n",
       "      <td>3.0</td>\n",
       "      <td>0.0</td>\n",
       "      <td>1489.0</td>\n",
       "      <td>311.0</td>\n",
       "      <td>278.0</td>\n",
       "      <td>52.8</td>\n",
       "      <td>La Liga</td>\n",
       "      <td>Spain</td>\n",
       "    </tr>\n",
       "    <tr>\n",
       "      <th>36</th>\n",
       "      <td>Sevilla</td>\n",
       "      <td>25.0</td>\n",
       "      <td>63.2</td>\n",
       "      <td>13.0</td>\n",
       "      <td>143.0</td>\n",
       "      <td>1170.0</td>\n",
       "      <td>14.0</td>\n",
       "      <td>10.0</td>\n",
       "      <td>2.0</td>\n",
       "      <td>2.0</td>\n",
       "      <td>...</td>\n",
       "      <td>25.0</td>\n",
       "      <td>1.0</td>\n",
       "      <td>0.0</td>\n",
       "      <td>1.0</td>\n",
       "      <td>1090.0</td>\n",
       "      <td>250.0</td>\n",
       "      <td>212.0</td>\n",
       "      <td>54.1</td>\n",
       "      <td>La Liga</td>\n",
       "      <td>Spain</td>\n",
       "    </tr>\n",
       "    <tr>\n",
       "      <th>37</th>\n",
       "      <td>Valencia</td>\n",
       "      <td>24.0</td>\n",
       "      <td>41.3</td>\n",
       "      <td>15.0</td>\n",
       "      <td>165.0</td>\n",
       "      <td>1350.0</td>\n",
       "      <td>20.0</td>\n",
       "      <td>12.0</td>\n",
       "      <td>5.0</td>\n",
       "      <td>5.0</td>\n",
       "      <td>...</td>\n",
       "      <td>38.0</td>\n",
       "      <td>3.0</td>\n",
       "      <td>4.0</td>\n",
       "      <td>1.0</td>\n",
       "      <td>1205.0</td>\n",
       "      <td>243.0</td>\n",
       "      <td>252.0</td>\n",
       "      <td>49.1</td>\n",
       "      <td>La Liga</td>\n",
       "      <td>Spain</td>\n",
       "    </tr>\n",
       "    <tr>\n",
       "      <th>38</th>\n",
       "      <td>Valladolid</td>\n",
       "      <td>25.0</td>\n",
       "      <td>41.7</td>\n",
       "      <td>15.0</td>\n",
       "      <td>165.0</td>\n",
       "      <td>1350.0</td>\n",
       "      <td>15.0</td>\n",
       "      <td>9.0</td>\n",
       "      <td>4.0</td>\n",
       "      <td>5.0</td>\n",
       "      <td>...</td>\n",
       "      <td>31.0</td>\n",
       "      <td>5.0</td>\n",
       "      <td>5.0</td>\n",
       "      <td>0.0</td>\n",
       "      <td>1287.0</td>\n",
       "      <td>237.0</td>\n",
       "      <td>323.0</td>\n",
       "      <td>42.3</td>\n",
       "      <td>La Liga</td>\n",
       "      <td>Spain</td>\n",
       "    </tr>\n",
       "    <tr>\n",
       "      <th>39</th>\n",
       "      <td>Villarreal</td>\n",
       "      <td>25.0</td>\n",
       "      <td>57.6</td>\n",
       "      <td>15.0</td>\n",
       "      <td>165.0</td>\n",
       "      <td>1350.0</td>\n",
       "      <td>20.0</td>\n",
       "      <td>11.0</td>\n",
       "      <td>5.0</td>\n",
       "      <td>5.0</td>\n",
       "      <td>...</td>\n",
       "      <td>43.0</td>\n",
       "      <td>4.0</td>\n",
       "      <td>3.0</td>\n",
       "      <td>1.0</td>\n",
       "      <td>1269.0</td>\n",
       "      <td>202.0</td>\n",
       "      <td>227.0</td>\n",
       "      <td>47.1</td>\n",
       "      <td>La Liga</td>\n",
       "      <td>Spain</td>\n",
       "    </tr>\n",
       "  </tbody>\n",
       "</table>\n",
       "<p>5 rows × 190 columns</p>\n",
       "</div>"
      ],
      "text/plain": [
       "            squad  players_used  possession  games  games_starts  minutes  \\\n",
       "35  Real Sociedad          27.0        56.2   16.0         176.0   1440.0   \n",
       "36        Sevilla          25.0        63.2   13.0         143.0   1170.0   \n",
       "37       Valencia          24.0        41.3   15.0         165.0   1350.0   \n",
       "38     Valladolid          25.0        41.7   15.0         165.0   1350.0   \n",
       "39     Villarreal          25.0        57.6   15.0         165.0   1350.0   \n",
       "\n",
       "    goals  assists  pens_made  pens_att  ...  offsides  pens_won  \\\n",
       "35   25.0     13.0        6.0       7.0  ...      46.0       3.0   \n",
       "36   14.0     10.0        2.0       2.0  ...      25.0       1.0   \n",
       "37   20.0     12.0        5.0       5.0  ...      38.0       3.0   \n",
       "38   15.0      9.0        4.0       5.0  ...      31.0       5.0   \n",
       "39   20.0     11.0        5.0       5.0  ...      43.0       4.0   \n",
       "\n",
       "    pens_conceded  own_goals  ball_recoveries  aerials_won  aerials_lost  \\\n",
       "35            3.0        0.0           1489.0        311.0         278.0   \n",
       "36            0.0        1.0           1090.0        250.0         212.0   \n",
       "37            4.0        1.0           1205.0        243.0         252.0   \n",
       "38            5.0        0.0           1287.0        237.0         323.0   \n",
       "39            3.0        1.0           1269.0        202.0         227.0   \n",
       "\n",
       "    aerials_won_pct  league_name  league_country  \n",
       "35             52.8      La Liga           Spain  \n",
       "36             54.1      La Liga           Spain  \n",
       "37             49.1      La Liga           Spain  \n",
       "38             42.3      La Liga           Spain  \n",
       "39             47.1      La Liga           Spain  \n",
       "\n",
       "[5 rows x 190 columns]"
      ]
     },
     "execution_count": 19,
     "metadata": {},
     "output_type": "execute_result"
    }
   ],
   "source": [
    "# Display the last 5 rows of the raw DataFrame, df_fbref_team_big5_2021_raw\n",
    "df_fbref_team_big5_2021_raw.tail()"
   ]
  },
  {
   "cell_type": "markdown",
   "metadata": {},
   "source": [
    "[shape](https://pandas.pydata.org/pandas-docs/stable/reference/api/pandas.DataFrame.dtypes.html) returns a tuple representing the dimensionality of the DataFrame."
   ]
  },
  {
   "cell_type": "code",
   "execution_count": 20,
   "metadata": {},
   "outputs": [
    {
     "name": "stdout",
     "output_type": "stream",
     "text": [
      "(196, 190)\n"
     ]
    }
   ],
   "source": [
    "# Print the shape of the raw DataFrame, df_fbref_team_big5_2021_raw\n",
    "print(df_fbref_team_big5_2021_raw.shape)"
   ]
  },
  {
   "cell_type": "markdown",
   "metadata": {},
   "source": [
    "[columns](https://pandas.pydata.org/pandas-docs/stable/reference/api/pandas.DataFrame.columns.html) returns the column labels of the DataFrame."
   ]
  },
  {
   "cell_type": "code",
   "execution_count": 21,
   "metadata": {},
   "outputs": [
    {
     "data": {
      "text/plain": [
       "Index(['squad', 'players_used', 'possession', 'games', 'games_starts',\n",
       "       'minutes', 'goals', 'assists', 'pens_made', 'pens_att',\n",
       "       ...\n",
       "       'offsides', 'pens_won', 'pens_conceded', 'own_goals', 'ball_recoveries',\n",
       "       'aerials_won', 'aerials_lost', 'aerials_won_pct', 'league_name',\n",
       "       'league_country'],\n",
       "      dtype='object', length=190)"
      ]
     },
     "execution_count": 21,
     "metadata": {},
     "output_type": "execute_result"
    }
   ],
   "source": [
    "# Features (column names) of the raw DataFrame, df_fbref_team_big5_2021_raw\n",
    "df_fbref_team_big5_2021_raw.columns"
   ]
  },
  {
   "cell_type": "markdown",
   "metadata": {},
   "source": [
    "The [dtypes](https://pandas.pydata.org/pandas-docs/stable/reference/api/pandas.DataFrame.dtypes.html) method returns the data types of each attribute in the DataFrame."
   ]
  },
  {
   "cell_type": "code",
   "execution_count": 22,
   "metadata": {
    "scrolled": true
   },
   "outputs": [
    {
     "data": {
      "text/plain": [
       "squad               object\n",
       "players_used       float64\n",
       "possession         float64\n",
       "games              float64\n",
       "games_starts       float64\n",
       "                    ...   \n",
       "aerials_won        float64\n",
       "aerials_lost       float64\n",
       "aerials_won_pct    float64\n",
       "league_name         object\n",
       "league_country      object\n",
       "Length: 190, dtype: object"
      ]
     },
     "execution_count": 22,
     "metadata": {},
     "output_type": "execute_result"
    }
   ],
   "source": [
    "# Data types of the features of the raw DataFrame, df_fbref_team_big5_2021_raw\n",
    "df_fbref_team_big5_2021_raw.dtypes"
   ]
  },
  {
   "cell_type": "code",
   "execution_count": 23,
   "metadata": {},
   "outputs": [
    {
     "name": "stdout",
     "output_type": "stream",
     "text": [
      "squad                                     object\n",
      "players_used                             float64\n",
      "possession                               float64\n",
      "games                                    float64\n",
      "games_starts                             float64\n",
      "minutes                                  float64\n",
      "goals                                    float64\n",
      "assists                                  float64\n",
      "pens_made                                float64\n",
      "pens_att                                 float64\n",
      "cards_yellow                             float64\n",
      "cards_red                                float64\n",
      "goals_per90                              float64\n",
      "assists_per90                            float64\n",
      "goals_assists_per90                      float64\n",
      "goals_pens_per90                         float64\n",
      "goals_assists_pens_per90                 float64\n",
      "xg                                       float64\n",
      "npxg                                     float64\n",
      "xa                                       float64\n",
      "xg_per90                                 float64\n",
      "xa_per90                                 float64\n",
      "xg_xa_per90                              float64\n",
      "npxg_per90                               float64\n",
      "npxg_xa_per90                            float64\n",
      "games_gk                                 float64\n",
      "games_starts_gk                          float64\n",
      "minutes_gk                               float64\n",
      "goals_against_gk                         float64\n",
      "goals_against_per90_gk                   float64\n",
      "shots_on_target_against                  float64\n",
      "saves                                    float64\n",
      "save_pct                                 float64\n",
      "wins_gk                                  float64\n",
      "draws_gk                                 float64\n",
      "losses_gk                                float64\n",
      "clean_sheets                             float64\n",
      "clean_sheets_pct                         float64\n",
      "pens_att_gk                              float64\n",
      "pens_allowed                             float64\n",
      "pens_saved                               float64\n",
      "pens_missed_gk                           float64\n",
      "minutes_90s_gk                           float64\n",
      "free_kick_goals_against_gk               float64\n",
      "corner_kick_goals_against_gk             float64\n",
      "own_goals_against_gk                     float64\n",
      "psxg_gk                                  float64\n",
      "psnpxg_per_shot_on_target_against        float64\n",
      "psxg_net_gk                              float64\n",
      "psxg_net_per90_gk                        float64\n",
      "passes_completed_launched_gk             float64\n",
      "passes_launched_gk                       float64\n",
      "passes_pct_launched_gk                   float64\n",
      "passes_gk                                float64\n",
      "passes_throws_gk                         float64\n",
      "pct_passes_launched_gk                   float64\n",
      "passes_length_avg_gk                     float64\n",
      "goal_kicks                               float64\n",
      "pct_goal_kicks_launched                  float64\n",
      "goal_kick_length_avg                     float64\n",
      "crosses_gk                               float64\n",
      "crosses_stopped_gk                       float64\n",
      "crosses_stopped_pct_gk                   float64\n",
      "def_actions_outside_pen_area_gk          float64\n",
      "def_actions_outside_pen_area_per90_gk    float64\n",
      "avg_distance_def_actions_gk              float64\n",
      "shots_total                              float64\n",
      "shots_on_target                          float64\n",
      "shots_free_kicks                         float64\n",
      "shots_on_target_pct                      float64\n",
      "shots_total_per90                        float64\n",
      "shots_on_target_per90                    float64\n",
      "goals_per_shot                           float64\n",
      "goals_per_shot_on_target                 float64\n",
      "npxg_per_shot                            float64\n",
      "xg_net                                   float64\n",
      "npxg_net                                 float64\n",
      "passes_completed                         float64\n",
      "passes                                   float64\n",
      "passes_pct                               float64\n",
      "passes_total_distance                    float64\n",
      "passes_progressive_distance              float64\n",
      "passes_completed_short                   float64\n",
      "passes_short                             float64\n",
      "passes_pct_short                         float64\n",
      "passes_completed_medium                  float64\n",
      "passes_medium                            float64\n",
      "passes_pct_medium                        float64\n",
      "passes_completed_long                    float64\n",
      "passes_long                              float64\n",
      "passes_pct_long                          float64\n",
      "xa_net                                   float64\n",
      "assisted_shots                           float64\n",
      "passes_into_final_third                  float64\n",
      "passes_into_penalty_area                 float64\n",
      "crosses_into_penalty_area                float64\n",
      "progressive_passes                       float64\n",
      "passes_live                              float64\n",
      "passes_dead                              float64\n",
      "passes_free_kicks                        float64\n",
      "through_balls                            float64\n",
      "passes_pressure                          float64\n",
      "passes_switches                          float64\n",
      "crosses                                  float64\n",
      "corner_kicks                             float64\n",
      "corner_kicks_in                          float64\n",
      "corner_kicks_out                         float64\n",
      "corner_kicks_straight                    float64\n",
      "passes_ground                            float64\n",
      "passes_low                               float64\n",
      "passes_high                              float64\n",
      "passes_left_foot                         float64\n",
      "passes_right_foot                        float64\n",
      "passes_head                              float64\n",
      "throw_ins                                float64\n",
      "passes_other_body                        float64\n",
      "passes_offsides                          float64\n",
      "passes_oob                               float64\n",
      "passes_intercepted                       float64\n",
      "passes_blocked                           float64\n",
      "sca                                      float64\n",
      "sca_per90                                float64\n",
      "sca_passes_live                          float64\n",
      "sca_passes_dead                          float64\n",
      "sca_dribbles                             float64\n",
      "sca_shots                                float64\n",
      "sca_fouled                               float64\n",
      "gca                                      float64\n",
      "gca_per90                                float64\n",
      "gca_passes_live                          float64\n",
      "gca_passes_dead                          float64\n",
      "gca_dribbles                             float64\n",
      "gca_shots                                float64\n",
      "gca_fouled                               float64\n",
      "gca_og_for                               float64\n",
      "tackles                                  float64\n",
      "tackles_won                              float64\n",
      "tackles_def_3rd                          float64\n",
      "tackles_mid_3rd                          float64\n",
      "tackles_att_3rd                          float64\n",
      "dribble_tackles                          float64\n",
      "dribbles_vs                              float64\n",
      "dribble_tackles_pct                      float64\n",
      "dribbled_past                            float64\n",
      "pressures                                float64\n",
      "pressure_regains                         float64\n",
      "pressure_regain_pct                      float64\n",
      "pressures_def_3rd                        float64\n",
      "pressures_mid_3rd                        float64\n",
      "pressures_att_3rd                        float64\n",
      "blocks                                   float64\n",
      "blocked_shots                            float64\n",
      "blocked_shots_saves                      float64\n",
      "blocked_passes                           float64\n",
      "interceptions                            float64\n",
      "clearances                               float64\n",
      "errors                                   float64\n",
      "touches                                  float64\n",
      "touches_def_pen_area                     float64\n",
      "touches_def_3rd                          float64\n",
      "touches_mid_3rd                          float64\n",
      "touches_att_3rd                          float64\n",
      "touches_att_pen_area                     float64\n",
      "touches_live_ball                        float64\n",
      "dribbles_completed                       float64\n",
      "dribbles                                 float64\n",
      "dribbles_completed_pct                   float64\n",
      "players_dribbled_past                    float64\n",
      "nutmegs                                  float64\n",
      "carries                                  float64\n",
      "carry_distance                           float64\n",
      "carry_progressive_distance               float64\n",
      "pass_targets                             float64\n",
      "passes_received                          float64\n",
      "passes_received_pct                      float64\n",
      "miscontrols                              float64\n",
      "dispossessed                             float64\n",
      "cards_yellow_red                         float64\n",
      "fouls                                    float64\n",
      "fouled                                   float64\n",
      "offsides                                 float64\n",
      "pens_won                                 float64\n",
      "pens_conceded                            float64\n",
      "own_goals                                float64\n",
      "ball_recoveries                          float64\n",
      "aerials_won                              float64\n",
      "aerials_lost                             float64\n",
      "aerials_won_pct                          float64\n",
      "league_name                               object\n",
      "league_country                            object\n",
      "dtype: object\n"
     ]
    }
   ],
   "source": [
    "# Displays all one hundered and four columns\n",
    "with pd.option_context('display.max_rows', None, 'display.max_columns', None):\n",
    "    print(df_fbref_team_big5_2021_raw.dtypes)"
   ]
  },
  {
   "cell_type": "markdown",
   "metadata": {},
   "source": [
    "The [info](https://pandas.pydata.org/pandas-docs/stable/reference/api/pandas.DataFrame.info.html) method to get a quick description of the data, in particular the total number of rows, and each attribute’s type and number of non-null values."
   ]
  },
  {
   "cell_type": "code",
   "execution_count": 24,
   "metadata": {},
   "outputs": [
    {
     "name": "stdout",
     "output_type": "stream",
     "text": [
      "<class 'pandas.core.frame.DataFrame'>\n",
      "Int64Index: 196 entries, 0 to 39\n",
      "Columns: 190 entries, squad to league_country\n",
      "dtypes: float64(187), object(3)\n",
      "memory usage: 292.5+ KB\n"
     ]
    }
   ],
   "source": [
    "# Info for the raw DataFrame, df_fbref_team_big5_2021_raw\n",
    "df_fbref_team_big5_2021_raw.info()"
   ]
  },
  {
   "cell_type": "markdown",
   "metadata": {},
   "source": [
    "The [describe](https://pandas.pydata.org/pandas-docs/stable/reference/api/pandas.DataFrame.describe.html) method to show some useful statistics for each numerical column in the DataFrame."
   ]
  },
  {
   "cell_type": "code",
   "execution_count": 25,
   "metadata": {},
   "outputs": [
    {
     "data": {
      "text/html": [
       "<div>\n",
       "<style scoped>\n",
       "    .dataframe tbody tr th:only-of-type {\n",
       "        vertical-align: middle;\n",
       "    }\n",
       "\n",
       "    .dataframe tbody tr th {\n",
       "        vertical-align: top;\n",
       "    }\n",
       "\n",
       "    .dataframe thead th {\n",
       "        text-align: right;\n",
       "    }\n",
       "</style>\n",
       "<table border=\"1\" class=\"dataframe\">\n",
       "  <thead>\n",
       "    <tr style=\"text-align: right;\">\n",
       "      <th></th>\n",
       "      <th>players_used</th>\n",
       "      <th>possession</th>\n",
       "      <th>games</th>\n",
       "      <th>games_starts</th>\n",
       "      <th>minutes</th>\n",
       "      <th>goals</th>\n",
       "      <th>assists</th>\n",
       "      <th>pens_made</th>\n",
       "      <th>pens_att</th>\n",
       "      <th>cards_yellow</th>\n",
       "      <th>...</th>\n",
       "      <th>fouls</th>\n",
       "      <th>fouled</th>\n",
       "      <th>offsides</th>\n",
       "      <th>pens_won</th>\n",
       "      <th>pens_conceded</th>\n",
       "      <th>own_goals</th>\n",
       "      <th>ball_recoveries</th>\n",
       "      <th>aerials_won</th>\n",
       "      <th>aerials_lost</th>\n",
       "      <th>aerials_won_pct</th>\n",
       "    </tr>\n",
       "  </thead>\n",
       "  <tbody>\n",
       "    <tr>\n",
       "      <th>count</th>\n",
       "      <td>196.000000</td>\n",
       "      <td>196.000000</td>\n",
       "      <td>196.000000</td>\n",
       "      <td>196.000000</td>\n",
       "      <td>196.000000</td>\n",
       "      <td>196.000000</td>\n",
       "      <td>196.000000</td>\n",
       "      <td>196.000000</td>\n",
       "      <td>196.000000</td>\n",
       "      <td>196.000000</td>\n",
       "      <td>...</td>\n",
       "      <td>196.000000</td>\n",
       "      <td>196.000000</td>\n",
       "      <td>196.000000</td>\n",
       "      <td>196.00000</td>\n",
       "      <td>196.000000</td>\n",
       "      <td>196.000000</td>\n",
       "      <td>196.000000</td>\n",
       "      <td>196.000000</td>\n",
       "      <td>196.000000</td>\n",
       "      <td>196.000000</td>\n",
       "    </tr>\n",
       "    <tr>\n",
       "      <th>mean</th>\n",
       "      <td>24.714286</td>\n",
       "      <td>50.000510</td>\n",
       "      <td>14.591837</td>\n",
       "      <td>160.510204</td>\n",
       "      <td>1313.265306</td>\n",
       "      <td>20.163265</td>\n",
       "      <td>13.867347</td>\n",
       "      <td>2.591837</td>\n",
       "      <td>3.102041</td>\n",
       "      <td>30.081633</td>\n",
       "      <td>...</td>\n",
       "      <td>192.040816</td>\n",
       "      <td>182.275510</td>\n",
       "      <td>28.071429</td>\n",
       "      <td>2.44898</td>\n",
       "      <td>2.928571</td>\n",
       "      <td>0.673469</td>\n",
       "      <td>1312.826531</td>\n",
       "      <td>240.938776</td>\n",
       "      <td>240.928571</td>\n",
       "      <td>49.999490</td>\n",
       "    </tr>\n",
       "    <tr>\n",
       "      <th>std</th>\n",
       "      <td>2.694724</td>\n",
       "      <td>6.954523</td>\n",
       "      <td>1.372527</td>\n",
       "      <td>15.097797</td>\n",
       "      <td>123.527433</td>\n",
       "      <td>6.483421</td>\n",
       "      <td>5.194944</td>\n",
       "      <td>1.726634</td>\n",
       "      <td>1.875564</td>\n",
       "      <td>7.491087</td>\n",
       "      <td>...</td>\n",
       "      <td>30.371180</td>\n",
       "      <td>28.435904</td>\n",
       "      <td>9.513553</td>\n",
       "      <td>1.57625</td>\n",
       "      <td>1.743854</td>\n",
       "      <td>0.768288</td>\n",
       "      <td>153.142067</td>\n",
       "      <td>57.309921</td>\n",
       "      <td>57.275627</td>\n",
       "      <td>4.208983</td>\n",
       "    </tr>\n",
       "    <tr>\n",
       "      <th>min</th>\n",
       "      <td>19.000000</td>\n",
       "      <td>34.400000</td>\n",
       "      <td>13.000000</td>\n",
       "      <td>143.000000</td>\n",
       "      <td>1170.000000</td>\n",
       "      <td>4.000000</td>\n",
       "      <td>3.000000</td>\n",
       "      <td>0.000000</td>\n",
       "      <td>0.000000</td>\n",
       "      <td>10.000000</td>\n",
       "      <td>...</td>\n",
       "      <td>114.000000</td>\n",
       "      <td>108.000000</td>\n",
       "      <td>10.000000</td>\n",
       "      <td>0.00000</td>\n",
       "      <td>0.000000</td>\n",
       "      <td>0.000000</td>\n",
       "      <td>855.000000</td>\n",
       "      <td>124.000000</td>\n",
       "      <td>124.000000</td>\n",
       "      <td>38.600000</td>\n",
       "    </tr>\n",
       "    <tr>\n",
       "      <th>25%</th>\n",
       "      <td>23.000000</td>\n",
       "      <td>44.800000</td>\n",
       "      <td>13.000000</td>\n",
       "      <td>143.000000</td>\n",
       "      <td>1170.000000</td>\n",
       "      <td>15.000000</td>\n",
       "      <td>10.000000</td>\n",
       "      <td>1.000000</td>\n",
       "      <td>2.000000</td>\n",
       "      <td>25.000000</td>\n",
       "      <td>...</td>\n",
       "      <td>169.750000</td>\n",
       "      <td>161.000000</td>\n",
       "      <td>21.000000</td>\n",
       "      <td>1.00000</td>\n",
       "      <td>2.000000</td>\n",
       "      <td>0.000000</td>\n",
       "      <td>1221.250000</td>\n",
       "      <td>196.500000</td>\n",
       "      <td>196.500000</td>\n",
       "      <td>47.075000</td>\n",
       "    </tr>\n",
       "    <tr>\n",
       "      <th>50%</th>\n",
       "      <td>25.000000</td>\n",
       "      <td>50.000000</td>\n",
       "      <td>14.000000</td>\n",
       "      <td>154.000000</td>\n",
       "      <td>1260.000000</td>\n",
       "      <td>20.000000</td>\n",
       "      <td>13.500000</td>\n",
       "      <td>2.000000</td>\n",
       "      <td>3.000000</td>\n",
       "      <td>30.000000</td>\n",
       "      <td>...</td>\n",
       "      <td>190.500000</td>\n",
       "      <td>181.000000</td>\n",
       "      <td>27.000000</td>\n",
       "      <td>2.00000</td>\n",
       "      <td>3.000000</td>\n",
       "      <td>1.000000</td>\n",
       "      <td>1312.500000</td>\n",
       "      <td>238.000000</td>\n",
       "      <td>238.000000</td>\n",
       "      <td>50.000000</td>\n",
       "    </tr>\n",
       "    <tr>\n",
       "      <th>75%</th>\n",
       "      <td>26.000000</td>\n",
       "      <td>55.200000</td>\n",
       "      <td>15.000000</td>\n",
       "      <td>165.000000</td>\n",
       "      <td>1350.000000</td>\n",
       "      <td>25.000000</td>\n",
       "      <td>17.000000</td>\n",
       "      <td>4.000000</td>\n",
       "      <td>4.000000</td>\n",
       "      <td>35.000000</td>\n",
       "      <td>...</td>\n",
       "      <td>216.000000</td>\n",
       "      <td>206.000000</td>\n",
       "      <td>33.000000</td>\n",
       "      <td>3.00000</td>\n",
       "      <td>4.000000</td>\n",
       "      <td>1.000000</td>\n",
       "      <td>1421.250000</td>\n",
       "      <td>282.000000</td>\n",
       "      <td>282.000000</td>\n",
       "      <td>52.925000</td>\n",
       "    </tr>\n",
       "    <tr>\n",
       "      <th>max</th>\n",
       "      <td>33.000000</td>\n",
       "      <td>65.600000</td>\n",
       "      <td>17.000000</td>\n",
       "      <td>187.000000</td>\n",
       "      <td>1530.000000</td>\n",
       "      <td>39.000000</td>\n",
       "      <td>33.000000</td>\n",
       "      <td>9.000000</td>\n",
       "      <td>9.000000</td>\n",
       "      <td>54.000000</td>\n",
       "      <td>...</td>\n",
       "      <td>271.000000</td>\n",
       "      <td>255.000000</td>\n",
       "      <td>71.000000</td>\n",
       "      <td>8.00000</td>\n",
       "      <td>9.000000</td>\n",
       "      <td>3.000000</td>\n",
       "      <td>1694.000000</td>\n",
       "      <td>445.000000</td>\n",
       "      <td>445.000000</td>\n",
       "      <td>61.400000</td>\n",
       "    </tr>\n",
       "  </tbody>\n",
       "</table>\n",
       "<p>8 rows × 187 columns</p>\n",
       "</div>"
      ],
      "text/plain": [
       "       players_used  possession       games  games_starts      minutes  \\\n",
       "count    196.000000  196.000000  196.000000    196.000000   196.000000   \n",
       "mean      24.714286   50.000510   14.591837    160.510204  1313.265306   \n",
       "std        2.694724    6.954523    1.372527     15.097797   123.527433   \n",
       "min       19.000000   34.400000   13.000000    143.000000  1170.000000   \n",
       "25%       23.000000   44.800000   13.000000    143.000000  1170.000000   \n",
       "50%       25.000000   50.000000   14.000000    154.000000  1260.000000   \n",
       "75%       26.000000   55.200000   15.000000    165.000000  1350.000000   \n",
       "max       33.000000   65.600000   17.000000    187.000000  1530.000000   \n",
       "\n",
       "            goals     assists   pens_made    pens_att  cards_yellow  ...  \\\n",
       "count  196.000000  196.000000  196.000000  196.000000    196.000000  ...   \n",
       "mean    20.163265   13.867347    2.591837    3.102041     30.081633  ...   \n",
       "std      6.483421    5.194944    1.726634    1.875564      7.491087  ...   \n",
       "min      4.000000    3.000000    0.000000    0.000000     10.000000  ...   \n",
       "25%     15.000000   10.000000    1.000000    2.000000     25.000000  ...   \n",
       "50%     20.000000   13.500000    2.000000    3.000000     30.000000  ...   \n",
       "75%     25.000000   17.000000    4.000000    4.000000     35.000000  ...   \n",
       "max     39.000000   33.000000    9.000000    9.000000     54.000000  ...   \n",
       "\n",
       "            fouls      fouled    offsides   pens_won  pens_conceded  \\\n",
       "count  196.000000  196.000000  196.000000  196.00000     196.000000   \n",
       "mean   192.040816  182.275510   28.071429    2.44898       2.928571   \n",
       "std     30.371180   28.435904    9.513553    1.57625       1.743854   \n",
       "min    114.000000  108.000000   10.000000    0.00000       0.000000   \n",
       "25%    169.750000  161.000000   21.000000    1.00000       2.000000   \n",
       "50%    190.500000  181.000000   27.000000    2.00000       3.000000   \n",
       "75%    216.000000  206.000000   33.000000    3.00000       4.000000   \n",
       "max    271.000000  255.000000   71.000000    8.00000       9.000000   \n",
       "\n",
       "        own_goals  ball_recoveries  aerials_won  aerials_lost  aerials_won_pct  \n",
       "count  196.000000       196.000000   196.000000    196.000000       196.000000  \n",
       "mean     0.673469      1312.826531   240.938776    240.928571        49.999490  \n",
       "std      0.768288       153.142067    57.309921     57.275627         4.208983  \n",
       "min      0.000000       855.000000   124.000000    124.000000        38.600000  \n",
       "25%      0.000000      1221.250000   196.500000    196.500000        47.075000  \n",
       "50%      1.000000      1312.500000   238.000000    238.000000        50.000000  \n",
       "75%      1.000000      1421.250000   282.000000    282.000000        52.925000  \n",
       "max      3.000000      1694.000000   445.000000    445.000000        61.400000  \n",
       "\n",
       "[8 rows x 187 columns]"
      ]
     },
     "execution_count": 25,
     "metadata": {},
     "output_type": "execute_result"
    }
   ],
   "source": [
    "# Description of the raw DataFrame, df_fbref_team_big5_2021_raw, showing some summary statistics for each numberical column in the DataFrame\n",
    "df_fbref_team_big5_2021_raw.describe()"
   ]
  },
  {
   "cell_type": "markdown",
   "metadata": {},
   "source": [
    "Next, we will check to see how many missing values we have i.e. the number of NULL values in the dataset, and in what features these missing values are located. This can be plotted nicely using the [missingno](https://pypi.org/project/missingno/) library (pip install missingno)."
   ]
  },
  {
   "cell_type": "code",
   "execution_count": 26,
   "metadata": {},
   "outputs": [
    {
     "data": {
      "text/plain": [
       "<matplotlib.axes._subplots.AxesSubplot at 0x1a26bf1c50>"
      ]
     },
     "execution_count": 26,
     "metadata": {},
     "output_type": "execute_result"
    },
    {
     "data": {
      "image/png": "[encoded data removed]",
      "text/plain": [
       "<Figure size 2160x504 with 2 Axes>"
      ]
     },
     "metadata": {},
     "output_type": "display_data"
    }
   ],
   "source": [
    "# Plot visualisation of the missing values for each feature of the raw DataFrame, df_fbref_team_big5_2021_raw\n",
    "msno.matrix(df_fbref_team_big5_2021_raw, figsize = (30, 7))"
   ]
  },
  {
   "cell_type": "code",
   "execution_count": 27,
   "metadata": {},
   "outputs": [
    {
     "data": {
      "text/plain": [
       "Series([], dtype: int64)"
      ]
     },
     "execution_count": 27,
     "metadata": {},
     "output_type": "execute_result"
    }
   ],
   "source": [
    "# Counts of missing values\n",
    "null_value_stats = df_fbref_team_big5_2021_raw.isnull().sum(axis=0)\n",
    "null_value_stats[null_value_stats != 0]"
   ]
  },
  {
   "cell_type": "markdown",
   "metadata": {},
   "source": [
    "The visualisation shows us very quickly that there are no missing values in the dataset."
   ]
  },
  {
   "cell_type": "markdown",
   "metadata": {},
   "source": [
    "### <a id='#section3.3'>3.3. Outfield Players</a>"
   ]
  },
  {
   "cell_type": "markdown",
   "metadata": {},
   "source": [
    "#### <a id='#section3.3.1'>3.3.1. Data Dictionary</a>\n",
    "The raw dataset has one hundred and eighty eight features (columns) with the following definitions and data types:\n",
    "\n",
    "| Variable     | Data Type    | Description    |\n",
    "|------|-----|-----|\n",
    "| `squad`    | object    | Squad name e.g. Arsenal    |\n",
    "| `players_used`    | float64    | Number of Players used in Games    |\n",
    "| `possession`    | float64    | Percentage of time with possession of the ball    |\n",
    "\n",
    "\n",
    "<br>\n",
    "The features will be cleaned, converted and also additional features will be created in the [Data Engineering](#section4) section (Section 4)."
   ]
  },
  {
   "cell_type": "markdown",
   "metadata": {},
   "source": [
    "#### <a id='#section3.3.2'>3.3.2. Creating the DataFrame - scraping the data</a>\n",
    "Scrape the data and save as a pandas DataFrame using the function `get_outfield_data`.\n",
    "\n",
    "For outfielders, we are not required to download the data for individual leagues and concatenate them, they can be downloaded as one from the 'Big 5' European leagues players page."
   ]
  },
  {
   "cell_type": "code",
   "execution_count": null,
   "metadata": {},
   "outputs": [],
   "source": [
    "# Run this script to scrape latest version of the player data from FBref\n",
    "\n",
    "## Notes\n",
    "### Go to the 'Standard stats' page of the league\n",
    "### For the Big 5 European Leagues for 2020/21, the link is this: https://fbref.com/en/comps/9/stats/Premier-League-Stats\n",
    "### For the Big 5 European Leagues for 2019/20, the link is this: https://fbref.com/en/comps/Big5/2019-2020/stats/players/2019-2020-Big-5-European-Leagues-Stats\n",
    "### Remove the 'stats', and pass the first and third part of the link as parameters like below\n",
    "\n",
    "\n",
    "## Start timer\n",
    "tic = datetime.datetime.now()\n",
    "\n",
    "\n",
    "## 20/21\n",
    "df_fbref_outfield_big5_2021_raw = get_outfield_data('https://fbref.com/en/comps/Big5/','/players/Big-5-European-Leagues-Stats')\n",
    "df_fbref_outfield_big5_2021_raw.to_csv(data_dir_fbref + f'/raw/outfield/2021/archive/' + f'player_big5_2021_raw_last_updated_{today}.csv', index=None, header=True)\n",
    "df_fbref_outfield_big5_2021_raw.to_csv(data_dir_fbref + f'/raw/outfield/2021/' + f'player_big5_2021_raw_latest.csv', index=None, header=True)\n",
    "\n",
    "## 19/20\n",
    "df_fbref_outfield_big5_1920_raw = get_outfield_data('https://fbref.com/en/comps/Big5/2019-2020/','/players/2019-2020-Big-5-European-Leagues-Stats')\n",
    "df_fbref_outfield_big5_1920_raw.to_csv(data_dir_fbref + '/raw/outfield/1920/' + 'player_big5_1920_raw.csv', index=None, header=True)\n",
    "\n",
    "## 18/19\n",
    "df_fbref_outfield_big5_1819_raw = get_outfield_data('https://fbref.com/en/comps/Big5/2018-2019/','/players/2018-2019-Big-5-European-Leagues-Stats')\n",
    "df_fbref_outfield_big5_1819_raw.to_csv(data_dir_fbref + '/raw/outfield/1819/' + 'player_big5_1819_raw.csv', index=None, header=True)\n",
    "\n",
    "## 17/18\n",
    "df_fbref_outfield_big5_1718_raw = get_outfield_data('https://fbref.com/en/comps/Big5/2017-2018/','/players/2017-2018-Big-5-European-Leagues-Stats')\n",
    "df_fbref_outfield_big5_1718_raw.to_csv(data_dir_fbref + '/raw/outfield/1718/' + 'player_big5_1718_raw.csv', index=None, header=True)\n",
    "\n",
    "\n",
    "## End timer\n",
    "toc = datetime.datetime.now()\n",
    "\n",
    "\n",
    "## Calculate time take\n",
    "total_time = (toc-tic).total_seconds()\n",
    "print(f'Time taken to scrape player data for the Big 5 leagues is: {total_time/60:0.2f} minutes.')"
   ]
  },
  {
   "cell_type": "markdown",
   "metadata": {},
   "source": [
    "#### <a id='#section3.3.3'>3.3.3. Preliminary Data Handling</a>\n",
    "Let's quality of the dataset for the 2020/21 season by looking first and last rows in pandas using the [head()](https://pandas.pydata.org/pandas-docs/stable/reference/api/pandas.DataFrame.head.html) and [tail()](https://pandas.pydata.org/pandas-docs/stable/reference/api/pandas.DataFrame.tail.html) methods."
   ]
  },
  {
   "cell_type": "code",
   "execution_count": null,
   "metadata": {},
   "outputs": [],
   "source": [
    "# Display the first 5 rows of the raw DataFrame, df_fbref_outfield_big5_2021_raw\n",
    "df_fbref_outfield_big5_2021_raw.head()"
   ]
  },
  {
   "cell_type": "code",
   "execution_count": null,
   "metadata": {},
   "outputs": [],
   "source": [
    "# Display the last 5 rows of the raw DataFrame, df_fbref_outfield_big5_2021_raw\n",
    "df_fbref_outfield_big5_2021_raw.tail()"
   ]
  },
  {
   "cell_type": "markdown",
   "metadata": {},
   "source": [
    "[shape](https://pandas.pydata.org/pandas-docs/stable/reference/api/pandas.DataFrame.dtypes.html) returns a tuple representing the dimensionality of the DataFrame."
   ]
  },
  {
   "cell_type": "code",
   "execution_count": null,
   "metadata": {},
   "outputs": [],
   "source": [
    "# Print the shape of the raw DataFrame, df_fbref_outfield_big5_2021\n",
    "print(df_fbref_outfield_big5_2021_raw.shape)"
   ]
  },
  {
   "cell_type": "markdown",
   "metadata": {},
   "source": [
    "[columns](https://pandas.pydata.org/pandas-docs/stable/reference/api/pandas.DataFrame.columns.html) returns the column labels of the DataFrame."
   ]
  },
  {
   "cell_type": "code",
   "execution_count": null,
   "metadata": {},
   "outputs": [],
   "source": [
    "# Features (column names) of the raw DataFrame, df_fbref_outfield_big5_2021_raw\n",
    "df_fbref_outfield_big5_2021_raw.columns"
   ]
  },
  {
   "cell_type": "markdown",
   "metadata": {},
   "source": [
    "The [dtypes](https://pandas.pydata.org/pandas-docs/stable/reference/api/pandas.DataFrame.dtypes.html) method returns the data types of each attribute in the DataFrame."
   ]
  },
  {
   "cell_type": "code",
   "execution_count": null,
   "metadata": {},
   "outputs": [],
   "source": [
    "# Data types of the features of the raw DataFrame, df_fbref_outfield_big5_2021_raw\n",
    "df_fbref_outfield_big5_2021_raw.dtypes"
   ]
  },
  {
   "cell_type": "code",
   "execution_count": null,
   "metadata": {},
   "outputs": [],
   "source": [
    "# Displays all one hundered and four columns\n",
    "with pd.option_context('display.max_rows', None, 'display.max_columns', None):\n",
    "    print(df_fbref_outfield_big5_2021_raw.dtypes)"
   ]
  },
  {
   "cell_type": "markdown",
   "metadata": {},
   "source": [
    "The [info](https://pandas.pydata.org/pandas-docs/stable/reference/api/pandas.DataFrame.info.html) method to get a quick description of the data, in particular the total number of rows, and each attribute’s type and number of non-null values."
   ]
  },
  {
   "cell_type": "code",
   "execution_count": null,
   "metadata": {},
   "outputs": [],
   "source": [
    "# Info for the raw DataFrame, df_fbref_outfield_big5_2021_raw\n",
    "df_fbref_outfield_big5_2021_raw.info()"
   ]
  },
  {
   "cell_type": "markdown",
   "metadata": {},
   "source": [
    "The [describe](https://pandas.pydata.org/pandas-docs/stable/reference/api/pandas.DataFrame.describe.html) method to show some useful statistics for each numerical column in the DataFrame."
   ]
  },
  {
   "cell_type": "code",
   "execution_count": null,
   "metadata": {},
   "outputs": [],
   "source": [
    "# Description of the raw DataFrame, df_fbref_outfield_big5_2021_raw, showing some summary statistics for each numberical column in the DataFrame\n",
    "df_fbref_outfield_big5_2021_raw.describe()"
   ]
  },
  {
   "cell_type": "markdown",
   "metadata": {},
   "source": [
    "Next, we will check to see how many missing values we have i.e. the number of NULL values in the dataset, and in what features these missing values are located. This can be plotted nicely using the [missingno](https://pypi.org/project/missingno/) library (pip install missingno)."
   ]
  },
  {
   "cell_type": "code",
   "execution_count": null,
   "metadata": {},
   "outputs": [],
   "source": [
    "# Plot visualisation of the missing values for each feature of the raw DataFrame, df_fbref_outfield_big5_2021_raw\n",
    "msno.matrix(df_fbref_outfield_big5_2021_raw, figsize = (30, 7))"
   ]
  },
  {
   "cell_type": "code",
   "execution_count": null,
   "metadata": {},
   "outputs": [],
   "source": [
    "# Counts of missing values\n",
    "null_value_stats = df_fbref_outfield_big5_2021_raw.isnull().sum(axis=0)\n",
    "null_value_stats[null_value_stats != 0]"
   ]
  },
  {
   "cell_type": "markdown",
   "metadata": {},
   "source": [
    "The visualisation shows us very quickly that there are no missing values in the dataset."
   ]
  },
  {
   "cell_type": "markdown",
   "metadata": {},
   "source": [
    "### <a id='#section3.4'>3.4. Goalkeepers</a>"
   ]
  },
  {
   "cell_type": "markdown",
   "metadata": {},
   "source": [
    "#### <a id='#section3.4.1'>3.4.1. Data Dictionary</a>\n",
    "The raw dataset has one hundred and eighty eight features (columns) with the following definitions and data types:\n",
    "\n",
    "| Variable     | Data Type    | Description    |\n",
    "|------|-----|-----|\n",
    "| `squad`    | object    | Squad name e.g. Arsenal    |\n",
    "| `players_used`    | float64    | Number of Players used in Games    |\n",
    "| `possession`    | float64    | Percentage of time with possession of the ball    |\n",
    "\n",
    "\n",
    "<br>\n",
    "The features will be cleaned, converted and also additional features will be created in the [Data Engineering](#section4) section (Section 4)."
   ]
  },
  {
   "cell_type": "markdown",
   "metadata": {},
   "source": [
    "#### <a id='#section3.4.2'>3.4.2. Creating the DataFrame - scraping the data</a>\n",
    "Scrape the data and save as a pandas DataFrame using the function `get_keeper_data`.\n",
    "\n",
    "Like the outfielders, to download the goalkeeper data we are not required to download the data for individual leagues and concatenate them, they can be downloaded as one from the 'Big 5' European leagues goalkeepers page."
   ]
  },
  {
   "cell_type": "code",
   "execution_count": null,
   "metadata": {},
   "outputs": [],
   "source": [
    "# Run this script to scrape latest version of the goalkeeper data from FBref\n",
    "\n",
    "## Notes\n",
    "### Go to the 'Standard stats' page of the league\n",
    "### For the Big 5 European Leagues for 2020/21, the link is this: https://fbref.com/en/comps/Big5/stats/players/Big-5-European-Leagues-Stats\n",
    "### For the Big 5 European Leagues for 2019/20, the link is this: https://fbref.com/en/comps/Big5/2019-2020/stats/players/2019-2020-Big-5-European-Leagues-Stats\n",
    "### Remove the 'stats', and pass the first and third part of the link as parameters like below\n",
    "\n",
    "\n",
    "## Start timer\n",
    "tic = datetime.datetime.now()\n",
    "\n",
    "\n",
    "## Download goalkeeper data from the 'Top 5' leagues for the 19/20 season\n",
    "\n",
    "### 20/21\n",
    "df_fbref_goalkeeper_big5_2021_raw = get_keeper_data('https://fbref.com/en/comps/Big5/','/players/Big-5-European-Leagues-Stats')\n",
    "df_fbref_outfield_big5_2021_raw.to_csv(data_dir_fbref + f'/raw/outfield/2021/archive/' + f'player_big5_2021_raw_last_updated_{today}.csv', index=None, header=True)\n",
    "df_fbref_outfield_big5_2021_raw.to_csv(data_dir_fbref + f'/raw/outfield/2021/' + f'player_big5_2021_raw_latest.csv', index=None, header=True)\n",
    "\n",
    "### 19/20\n",
    "df_fbref_goalkeeper_big5_1920_raw = get_keeper_data('https://fbref.com/en/comps/Big5/2019-2020/','/players/2019-2020-Big-5-European-Leagues-Stats')\n",
    "df_fbref_goalkeeper_big5_1920_raw.to_csv(data_dir_fbref + '/raw/goalkeeper/1920/' + 'goalkeeper_big5_1920_raw.csv', index=None, header=True)\n",
    "\n",
    "### 18/19\n",
    "df_fbref_goalkeeper_big5_1819_raw = get_keeper_data('https://fbref.com/en/comps/Big5/2018-2019/','/players/2018-2019-Big-5-European-Leagues-Stats')\n",
    "df_fbref_goalkeeper_big5_1819_raw.to_csv(data_dir_fbref + '/raw/goalkeeper/1819/' + 'goalkeeper_big5_1819_raw.csv', index=None, header=True)\n",
    "\n",
    "### 17/18\n",
    "df_fbref_goalkeeper_big5_1718_raw = get_keeper_data('https://fbref.com/en/comps/Big5/2017-2018/','/players/2017-2018-Big-5-European-Leagues-Stats')\n",
    "df_fbref_goalkeeper_big5_1718_raw.to_csv(data_dir_fbref + '/raw/goalkeeper/1718/' + 'goalkeeper_big5_1718_raw.csv', index=None, header=True)\n",
    "\n",
    "\n",
    "## End timer\n",
    "toc = datetime.datetime.now()\n",
    "\n",
    "\n",
    "## Calculate time take\n",
    "total_time = (toc-tic).total_seconds()\n",
    "print(f'Time taken to scrape goalkeeper data for the Big 5 leagues is: {total_time:0.2f} seconds.')"
   ]
  },
  {
   "cell_type": "markdown",
   "metadata": {},
   "source": [
    "#### <a id='#section3.4.3'>3.4.3. Preliminary Data Handling</a>\n",
    "Let's quality of the dataset by looking first and last rows in pandas using the [head()](https://pandas.pydata.org/pandas-docs/stable/reference/api/pandas.DataFrame.head.html) and [tail()](https://pandas.pydata.org/pandas-docs/stable/reference/api/pandas.DataFrame.tail.html) methods."
   ]
  },
  {
   "cell_type": "code",
   "execution_count": null,
   "metadata": {},
   "outputs": [],
   "source": [
    "# Display the first 5 rows of the raw DataFrame, df_fbref_goalkeeper_big5_2021_raw\n",
    "df_fbref_goalkeeper_big5_2021_raw.head()"
   ]
  },
  {
   "cell_type": "code",
   "execution_count": null,
   "metadata": {},
   "outputs": [],
   "source": [
    "# Display the last 5 rows of the raw DataFrame, df_fbref_goalkeeper_big5_2021_raw\n",
    "df_fbref_goalkeeper_big5_2021_raw.tail()"
   ]
  },
  {
   "cell_type": "markdown",
   "metadata": {},
   "source": [
    "[shape](https://pandas.pydata.org/pandas-docs/stable/reference/api/pandas.DataFrame.dtypes.html) returns a tuple representing the dimensionality of the DataFrame."
   ]
  },
  {
   "cell_type": "code",
   "execution_count": null,
   "metadata": {},
   "outputs": [],
   "source": [
    "# Print the shape of the raw DataFrame, df_fbref_goalkeeper_big5_2021_raw\n",
    "print(df_fbref_goalkeeper_big5_2021_raw.shape)"
   ]
  },
  {
   "cell_type": "markdown",
   "metadata": {},
   "source": [
    "The raw DataFrame has:\n",
    "*    744 observations (rows), each observation represents one individual tourist stranded in Peru, and\n",
    "*    20 attributes (columns)."
   ]
  },
  {
   "cell_type": "markdown",
   "metadata": {},
   "source": [
    "[columns](https://pandas.pydata.org/pandas-docs/stable/reference/api/pandas.DataFrame.columns.html) returns the column labels of the DataFrame."
   ]
  },
  {
   "cell_type": "code",
   "execution_count": null,
   "metadata": {},
   "outputs": [],
   "source": [
    "# Features (column names) of the raw DataFrame, df_fbref_goalkeeper_big5_2021_raw\n",
    "df_fbref_goalkeeper_big5_2021_raw.columns"
   ]
  },
  {
   "cell_type": "markdown",
   "metadata": {},
   "source": [
    "The [dtypes](https://pandas.pydata.org/pandas-docs/stable/reference/api/pandas.DataFrame.dtypes.html) method returns the data types of each attribute in the DataFrame."
   ]
  },
  {
   "cell_type": "code",
   "execution_count": null,
   "metadata": {
    "scrolled": true
   },
   "outputs": [],
   "source": [
    "# Data types of the features of the raw DataFrame, df_fbref_goalkeeper_big5_2021_raw\n",
    "df_fbref_goalkeeper_big5_2021_raw.dtypes"
   ]
  },
  {
   "cell_type": "code",
   "execution_count": null,
   "metadata": {},
   "outputs": [],
   "source": [
    "# Displays all one hundered and four columns\n",
    "with pd.option_context('display.max_rows', None, 'display.max_columns', None):\n",
    "    print(df_fbref_goalkeeper_big5_2021_raw.dtypes)"
   ]
  },
  {
   "cell_type": "markdown",
   "metadata": {},
   "source": [
    "The [info](https://pandas.pydata.org/pandas-docs/stable/reference/api/pandas.DataFrame.info.html) method to get a quick description of the data, in particular the total number of rows, and each attribute’s type and number of non-null values."
   ]
  },
  {
   "cell_type": "code",
   "execution_count": null,
   "metadata": {},
   "outputs": [],
   "source": [
    "# Info for the raw DataFrame, df_fbref_goalkeeper_big5_2021_raw\n",
    "df_fbref_goalkeeper_big5_2021_raw.info()"
   ]
  },
  {
   "cell_type": "markdown",
   "metadata": {},
   "source": [
    "The [describe](https://pandas.pydata.org/pandas-docs/stable/reference/api/pandas.DataFrame.describe.html) method to show some useful statistics for each numerical column in the DataFrame."
   ]
  },
  {
   "cell_type": "code",
   "execution_count": null,
   "metadata": {},
   "outputs": [],
   "source": [
    "# Description of the raw DataFrame, df_fbref_goalkeeper_big5_2021_raw, showing some summary statistics for each numberical column in the DataFrame\n",
    "df_fbref_goalkeeper_big5_2021_raw.describe()"
   ]
  },
  {
   "cell_type": "markdown",
   "metadata": {},
   "source": [
    "Next, we will check to see how many missing values we have i.e. the number of NULL values in the dataset, and in what features these missing values are located. This can be plotted nicely using the [missingno](https://pypi.org/project/missingno/) library (pip install missingno)."
   ]
  },
  {
   "cell_type": "code",
   "execution_count": null,
   "metadata": {},
   "outputs": [],
   "source": [
    "# Plot visualisation of the missing values for each feature of the raw DataFrame, df_fbref_goalkeeper_big5_2021_raw\n",
    "msno.matrix(df_fbref_goalkeeper_big5_2021_raw, figsize = (30, 7))"
   ]
  },
  {
   "cell_type": "code",
   "execution_count": null,
   "metadata": {},
   "outputs": [],
   "source": [
    "# Counts of missing values\n",
    "null_value_stats = df_fbref_goalkeeper_big5_2021_raw.isnull().sum(axis=0)\n",
    "null_value_stats[null_value_stats != 0]"
   ]
  },
  {
   "cell_type": "markdown",
   "metadata": {},
   "source": [
    "The visualisation shows us very quickly that there are no missing values in the dataset."
   ]
  },
  {
   "cell_type": "markdown",
   "metadata": {},
   "source": [
    "## <a id='#section4'>4. Summary</a>\n",
    "This notebook scrapes player statstics data from [StatsBomb](https://statsbomb.com/) via [FBref.com](https://fbref.com/en/), using [pandas](http://pandas.pydata.org/) for data manipulation through DataFrames, [Beautifulsoup](https://pypi.org/project/beautifulsoup4/) for webscraping.\n",
    "\n",
    "With this notebook we now have aggregated player performance data for players in the 'Big 5' European leagues for the 17/18-present seasons."
   ]
  },
  {
   "cell_type": "markdown",
   "metadata": {},
   "source": [
    "## <a id='#section5'>5. Next Steps</a>\n",
    "This data is now ready to be exported and analysed in further Jupyter notebooks or Tableau.\n",
    "\n",
    "The Data Engineering subfolder in GitHub can be found [here](https://github.com/eddwebster/football_analytics/tree/master/notebooks/B\\)%20Data%20Engineering) and a static version of the record linkage notebook in which the FBref data is joined to TransferMarkt data can be found [here](https://nbviewer.jupyter.org/github/eddwebster/football_analytics/blob/master/notebooks/B%29%20Data%20Engineering/Record%20Linkage%20of%20FBref%20and%20TransferMarkt%20Datasets.ipynb)."
   ]
  },
  {
   "cell_type": "markdown",
   "metadata": {},
   "source": [
    "## <a id='#section6'>6. References</a>\n",
    "\n",
    "#### Data and Web Scraping\n",
    "*    [FBref](https://fbref.com/) for the data to scrape\n",
    "*    FBref statement for using StatsBomb's data: https://fbref.com/en/statsbomb/\n",
    "*    [StatsBomb](https://statsbomb.com/) providing the data to FBref\n",
    "*    [FBref_EPL GitHub repository](https://github.com/chmartin/FBref_EPL) by [chmartin](https://github.com/chmartin) for the original web scraping code\n",
    "*    [Scrape-FBref-data GitHub repository](https://github.com/parth1902/Scrape-FBref-data) by [parth1902](https://github.com/parth1902) for the revised web scraping code for the new FBref metrics\n",
    "\n",
    "\n",
    "#### Countries\n",
    "*    [Comparison of alphabetic country codes Wiki](https://en.wikipedia.org/wiki/Comparison_of_alphabetic_country_codes)"
   ]
  },
  {
   "cell_type": "markdown",
   "metadata": {},
   "source": [
    "---\n",
    "\n",
    "***Visit my website [EddWebster.com](https://www.eddwebster.com) or my [GitHub Repository](https://github.com/eddwebster) for more projects. If you'd like to get in contact, my Twitter handle is [@eddwebster](http://www.twitter.com/eddwebster) and my email is: edd.j.webster@gmail.com.***"
   ]
  },
  {
   "cell_type": "markdown",
   "metadata": {},
   "source": [
    "[Back to the top](#top)"
   ]
  }
 ],
 "metadata": {
  "kernelspec": {
   "display_name": "Python 3",
   "language": "python",
   "name": "python3"
  },
  "language_info": {
   "codemirror_mode": {
    "name": "ipython",
    "version": 3
   },
   "file_extension": ".py",
   "mimetype": "text/x-python",
   "name": "python",
   "nbconvert_exporter": "python",
   "pygments_lexer": "ipython3",
   "version": "3.7.6"
  },
  "varInspector": {
   "cols": {
    "lenName": 16,
    "lenType": 16,
    "lenVar": 40
   },
   "kernels_config": {
    "python": {
     "delete_cmd_postfix": "",
     "delete_cmd_prefix": "del ",
     "library": "var_list.py",
     "varRefreshCmd": "print(var_dic_list())"
    },
    "r": {
     "delete_cmd_postfix": ") ",
     "delete_cmd_prefix": "rm(",
     "library": "var_list.r",
     "varRefreshCmd": "cat(var_dic_list()) "
    }
   },
   "oldHeight": 642,
   "position": {
    "height": "664px",
    "left": "1119px",
    "right": "20px",
    "top": "-7px",
    "width": "489px"
   },
   "types_to_exclude": [
    "module",
    "function",
    "builtin_function_or_method",
    "instance",
    "_Feature"
   ],
   "varInspector_section_display": "block",
   "window_display": false
  }
 },
 "nbformat": 4,
 "nbformat_minor": 2
}
